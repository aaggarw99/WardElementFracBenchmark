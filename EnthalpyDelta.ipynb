{
 "cells": [
  {
   "cell_type": "markdown",
   "metadata": {},
   "source": [
    "# Enthalpy Delta Prediction\n",
    "By removing all compositions with a certain element in it (in this case, Aluminum), what is the accuracy of predicting enthalpy delta of compositions with Aluminum in them?"
   ]
  },
  {
   "cell_type": "code",
   "execution_count": 1,
   "metadata": {
    "collapsed": true
   },
   "outputs": [],
   "source": [
    "import numpy as np\n",
    "import matplotlib.pyplot as plt\n",
    "import re\n",
    "import itertools\n",
    "import pandas as pd\n",
    "import matminer\n",
    "import sys\n",
    "sys.path.append(\"/Users/Ashwin/Desktop/git/matminer\")\n",
    "from pymatgen import Composition, Element\n",
    "from matminer.descriptors.composition_features import ElementFractionAttribute\n",
    "from sklearn.ensemble import RandomForestClassifier, RandomForestRegressor, BaggingClassifier\n",
    "from sklearn.tree import DecisionTreeClassifier, DecisionTreeRegressor\n",
    "from sklearn.model_selection import train_test_split, cross_val_score, KFold\n",
    "from sklearn import datasets\n",
    "from sklearn import svm\n",
    "import datetime\n",
    "from sklearn.multiclass import OneVsRestClassifier\n",
    "%matplotlib inline"
   ]
  },
  {
   "cell_type": "code",
   "execution_count": 2,
   "metadata": {
    "collapsed": true
   },
   "outputs": [],
   "source": [
    "training_file = 'data/oqmd_all.csv'"
   ]
  },
  {
   "cell_type": "code",
   "execution_count": 165,
   "metadata": {},
   "outputs": [
    {
     "data": {
      "text/html": [
       "<div>\n",
       "<style>\n",
       "    .dataframe thead tr:only-child th {\n",
       "        text-align: right;\n",
       "    }\n",
       "\n",
       "    .dataframe thead th {\n",
       "        text-align: left;\n",
       "    }\n",
       "\n",
       "    .dataframe tbody tr th {\n",
       "        vertical-align: top;\n",
       "    }\n",
       "</style>\n",
       "<table border=\"1\" class=\"dataframe\">\n",
       "  <thead>\n",
       "    <tr style=\"text-align: right;\">\n",
       "      <th></th>\n",
       "      <th>comp</th>\n",
       "      <th>energy_pa</th>\n",
       "      <th>volume_pa</th>\n",
       "      <th>magmom_pa</th>\n",
       "      <th>bandgap</th>\n",
       "      <th>delta_e</th>\n",
       "      <th>stability</th>\n",
       "      <th>comp_obj</th>\n",
       "    </tr>\n",
       "  </thead>\n",
       "  <tbody>\n",
       "    <tr>\n",
       "      <th>0</th>\n",
       "      <td>Li1</td>\n",
       "      <td>-1.892002</td>\n",
       "      <td>17.8351</td>\n",
       "      <td>NaN</td>\n",
       "      <td>0.000</td>\n",
       "      <td>0.004605</td>\n",
       "      <td>0.004605</td>\n",
       "      <td>(Li)</td>\n",
       "    </tr>\n",
       "    <tr>\n",
       "      <th>1</th>\n",
       "      <td>Mg1</td>\n",
       "      <td>-1.539604</td>\n",
       "      <td>22.9639</td>\n",
       "      <td>NaN</td>\n",
       "      <td>0.000</td>\n",
       "      <td>0.002719</td>\n",
       "      <td>0.002719</td>\n",
       "      <td>(Mg)</td>\n",
       "    </tr>\n",
       "    <tr>\n",
       "      <th>2</th>\n",
       "      <td>Kr1</td>\n",
       "      <td>0.011256</td>\n",
       "      <td>41.4146</td>\n",
       "      <td>NaN</td>\n",
       "      <td>7.367</td>\n",
       "      <td>0.015315</td>\n",
       "      <td>0.015315</td>\n",
       "      <td>(Kr)</td>\n",
       "    </tr>\n",
       "    <tr>\n",
       "      <th>3</th>\n",
       "      <td>Na1</td>\n",
       "      <td>-1.299101</td>\n",
       "      <td>32.9826</td>\n",
       "      <td>NaN</td>\n",
       "      <td>0.000</td>\n",
       "      <td>0.003780</td>\n",
       "      <td>0.003780</td>\n",
       "      <td>(Na)</td>\n",
       "    </tr>\n",
       "    <tr>\n",
       "      <th>4</th>\n",
       "      <td>Pd1</td>\n",
       "      <td>-5.158533</td>\n",
       "      <td>15.2088</td>\n",
       "      <td>NaN</td>\n",
       "      <td>0.000</td>\n",
       "      <td>0.018186</td>\n",
       "      <td>0.018186</td>\n",
       "      <td>(Pd)</td>\n",
       "    </tr>\n",
       "  </tbody>\n",
       "</table>\n",
       "</div>"
      ],
      "text/plain": [
       "  comp  energy_pa  volume_pa  magmom_pa  bandgap   delta_e  stability comp_obj\n",
       "0  Li1  -1.892002    17.8351        NaN    0.000  0.004605   0.004605     (Li)\n",
       "1  Mg1  -1.539604    22.9639        NaN    0.000  0.002719   0.002719     (Mg)\n",
       "2  Kr1   0.011256    41.4146        NaN    7.367  0.015315   0.015315     (Kr)\n",
       "3  Na1  -1.299101    32.9826        NaN    0.000  0.003780   0.003780     (Na)\n",
       "4  Pd1  -5.158533    15.2088        NaN    0.000  0.018186   0.018186     (Pd)"
      ]
     },
     "execution_count": 165,
     "metadata": {},
     "output_type": "execute_result"
    }
   ],
   "source": [
    "training_set = pd.read_csv(training_file, delim_whitespace=True, na_values=[\"None\", np.inf])\n",
    "comp_objects = [Composition(comp) for comp in training_set[\"comp\"]]\n",
    "training_set = training_set.assign(comp_obj=comp_objects)\n",
    "training_set.head()"
   ]
  },
  {
   "cell_type": "code",
   "execution_count": 166,
   "metadata": {},
   "outputs": [
    {
     "name": "stdout",
     "output_type": "stream",
     "text": [
      "CPU times: user 4min, sys: 1.86 s, total: 4min 2s\n",
      "Wall time: 4min 4s\n"
     ]
    }
   ],
   "source": [
    "%%time\n",
    "training_set['is_groundstate'] = False\n",
    "for gid, group in training_set.groupby('comp'):\n",
    "    if group.shape[0] > 1:\n",
    "        group = group.sort_values('energy_pa', ascending=True)    \n",
    "    training_set.loc[group.iloc[0].name, 'is_groundstate'] = True"
   ]
  },
  {
   "cell_type": "code",
   "execution_count": 167,
   "metadata": {
    "collapsed": true
   },
   "outputs": [],
   "source": [
    "training_set = training_set[training_set['is_groundstate']]"
   ]
  },
  {
   "cell_type": "code",
   "execution_count": 168,
   "metadata": {
    "collapsed": true
   },
   "outputs": [],
   "source": [
    "def calc_attributes(training_set):\n",
    "    training_set_updated = ElementFractionAttribute().featurize_dataframe(training_set, col_id='comp_obj')\n",
    "    return training_set_updated\n",
    "training_set = calc_attributes(training_set)"
   ]
  },
  {
   "cell_type": "code",
   "execution_count": 169,
   "metadata": {},
   "outputs": [
    {
     "data": {
      "text/html": [
       "<div>\n",
       "<style>\n",
       "    .dataframe thead tr:only-child th {\n",
       "        text-align: right;\n",
       "    }\n",
       "\n",
       "    .dataframe thead th {\n",
       "        text-align: left;\n",
       "    }\n",
       "\n",
       "    .dataframe tbody tr th {\n",
       "        vertical-align: top;\n",
       "    }\n",
       "</style>\n",
       "<table border=\"1\" class=\"dataframe\">\n",
       "  <thead>\n",
       "    <tr style=\"text-align: right;\">\n",
       "      <th></th>\n",
       "      <th>comp</th>\n",
       "      <th>energy_pa</th>\n",
       "      <th>volume_pa</th>\n",
       "      <th>magmom_pa</th>\n",
       "      <th>bandgap</th>\n",
       "      <th>delta_e</th>\n",
       "      <th>stability</th>\n",
       "      <th>comp_obj</th>\n",
       "      <th>is_groundstate</th>\n",
       "      <th>Ac</th>\n",
       "      <th>...</th>\n",
       "      <th>Tl</th>\n",
       "      <th>Tm</th>\n",
       "      <th>U</th>\n",
       "      <th>V</th>\n",
       "      <th>W</th>\n",
       "      <th>Xe</th>\n",
       "      <th>Y</th>\n",
       "      <th>Yb</th>\n",
       "      <th>Zn</th>\n",
       "      <th>Zr</th>\n",
       "    </tr>\n",
       "  </thead>\n",
       "  <tbody>\n",
       "    <tr>\n",
       "      <th>25</th>\n",
       "      <td>Rb1</td>\n",
       "      <td>-0.963073</td>\n",
       "      <td>89.6163</td>\n",
       "      <td>NaN</td>\n",
       "      <td>0.000</td>\n",
       "      <td>0.0</td>\n",
       "      <td>0.0</td>\n",
       "      <td>(Rb)</td>\n",
       "      <td>True</td>\n",
       "      <td>0.0</td>\n",
       "      <td>...</td>\n",
       "      <td>0.0</td>\n",
       "      <td>0.0</td>\n",
       "      <td>0.0</td>\n",
       "      <td>0.0</td>\n",
       "      <td>0.0</td>\n",
       "      <td>0.0</td>\n",
       "      <td>0.0</td>\n",
       "      <td>0.0</td>\n",
       "      <td>0.0</td>\n",
       "      <td>0.0</td>\n",
       "    </tr>\n",
       "    <tr>\n",
       "      <th>69</th>\n",
       "      <td>V1</td>\n",
       "      <td>-8.940979</td>\n",
       "      <td>13.1686</td>\n",
       "      <td>0.002313</td>\n",
       "      <td>0.000</td>\n",
       "      <td>0.0</td>\n",
       "      <td>0.0</td>\n",
       "      <td>(V)</td>\n",
       "      <td>True</td>\n",
       "      <td>0.0</td>\n",
       "      <td>...</td>\n",
       "      <td>0.0</td>\n",
       "      <td>0.0</td>\n",
       "      <td>0.0</td>\n",
       "      <td>1.0</td>\n",
       "      <td>0.0</td>\n",
       "      <td>0.0</td>\n",
       "      <td>0.0</td>\n",
       "      <td>0.0</td>\n",
       "      <td>0.0</td>\n",
       "      <td>0.0</td>\n",
       "    </tr>\n",
       "    <tr>\n",
       "      <th>70</th>\n",
       "      <td>Ne1</td>\n",
       "      <td>-0.029318</td>\n",
       "      <td>22.2120</td>\n",
       "      <td>NaN</td>\n",
       "      <td>11.657</td>\n",
       "      <td>0.0</td>\n",
       "      <td>NaN</td>\n",
       "      <td>(Ne)</td>\n",
       "      <td>True</td>\n",
       "      <td>0.0</td>\n",
       "      <td>...</td>\n",
       "      <td>0.0</td>\n",
       "      <td>0.0</td>\n",
       "      <td>0.0</td>\n",
       "      <td>0.0</td>\n",
       "      <td>0.0</td>\n",
       "      <td>0.0</td>\n",
       "      <td>0.0</td>\n",
       "      <td>0.0</td>\n",
       "      <td>0.0</td>\n",
       "      <td>0.0</td>\n",
       "    </tr>\n",
       "    <tr>\n",
       "      <th>74</th>\n",
       "      <td>Rh1</td>\n",
       "      <td>-7.269405</td>\n",
       "      <td>13.9855</td>\n",
       "      <td>-0.014167</td>\n",
       "      <td>0.000</td>\n",
       "      <td>0.0</td>\n",
       "      <td>0.0</td>\n",
       "      <td>(Rh)</td>\n",
       "      <td>True</td>\n",
       "      <td>0.0</td>\n",
       "      <td>...</td>\n",
       "      <td>0.0</td>\n",
       "      <td>0.0</td>\n",
       "      <td>0.0</td>\n",
       "      <td>0.0</td>\n",
       "      <td>0.0</td>\n",
       "      <td>0.0</td>\n",
       "      <td>0.0</td>\n",
       "      <td>0.0</td>\n",
       "      <td>0.0</td>\n",
       "      <td>0.0</td>\n",
       "    </tr>\n",
       "    <tr>\n",
       "      <th>83</th>\n",
       "      <td>Ir1</td>\n",
       "      <td>-8.854920</td>\n",
       "      <td>14.4652</td>\n",
       "      <td>0.003235</td>\n",
       "      <td>0.000</td>\n",
       "      <td>0.0</td>\n",
       "      <td>0.0</td>\n",
       "      <td>(Ir)</td>\n",
       "      <td>True</td>\n",
       "      <td>0.0</td>\n",
       "      <td>...</td>\n",
       "      <td>0.0</td>\n",
       "      <td>0.0</td>\n",
       "      <td>0.0</td>\n",
       "      <td>0.0</td>\n",
       "      <td>0.0</td>\n",
       "      <td>0.0</td>\n",
       "      <td>0.0</td>\n",
       "      <td>0.0</td>\n",
       "      <td>0.0</td>\n",
       "      <td>0.0</td>\n",
       "    </tr>\n",
       "  </tbody>\n",
       "</table>\n",
       "<p>5 rows × 112 columns</p>\n",
       "</div>"
      ],
      "text/plain": [
       "   comp  energy_pa  volume_pa  magmom_pa  bandgap  delta_e  stability  \\\n",
       "25  Rb1  -0.963073    89.6163        NaN    0.000      0.0        0.0   \n",
       "69   V1  -8.940979    13.1686   0.002313    0.000      0.0        0.0   \n",
       "70  Ne1  -0.029318    22.2120        NaN   11.657      0.0        NaN   \n",
       "74  Rh1  -7.269405    13.9855  -0.014167    0.000      0.0        0.0   \n",
       "83  Ir1  -8.854920    14.4652   0.003235    0.000      0.0        0.0   \n",
       "\n",
       "   comp_obj  is_groundstate   Ac ...    Tl   Tm    U    V    W   Xe    Y   Yb  \\\n",
       "25     (Rb)            True  0.0 ...   0.0  0.0  0.0  0.0  0.0  0.0  0.0  0.0   \n",
       "69      (V)            True  0.0 ...   0.0  0.0  0.0  1.0  0.0  0.0  0.0  0.0   \n",
       "70     (Ne)            True  0.0 ...   0.0  0.0  0.0  0.0  0.0  0.0  0.0  0.0   \n",
       "74     (Rh)            True  0.0 ...   0.0  0.0  0.0  0.0  0.0  0.0  0.0  0.0   \n",
       "83     (Ir)            True  0.0 ...   0.0  0.0  0.0  0.0  0.0  0.0  0.0  0.0   \n",
       "\n",
       "     Zn   Zr  \n",
       "25  0.0  0.0  \n",
       "69  0.0  0.0  \n",
       "70  0.0  0.0  \n",
       "74  0.0  0.0  \n",
       "83  0.0  0.0  \n",
       "\n",
       "[5 rows x 112 columns]"
      ]
     },
     "execution_count": 169,
     "metadata": {},
     "output_type": "execute_result"
    }
   ],
   "source": [
    "training_set.head()"
   ]
  },
  {
   "cell_type": "code",
   "execution_count": 170,
   "metadata": {
    "collapsed": true
   },
   "outputs": [],
   "source": [
    "cols_to_drop = ['comp', 'energy_pa', 'volume_pa', 'magmom_pa', 'bandgap', 'stability', 'comp_obj', 'is_groundstate', 'delta_e']"
   ]
  },
  {
   "cell_type": "code",
   "execution_count": 171,
   "metadata": {},
   "outputs": [
    {
     "name": "stderr",
     "output_type": "stream",
     "text": [
      "/Library/Frameworks/Python.framework/Versions/3.6/lib/python3.6/site-packages/pymatgen/core/periodic_table.py:398: UserWarning: No electronegativity for Ne. Setting to infinity. This has no physical meaning, and is mainly done to avoid errors caused by the code expecting a float.\n",
      "  % self.symbol)\n",
      "/Library/Frameworks/Python.framework/Versions/3.6/lib/python3.6/site-packages/pymatgen/core/periodic_table.py:398: UserWarning: No electronegativity for Ar. Setting to infinity. This has no physical meaning, and is mainly done to avoid errors caused by the code expecting a float.\n",
      "  % self.symbol)\n",
      "/Library/Frameworks/Python.framework/Versions/3.6/lib/python3.6/site-packages/pymatgen/core/periodic_table.py:398: UserWarning: No electronegativity for He. Setting to infinity. This has no physical meaning, and is mainly done to avoid errors caused by the code expecting a float.\n",
      "  % self.symbol)\n"
     ]
    }
   ],
   "source": [
    "min_value = training_set.min().delta_e\n",
    "training_set.replace(min_value, np.nan, inplace=True)\n",
    "training_set.dropna(inplace=True)"
   ]
  },
  {
   "cell_type": "markdown",
   "metadata": {},
   "source": [
    "# Benchmark Random Forest + KFold Validation"
   ]
  },
  {
   "cell_type": "code",
   "execution_count": 115,
   "metadata": {},
   "outputs": [
    {
     "data": {
      "text/plain": [
       "array(['p', 'p', 'p', ..., 'n', 'n', 'n'], \n",
       "      dtype='<U1')"
      ]
     },
     "execution_count": 115,
     "metadata": {},
     "output_type": "execute_result"
    }
   ],
   "source": [
    "#Descretize into pos/neg formation energy\n",
    "\n",
    "delta_e = np.array(training_set['delta_e'], dtype=float)\n",
    "#will hold pos/neg for each element in delta_e\n",
    "energy_range = np.zeros(np.shape(delta_e), dtype=str)\n",
    "for i in range(len(delta_e)):\n",
    "    if delta_e[i] < 0:\n",
    "        energy_range[i] = 'neg'\n",
    "    else:\n",
    "        energy_range[i] = 'pos'\n",
    "energy_range"
   ]
  },
  {
   "cell_type": "code",
   "execution_count": 116,
   "metadata": {
    "collapsed": true
   },
   "outputs": [],
   "source": [
    "rfc = RandomForestClassifier(n_estimators=10, criterion='gini', min_samples_split=2, n_jobs=-1)\n",
    "rfc.fit(training_set.drop(cols_to_drop, axis=1), energy_range)\n",
    "rfc_prediction = rfc.predict(training_set.drop(cols_to_drop, axis=1))"
   ]
  },
  {
   "cell_type": "code",
   "execution_count": 117,
   "metadata": {},
   "outputs": [
    {
     "name": "stdout",
     "output_type": "stream",
     "text": [
      "Average Score:  0.916052291982  and standard deviation of:  0.00284224203738\n",
      "CPU times: user 48.9 s, sys: 2 s, total: 50.9 s\n",
      "Wall time: 19.8 s\n"
     ]
    }
   ],
   "source": [
    "%%time\n",
    "from sklearn.model_selection import ShuffleSplit\n",
    "clf = svm.SVC(kernel='linear', C=1e3)\n",
    "cv = ShuffleSplit(n_splits=10, test_size=0.3, random_state =0)\n",
    "scores = cross_val_score(rfc, training_set.drop(cols_to_drop, axis=1), energy_range, cv=cv)\n",
    "print(\"Average Score: \", scores.mean(), \" and standard deviation of: \", scores.std())"
   ]
  },
  {
   "cell_type": "markdown",
   "metadata": {},
   "source": [
    "# Split Dataset by Element"
   ]
  },
  {
   "cell_type": "code",
   "execution_count": 174,
   "metadata": {},
   "outputs": [],
   "source": [
    "def get_elements(comp):\n",
    "    return comp.elements\n",
    "\n",
    "def split_by_element(training_set, element):\n",
    "    \"\"\"\n",
    "    Splits dataframe into two datasets: one without the element inputted and the other with. Provides datasets for machine learning models.\n",
    "    \n",
    "    Args:\n",
    "        training_set: pandas data frame containing training data\n",
    "        element: string represenation of an element\n",
    "    Returns:\n",
    "        Two dataframes -- one with compounds with the element in it, the other without\n",
    "    \"\"\"\n",
    "    #print(training_set.head())\n",
    "    #for comp in training_set['comp_obj']:\n",
    "        #if Element(element) in comp.elements:\n",
    "        \n",
    "    training_set['els'] = training_set['comp_obj'].apply(get_elements)\n",
    "    training_set['is_in'] = False\n",
    "    for count, el_list in enumerate(training_set['els']):\n",
    "        if Element(element) in el_list:\n",
    "            training_set.iloc[count, training_set.columns.get_loc('is_in')] = True\n",
    "    \n",
    "    with_element = training_set[training_set['is_in']]\n",
    "    without_element = training_set[training_set['is_in'] == False]\n",
    "    return with_element, without_element"
   ]
  },
  {
   "cell_type": "code",
   "execution_count": 154,
   "metadata": {},
   "outputs": [
    {
     "name": "stdout",
     "output_type": "stream",
     "text": [
      "CPU times: user 2.85 s, sys: 170 ms, total: 3.02 s\n",
      "Wall time: 3.11 s\n"
     ]
    }
   ],
   "source": [
    "%%time\n",
    "#Predict Enthalpy Delta given training data without Aluminum in it\n",
    "with_, without = split_by_element(training_set, 'Al')"
   ]
  },
  {
   "cell_type": "code",
   "execution_count": 175,
   "metadata": {},
   "outputs": [],
   "source": [
    "cols_to_drop += ['els', 'is_in']"
   ]
  },
  {
   "cell_type": "code",
   "execution_count": 176,
   "metadata": {},
   "outputs": [],
   "source": [
    "def create_ranges(without, with_):\n",
    "    # Training data\n",
    "\n",
    "    #Discrete into pos/neg formation energy for regression\n",
    "    delta_e_without = np.array(without['delta_e'], dtype=float)\n",
    "    #pos/neg values for classification\n",
    "    energy_range_without = np.zeros(np.shape(delta_e_without), dtype=str)\n",
    "    for i in range(len(delta_e_without)):\n",
    "        if delta_e_without[i] < 0:\n",
    "            energy_range_without[i] = 'neg'\n",
    "        else:\n",
    "            energy_range_without[i] = 'pos'\n",
    "\n",
    "    # Prediction data\n",
    "    delta_e_with = np.array(with_['delta_e'], dtype=float)\n",
    "    energy_range_with = np.zeros(np.shape(delta_e_with), dtype=str)\n",
    "    for i in range(len(delta_e_with)):\n",
    "        if delta_e_with[i] < 0:\n",
    "            energy_range_with[i] = 'neg'\n",
    "        else:\n",
    "            energy_range_with[i] = 'pos'\n",
    "            \n",
    "    return delta_e_without, energy_range_without, delta_e_with, energy_range_with"
   ]
  },
  {
   "cell_type": "code",
   "execution_count": 157,
   "metadata": {
    "collapsed": true
   },
   "outputs": [],
   "source": [
    "delta_e_without, energy_range_without, delta_e_with, energy_range_with = create_ranges(without, with_)"
   ]
  },
  {
   "cell_type": "markdown",
   "metadata": {},
   "source": [
    "# Classification"
   ]
  },
  {
   "cell_type": "markdown",
   "metadata": {},
   "source": [
    "Labels = energy_range_without <br>\n",
    "Samples = without.drop(cols_to_drop, axis=1)"
   ]
  },
  {
   "cell_type": "markdown",
   "metadata": {},
   "source": [
    "### Random Forest Classifier"
   ]
  },
  {
   "cell_type": "code",
   "execution_count": 191,
   "metadata": {
    "collapsed": true
   },
   "outputs": [],
   "source": [
    "import math\n",
    "def rfc(without, with_, energy_range_without, energy_range_with):\n",
    "    \"\"\"\n",
    "    Returns r1 score and r2 score\n",
    "    \"\"\"\n",
    "    \n",
    "    rfc = RandomForestClassifier(n_estimators=100, criterion='gini', min_samples_split=2, n_jobs=-1)\n",
    "    rfc.fit(without.drop(cols_to_drop, axis=1), energy_range_without)\n",
    "    rfc_prediction = rfc.predict(with_.drop(cols_to_drop, axis=1))\n",
    "    r2_score = rfc.score(with_.drop(cols_to_drop, axis=1), energy_range_with)\n",
    "    r1_score = math.sqrt(r2_score)\n",
    "    print(pd.crosstab(energy_range_with, rfc_prediction, rownames=['actual'], colnames=['predicted']))\n",
    "    return r1_score, r2_score\n"
   ]
  },
  {
   "cell_type": "code",
   "execution_count": 182,
   "metadata": {},
   "outputs": [
    {
     "name": "stdout",
     "output_type": "stream",
     "text": [
      "(115304, 114) (3513, 114) (115304,)\n",
      "R^2:  0.706803302021\n",
      "predicted    n     p\n",
      "actual              \n",
      "n          683   942\n",
      "p           88  1800\n"
     ]
    }
   ],
   "source": [
    "r1, r2 = rfc(without, with_, energy_range_without, energy_range_with)"
   ]
  },
  {
   "cell_type": "markdown",
   "metadata": {},
   "source": [
    "### Decision Tree Classifier"
   ]
  },
  {
   "cell_type": "code",
   "execution_count": 178,
   "metadata": {
    "collapsed": true
   },
   "outputs": [],
   "source": [
    "def dtc(without, with_, energy_range_without, energy_range_with):\n",
    "    dtc = DecisionTreeClassifier()\n",
    "    dtc.fit(without.drop(cols_to_drop, axis=1), energy_range_without)\n",
    "    dtc_prediction = dtc.predict(with_.drop(cols_to_drop, axis=1))\n",
    "    print(\"R^2: \", dtc.score(with_.drop(cols_to_drop, axis=1), energy_range_with))\n",
    "    print(pd.crosstab(energy_range_with, dtc_prediction, rownames=['actual'], colnames=['predicted']))"
   ]
  },
  {
   "cell_type": "code",
   "execution_count": 146,
   "metadata": {},
   "outputs": [
    {
     "name": "stdout",
     "output_type": "stream",
     "text": [
      "R^2:  0.701110162254\n",
      "predicted    n     p\n",
      "actual              \n",
      "n          630   995\n",
      "p           55  1833\n"
     ]
    }
   ],
   "source": [
    "dtc(without, with_, energy_range_without, energy_range_with)"
   ]
  },
  {
   "cell_type": "markdown",
   "metadata": {},
   "source": [
    "# Regression"
   ]
  },
  {
   "cell_type": "markdown",
   "metadata": {},
   "source": [
    "### Random Forest Regressor"
   ]
  },
  {
   "cell_type": "code",
   "execution_count": 140,
   "metadata": {
    "collapsed": true
   },
   "outputs": [],
   "source": [
    "def rfr(without, with_, delta_e_without, delta_e_with):\n",
    "    rf_model = RandomForestRegressor(n_jobs=-1)\n",
    "    rf_model.fit(without.drop(cols_to_drop, axis=1), delta_e_without)\n",
    "    rf_prediction = rf_model.predict(with_.drop(cols_to_drop, axis=1))\n",
    "    print(\"R^2: \", rf_model.score(with_.drop(cols_to_drop, axis=1), delta_e_with))\n",
    "    plt.scatter(delta_e_with, rf_prediction)\n",
    "    plt.plot(range(-5, 8), range(-5, 8), 'r')\n",
    "    plt.xlabel(\"OQMD Data\")\n",
    "    plt.ylabel(\"Predicted\")\n",
    "    plt.show()"
   ]
  },
  {
   "cell_type": "code",
   "execution_count": 141,
   "metadata": {},
   "outputs": [
    {
     "name": "stdout",
     "output_type": "stream",
     "text": [
      "R^2:  0.80531214938\n"
     ]
    },
    {
     "data": {
      "image/png": "[encoded data removed]",
      "text/plain": [
       "<matplotlib.figure.Figure at 0x10fa1e588>"
      ]
     },
     "metadata": {},
     "output_type": "display_data"
    }
   ],
   "source": [
    "rfr(without, with_, delta_e_without, delta_e_with)"
   ]
  },
  {
   "cell_type": "markdown",
   "metadata": {},
   "source": [
    "### Decision Tree Regressor"
   ]
  },
  {
   "cell_type": "code",
   "execution_count": 143,
   "metadata": {
    "collapsed": true
   },
   "outputs": [],
   "source": [
    "def dtr(without, with_, delta_e_without, delta_e_with):\n",
    "    dt_model = DecisionTreeRegressor()\n",
    "    dt_model.fit(without.drop(cols_to_drop, axis=1), delta_e_without)\n",
    "    dt_prediction = dt_model.predict(with_.drop(cols_to_drop, axis=1))\n",
    "    print(\"R^2: \", dt_model.score(with_.drop(cols_to_drop, axis=1), delta_e_with))\n",
    "    plt.scatter(delta_e_with, dt_prediction)\n",
    "    plt.plot(range(-5, 8), range(-5, 8), 'r')\n",
    "    plt.xlabel(\"OQMD Data\")\n",
    "    plt.ylabel(\"Predicted\")\n",
    "    plt.show()"
   ]
  },
  {
   "cell_type": "code",
   "execution_count": 144,
   "metadata": {},
   "outputs": [
    {
     "name": "stdout",
     "output_type": "stream",
     "text": [
      "R^2:  0.754004209846\n"
     ]
    },
    {
     "data": {
      "image/png": "[encoded data removed]",
      "text/plain": [
       "<matplotlib.figure.Figure at 0x1040f0e80>"
      ]
     },
     "metadata": {},
     "output_type": "display_data"
    }
   ],
   "source": [
    "dtr(without, with_, delta_e_without, delta_e_with)"
   ]
  },
  {
   "cell_type": "markdown",
   "metadata": {},
   "source": [
    "# Run Split-by Validation on All Elements"
   ]
  },
  {
   "cell_type": "code",
   "execution_count": 204,
   "metadata": {
    "collapsed": true
   },
   "outputs": [],
   "source": [
    "def all_el_split():\n",
    "    index = ['r1', 'r2']\n",
    "    rfc_stats = pd.DataFrame(index=index)\n",
    "    print(rfc_stats.head())\n",
    "    for i in range(1, 104):\n",
    "        el = Element.from_Z(i).symbol\n",
    "        print(el)\n",
    "        with_, without = split_by_element(training_set, el)\n",
    "        if with_.shape[0] == 0:\n",
    "            continue\n",
    "        delta_e_without, energy_range_without, delta_e_with, energy_range_with = create_ranges(without, with_)\n",
    "        r1, r2 = rfc(without, with_, energy_range_without, energy_range_with)\n",
    "        arr = [r1, r2]\n",
    "        rfc_stats[el] = pd.Series(arr).values \n",
    "        \n",
    "    return rfc_stats"
   ]
  },
  {
   "cell_type": "code",
   "execution_count": 207,
   "metadata": {},
   "outputs": [
    {
     "name": "stdout",
     "output_type": "stream",
     "text": [
      "Empty DataFrame\n",
      "Columns: []\n",
      "Index: [r1, r2]\n",
      "H\n",
      "predicted    n    p\n",
      "actual             \n",
      "n          396  122\n",
      "p            7   36\n",
      "He\n",
      "Li\n",
      "predicted     n     p\n",
      "actual               \n",
      "n          1081    98\n",
      "p            95  2803\n",
      "Be\n",
      "predicted    n     p\n",
      "actual              \n",
      "n          210   151\n",
      "p          123  2007\n",
      "B\n",
      "predicted    n     p\n",
      "actual              \n",
      "n          446   289\n",
      "p          226  2280\n",
      "C\n",
      "predicted    n    p\n",
      "actual             \n",
      "n          337  210\n",
      "p           64   69\n",
      "N\n",
      "predicted    n    p\n",
      "actual             \n",
      "n          268  242\n",
      "p           70   43\n",
      "O\n",
      "predicted     n     p\n",
      "actual               \n",
      "n          3012  5468\n",
      "p            33    16\n",
      "F\n",
      "predicted    n    p\n",
      "actual             \n",
      "n          237  440\n",
      "p            4    4\n",
      "Ne\n",
      "Na\n",
      "predicted    n     p\n",
      "actual              \n",
      "n          673     7\n",
      "p          492  3786\n",
      "Mg\n",
      "predicted    n     p\n",
      "actual              \n",
      "n          672   176\n",
      "p          144  2679\n",
      "Al\n",
      "predicted    n     p\n",
      "actual              \n",
      "n          688   937\n",
      "p           84  1804\n",
      "Si\n",
      "predicted    n     p\n",
      "actual              \n",
      "n          782  1221\n",
      "p          115  1767\n",
      "P\n",
      "predicted    n    p\n",
      "actual             \n",
      "n          497  192\n",
      "p            0    8\n",
      "S\n",
      "predicted    n    p\n",
      "actual             \n",
      "n          456  548\n",
      "p           11   11\n",
      "Cl\n",
      "predicted    n    p\n",
      "actual             \n",
      "n          320  271\n",
      "p            6   24\n",
      "Ar\n",
      "K\n",
      "predicted    n     p\n",
      "actual              \n",
      "n          650     6\n",
      "p          744  3990\n",
      "Ca\n",
      "predicted    n     p\n",
      "actual              \n",
      "n          600    96\n",
      "p          177  2904\n",
      "Sc\n",
      "predicted     n     p\n",
      "actual               \n",
      "n          1273   500\n",
      "p            10  2694\n",
      "Ti\n",
      "predicted     n     p\n",
      "actual               \n",
      "n          1808   503\n",
      "p           394  4116\n",
      "V\n",
      "predicted     n     p\n",
      "actual               \n",
      "n          1560   259\n",
      "p           963  4661\n",
      "Cr\n",
      "predicted     n     p\n",
      "actual               \n",
      "n          1574   135\n",
      "p          1131  5173\n",
      "Mn\n",
      "predicted     n     p\n",
      "actual               \n",
      "n          2088   431\n",
      "p           933  5051\n",
      "Fe\n",
      "predicted     n     p\n",
      "actual               \n",
      "n          2033   456\n",
      "p          1126  5017\n",
      "Co\n",
      "predicted     n     p\n",
      "actual               \n",
      "n          2016   796\n",
      "p           814  4488\n",
      "Ni\n",
      "predicted     n     p\n",
      "actual               \n",
      "n          1637   601\n",
      "p           252  2742\n",
      "Cu\n",
      "predicted     n     p\n",
      "actual               \n",
      "n          1004   200\n",
      "p           155  2465\n",
      "Zn\n",
      "predicted    n     p\n",
      "actual              \n",
      "n          446   323\n",
      "p          100  2223\n",
      "Ga\n",
      "predicted    n     p\n",
      "actual              \n",
      "n          555  1059\n",
      "p           98  1798\n",
      "Ge\n",
      "predicted    n     p\n",
      "actual              \n",
      "n          736  1304\n",
      "p          123  1830\n",
      "As\n",
      "predicted    n     p\n",
      "actual              \n",
      "n          598  1359\n",
      "p          136  1617\n",
      "Se\n",
      "predicted    n    p\n",
      "actual             \n",
      "n          280  358\n",
      "p            6   15\n",
      "Br\n",
      "predicted    n    p\n",
      "actual             \n",
      "n          143  164\n",
      "p            5   33\n",
      "Kr\n",
      "Rb\n",
      "predicted    n     p\n",
      "actual              \n",
      "n          429     3\n",
      "p          878  4216\n",
      "Sr\n",
      "predicted    n     p\n",
      "actual              \n",
      "n          665    47\n",
      "p          293  3278\n",
      "Y\n",
      "predicted     n     p\n",
      "actual               \n",
      "n          1322   292\n",
      "p            25  2843\n",
      "Zr\n",
      "predicted     n     p\n",
      "actual               \n",
      "n          1314   330\n",
      "p           131  3099\n",
      "Nb\n",
      "predicted     n     p\n",
      "actual               \n",
      "n          1091   114\n",
      "p           633  3439\n",
      "Mo\n",
      "predicted    n     p\n",
      "actual              \n",
      "n          889    53\n",
      "p          973  3810\n",
      "Tc\n",
      "predicted    n     p\n",
      "actual              \n",
      "n          583   140\n",
      "p          894  3634\n",
      "Ru\n",
      "predicted    n     p\n",
      "actual              \n",
      "n          887   400\n",
      "p          522  3075\n",
      "Rh\n",
      "predicted    n     p\n",
      "actual              \n",
      "n          947   973\n",
      "p          169  2092\n",
      "Pd\n",
      "predicted    n     p\n",
      "actual              \n",
      "n          688  1031\n",
      "p           95  1762\n",
      "Ag\n",
      "predicted    n     p\n",
      "actual              \n",
      "n          449   186\n",
      "p          200  2642\n",
      "Cd\n",
      "predicted    n     p\n",
      "actual              \n",
      "n          318   224\n",
      "p          192  2579\n",
      "In\n",
      "predicted    n     p\n",
      "actual              \n",
      "n          640   592\n",
      "p          152  2316\n",
      "Sn\n",
      "predicted    n     p\n",
      "actual              \n",
      "n          581  1055\n",
      "p          142  1927\n",
      "Sb\n",
      "predicted    n     p\n",
      "actual              \n",
      "n          564  1221\n",
      "p          158  1869\n",
      "Te\n",
      "predicted    n     p\n",
      "actual              \n",
      "n          605  1666\n",
      "p          213  1950\n",
      "I\n",
      "predicted   n    p\n",
      "actual            \n",
      "n          97  147\n",
      "p          12   48\n",
      "Xe\n",
      "predicted  n\n",
      "actual      \n",
      "n          1\n",
      "Cs\n",
      "predicted    n     p\n",
      "actual              \n",
      "n          512     2\n",
      "p          909  3899\n",
      "Ba\n",
      "predicted    n     p\n",
      "actual              \n",
      "n          873    36\n",
      "p          426  3381\n",
      "La\n",
      "predicted     n     p\n",
      "actual               \n",
      "n          1557   281\n",
      "p            50  3112\n",
      "Ce\n",
      "predicted     n     p\n",
      "actual               \n",
      "n          1284   145\n",
      "p           119  2800\n",
      "Pr\n",
      "predicted     n     p\n",
      "actual               \n",
      "n          1201   147\n",
      "p            95  2905\n",
      "Nd\n",
      "predicted     n     p\n",
      "actual               \n",
      "n          1277   160\n",
      "p            67  2905\n",
      "Pm\n",
      "predicted    n     p\n",
      "actual              \n",
      "n          786   183\n",
      "p           45  2808\n",
      "Sm\n",
      "predicted     n     p\n",
      "actual               \n",
      "n          1226   199\n",
      "p            34  2829\n",
      "Eu\n",
      "predicted    n     p\n",
      "actual              \n",
      "n          872   198\n",
      "p          118  3014\n",
      "Gd\n",
      "predicted     n     p\n",
      "actual               \n",
      "n          1257   236\n",
      "p            22  2750\n",
      "Tb\n",
      "predicted    n     p\n",
      "actual              \n",
      "n          810    31\n",
      "p          388  2869\n",
      "Dy\n",
      "predicted     n     p\n",
      "actual               \n",
      "n          1124   248\n",
      "p            25  2637\n",
      "Ho\n",
      "predicted     n     p\n",
      "actual               \n",
      "n          1074   272\n",
      "p            20  2633\n",
      "Er\n",
      "predicted     n     p\n",
      "actual               \n",
      "n          1107   280\n",
      "p            32  2617\n",
      "Tm\n",
      "predicted    n     p\n",
      "actual              \n",
      "n          944   281\n",
      "p           32  2494\n",
      "Yb\n",
      "predicted    n     p\n",
      "actual              \n",
      "n          576   179\n",
      "p           96  2936\n",
      "Lu\n",
      "predicted    n     p\n",
      "actual              \n",
      "n          925   292\n",
      "p           48  2563\n",
      "Hf\n",
      "predicted    n     p\n",
      "actual              \n",
      "n          904   261\n",
      "p          275  2671\n",
      "Ta\n",
      "predicted    n     p\n",
      "actual              \n",
      "n          770   125\n",
      "p          690  3281\n",
      "W\n",
      "predicted    n     p\n",
      "actual              \n",
      "n          531    41\n",
      "p          992  3434\n",
      "Re\n",
      "predicted    n     p\n",
      "actual              \n",
      "n          442    80\n",
      "p          879  3329\n",
      "Os\n",
      "predicted    n     p\n",
      "actual              \n",
      "n          502   335\n",
      "p          859  3206\n",
      "Ir\n",
      "predicted    n     p\n",
      "actual              \n",
      "n          782   895\n",
      "p          256  2202\n",
      "Pt\n",
      "predicted     n     p\n",
      "actual               \n",
      "n          1013  1672\n",
      "p           169  1570\n",
      "Au\n",
      "predicted    n     p\n",
      "actual              \n",
      "n          487   941\n",
      "p          160  1902\n",
      "Hg\n",
      "predicted    n     p\n",
      "actual              \n",
      "n          219   383\n",
      "p          231  2646\n",
      "Tl\n",
      "predicted    n     p\n",
      "actual              \n",
      "n          330   289\n",
      "p          268  2761\n",
      "Pb\n",
      "predicted    n     p\n",
      "actual              \n",
      "n          372   421\n",
      "p          240  2568\n",
      "Bi\n",
      "predicted    n     p\n",
      "actual              \n",
      "n          485   711\n",
      "p          232  2456\n",
      "Po\n",
      "At\n",
      "Rn\n",
      "Fr\n",
      "Ra\n",
      "Ac\n",
      "predicted    n     p\n",
      "actual              \n",
      "n          520   102\n",
      "p          196  2561\n",
      "Th\n",
      "predicted    n     p\n",
      "actual              \n",
      "n          799   141\n",
      "p          137  2369\n",
      "Pa\n",
      "predicted    n     p\n",
      "actual              \n",
      "n          863   251\n",
      "p          626  3694\n",
      "U\n",
      "predicted     n     p\n",
      "actual               \n",
      "n          1328   224\n",
      "p          1080  4899\n",
      "Np\n",
      "predicted     n     p\n",
      "actual               \n",
      "n           789   108\n",
      "p          1276  5160\n",
      "Pu\n",
      "predicted     n     p\n",
      "actual               \n",
      "n          1384   488\n",
      "p           621  4605\n",
      "Am\n",
      "Cm\n",
      "Bk\n",
      "Cf\n",
      "Es\n",
      "Fm\n",
      "Md\n",
      "No\n",
      "Lr\n",
      "CPU times: user 1h 30min 7s, sys: 2min 6s, total: 1h 32min 14s\n",
      "Wall time: 34min 7s\n"
     ]
    }
   ],
   "source": [
    "%%time\n",
    "stats = all_el_split()"
   ]
  },
  {
   "cell_type": "code",
   "execution_count": 208,
   "metadata": {},
   "outputs": [
    {
     "data": {
      "text/html": [
       "<div>\n",
       "<style>\n",
       "    .dataframe thead tr:only-child th {\n",
       "        text-align: right;\n",
       "    }\n",
       "\n",
       "    .dataframe thead th {\n",
       "        text-align: left;\n",
       "    }\n",
       "\n",
       "    .dataframe tbody tr th {\n",
       "        vertical-align: top;\n",
       "    }\n",
       "</style>\n",
       "<table border=\"1\" class=\"dataframe\">\n",
       "  <thead>\n",
       "    <tr style=\"text-align: right;\">\n",
       "      <th></th>\n",
       "      <th>H</th>\n",
       "      <th>Li</th>\n",
       "      <th>Be</th>\n",
       "      <th>B</th>\n",
       "      <th>C</th>\n",
       "      <th>N</th>\n",
       "      <th>O</th>\n",
       "      <th>F</th>\n",
       "      <th>Na</th>\n",
       "      <th>Mg</th>\n",
       "      <th>...</th>\n",
       "      <th>Hg</th>\n",
       "      <th>Tl</th>\n",
       "      <th>Pb</th>\n",
       "      <th>Bi</th>\n",
       "      <th>Ac</th>\n",
       "      <th>Th</th>\n",
       "      <th>Pa</th>\n",
       "      <th>U</th>\n",
       "      <th>Np</th>\n",
       "      <th>Pu</th>\n",
       "    </tr>\n",
       "  </thead>\n",
       "  <tbody>\n",
       "    <tr>\n",
       "      <th>r1</th>\n",
       "      <td>0.877527</td>\n",
       "      <td>0.976044</td>\n",
       "      <td>0.943400</td>\n",
       "      <td>0.917114</td>\n",
       "      <td>0.772696</td>\n",
       "      <td>0.706539</td>\n",
       "      <td>0.595839</td>\n",
       "      <td>0.593148</td>\n",
       "      <td>0.948343</td>\n",
       "      <td>0.955422</td>\n",
       "      <td>...</td>\n",
       "      <td>0.907476</td>\n",
       "      <td>0.920496</td>\n",
       "      <td>0.903571</td>\n",
       "      <td>0.870178</td>\n",
       "      <td>0.954886</td>\n",
       "      <td>0.958815</td>\n",
       "      <td>0.915756</td>\n",
       "      <td>0.909312</td>\n",
       "      <td>0.900702</td>\n",
       "      <td>0.918563</td>\n",
       "    </tr>\n",
       "    <tr>\n",
       "      <th>r2</th>\n",
       "      <td>0.770053</td>\n",
       "      <td>0.952661</td>\n",
       "      <td>0.890004</td>\n",
       "      <td>0.841098</td>\n",
       "      <td>0.597059</td>\n",
       "      <td>0.499197</td>\n",
       "      <td>0.355024</td>\n",
       "      <td>0.351825</td>\n",
       "      <td>0.899355</td>\n",
       "      <td>0.912830</td>\n",
       "      <td>...</td>\n",
       "      <td>0.823513</td>\n",
       "      <td>0.847314</td>\n",
       "      <td>0.816440</td>\n",
       "      <td>0.757209</td>\n",
       "      <td>0.911808</td>\n",
       "      <td>0.919327</td>\n",
       "      <td>0.838609</td>\n",
       "      <td>0.826849</td>\n",
       "      <td>0.811264</td>\n",
       "      <td>0.843759</td>\n",
       "    </tr>\n",
       "  </tbody>\n",
       "</table>\n",
       "<p>2 rows × 85 columns</p>\n",
       "</div>"
      ],
      "text/plain": [
       "           H        Li        Be         B         C         N         O  \\\n",
       "r1  0.877527  0.976044  0.943400  0.917114  0.772696  0.706539  0.595839   \n",
       "r2  0.770053  0.952661  0.890004  0.841098  0.597059  0.499197  0.355024   \n",
       "\n",
       "           F        Na        Mg    ...           Hg        Tl        Pb  \\\n",
       "r1  0.593148  0.948343  0.955422    ...     0.907476  0.920496  0.903571   \n",
       "r2  0.351825  0.899355  0.912830    ...     0.823513  0.847314  0.816440   \n",
       "\n",
       "          Bi        Ac        Th        Pa         U        Np        Pu  \n",
       "r1  0.870178  0.954886  0.958815  0.915756  0.909312  0.900702  0.918563  \n",
       "r2  0.757209  0.911808  0.919327  0.838609  0.826849  0.811264  0.843759  \n",
       "\n",
       "[2 rows x 85 columns]"
      ]
     },
     "execution_count": 208,
     "metadata": {},
     "output_type": "execute_result"
    }
   ],
   "source": [
    "stats"
   ]
  },
  {
   "cell_type": "code",
   "execution_count": 216,
   "metadata": {},
   "outputs": [],
   "source": [
    "r1 = np.asarray(stats.T['r1'])\n",
    "r2 = np.asarray(stats.T['r2'])"
   ]
  },
  {
   "cell_type": "code",
   "execution_count": 218,
   "metadata": {},
   "outputs": [
    {
     "name": "stdout",
     "output_type": "stream",
     "text": [
      "0.887789187931\n",
      "0.796136354269\n"
     ]
    }
   ],
   "source": [
    "print(r1.mean())\n",
    "print(r2.mean())"
   ]
  },
  {
   "cell_type": "code",
   "execution_count": null,
   "metadata": {
    "collapsed": true
   },
   "outputs": [],
   "source": []
  }
 ],
 "metadata": {
  "kernelspec": {
   "display_name": "Python 3",
   "language": "python",
   "name": "python3"
  },
  "language_info": {
   "codemirror_mode": {
    "name": "ipython",
    "version": 3
   },
   "file_extension": ".py",
   "mimetype": "text/x-python",
   "name": "python",
   "nbconvert_exporter": "python",
   "pygments_lexer": "ipython3",
   "version": "3.6.0"
  }
 },
 "nbformat": 4,
 "nbformat_minor": 2
}
