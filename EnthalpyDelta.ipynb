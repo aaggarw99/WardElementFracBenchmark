{
 "cells": [
  {
   "cell_type": "code",
   "execution_count": 1,
   "metadata": {
    "collapsed": true
   },
   "outputs": [],
   "source": [
    "import numpy as np\n",
    "import matplotlib.pyplot as plt\n",
    "import re\n",
    "import itertools\n",
    "import pandas as pd\n",
    "import matminer\n",
    "import sys\n",
    "sys.path.append(\"/Users/Ashwin/Desktop/git/matminer\")\n",
    "from pymatgen import Composition, Element\n",
    "from matminer.descriptors.composition_features import ElementFractionAttribute\n",
    "from sklearn.ensemble import RandomForestClassifier, RandomForestRegressor, BaggingClassifier\n",
    "from sklearn.tree import DecisionTreeClassifier, DecisionTreeRegressor\n",
    "from sklearn.model_selection import train_test_split, cross_val_score, KFold\n",
    "from sklearn import datasets\n",
    "from sklearn import svm\n",
    "import datetime\n",
    "from sklearn.multiclass import OneVsRestClassifier\n",
    "%matplotlib inline"
   ]
  },
  {
   "cell_type": "code",
   "execution_count": 2,
   "metadata": {
    "collapsed": true
   },
   "outputs": [],
   "source": [
    "training_file = 'data/oqmd_all.csv'"
   ]
  },
  {
   "cell_type": "code",
   "execution_count": 3,
   "metadata": {},
   "outputs": [
    {
     "data": {
      "text/html": [
       "<div>\n",
       "<style>\n",
       "    .dataframe thead tr:only-child th {\n",
       "        text-align: right;\n",
       "    }\n",
       "\n",
       "    .dataframe thead th {\n",
       "        text-align: left;\n",
       "    }\n",
       "\n",
       "    .dataframe tbody tr th {\n",
       "        vertical-align: top;\n",
       "    }\n",
       "</style>\n",
       "<table border=\"1\" class=\"dataframe\">\n",
       "  <thead>\n",
       "    <tr style=\"text-align: right;\">\n",
       "      <th></th>\n",
       "      <th>comp</th>\n",
       "      <th>energy_pa</th>\n",
       "      <th>volume_pa</th>\n",
       "      <th>magmom_pa</th>\n",
       "      <th>bandgap</th>\n",
       "      <th>delta_e</th>\n",
       "      <th>stability</th>\n",
       "      <th>comp_obj</th>\n",
       "    </tr>\n",
       "  </thead>\n",
       "  <tbody>\n",
       "    <tr>\n",
       "      <th>0</th>\n",
       "      <td>Li1</td>\n",
       "      <td>-1.892002</td>\n",
       "      <td>17.8351</td>\n",
       "      <td>NaN</td>\n",
       "      <td>0.000</td>\n",
       "      <td>0.004605</td>\n",
       "      <td>0.004605</td>\n",
       "      <td>(Li)</td>\n",
       "    </tr>\n",
       "    <tr>\n",
       "      <th>1</th>\n",
       "      <td>Mg1</td>\n",
       "      <td>-1.539604</td>\n",
       "      <td>22.9639</td>\n",
       "      <td>NaN</td>\n",
       "      <td>0.000</td>\n",
       "      <td>0.002719</td>\n",
       "      <td>0.002719</td>\n",
       "      <td>(Mg)</td>\n",
       "    </tr>\n",
       "    <tr>\n",
       "      <th>2</th>\n",
       "      <td>Kr1</td>\n",
       "      <td>0.011256</td>\n",
       "      <td>41.4146</td>\n",
       "      <td>NaN</td>\n",
       "      <td>7.367</td>\n",
       "      <td>0.015315</td>\n",
       "      <td>0.015315</td>\n",
       "      <td>(Kr)</td>\n",
       "    </tr>\n",
       "    <tr>\n",
       "      <th>3</th>\n",
       "      <td>Na1</td>\n",
       "      <td>-1.299101</td>\n",
       "      <td>32.9826</td>\n",
       "      <td>NaN</td>\n",
       "      <td>0.000</td>\n",
       "      <td>0.003780</td>\n",
       "      <td>0.003780</td>\n",
       "      <td>(Na)</td>\n",
       "    </tr>\n",
       "    <tr>\n",
       "      <th>4</th>\n",
       "      <td>Pd1</td>\n",
       "      <td>-5.158533</td>\n",
       "      <td>15.2088</td>\n",
       "      <td>NaN</td>\n",
       "      <td>0.000</td>\n",
       "      <td>0.018186</td>\n",
       "      <td>0.018186</td>\n",
       "      <td>(Pd)</td>\n",
       "    </tr>\n",
       "  </tbody>\n",
       "</table>\n",
       "</div>"
      ],
      "text/plain": [
       "  comp  energy_pa  volume_pa  magmom_pa  bandgap   delta_e  stability comp_obj\n",
       "0  Li1  -1.892002    17.8351        NaN    0.000  0.004605   0.004605     (Li)\n",
       "1  Mg1  -1.539604    22.9639        NaN    0.000  0.002719   0.002719     (Mg)\n",
       "2  Kr1   0.011256    41.4146        NaN    7.367  0.015315   0.015315     (Kr)\n",
       "3  Na1  -1.299101    32.9826        NaN    0.000  0.003780   0.003780     (Na)\n",
       "4  Pd1  -5.158533    15.2088        NaN    0.000  0.018186   0.018186     (Pd)"
      ]
     },
     "execution_count": 3,
     "metadata": {},
     "output_type": "execute_result"
    }
   ],
   "source": [
    "training_set = pd.read_csv(training_file, delim_whitespace=True, na_values=[\"None\", np.inf])\n",
    "comp_objects = [Composition(comp) for comp in training_set[\"comp\"]]\n",
    "training_set = training_set.assign(comp_obj=comp_objects)\n",
    "training_set.head()"
   ]
  },
  {
   "cell_type": "code",
   "execution_count": 4,
   "metadata": {},
   "outputs": [
    {
     "name": "stdout",
     "output_type": "stream",
     "text": [
      "CPU times: user 4min 3s, sys: 1.91 s, total: 4min 5s\n",
      "Wall time: 4min 7s\n"
     ]
    }
   ],
   "source": [
    "%%time\n",
    "training_set['is_groundstate'] = False\n",
    "for gid, group in training_set.groupby('comp'):\n",
    "    if group.shape[0] > 1:\n",
    "        group = group.sort_values('energy_pa', ascending=True)    \n",
    "    training_set.loc[group.iloc[0].name, 'is_groundstate'] = True"
   ]
  },
  {
   "cell_type": "code",
   "execution_count": 5,
   "metadata": {
    "collapsed": true
   },
   "outputs": [],
   "source": [
    "training_set = training_set[training_set['is_groundstate']]"
   ]
  },
  {
   "cell_type": "code",
   "execution_count": 6,
   "metadata": {
    "collapsed": true
   },
   "outputs": [],
   "source": [
    "def calc_attributes(training_set):\n",
    "    training_set_updated = ElementFractionAttribute().featurize_dataframe(training_set, col_id='comp_obj')\n",
    "    return training_set_updated\n",
    "training_set = calc_attributes(training_set)"
   ]
  },
  {
   "cell_type": "code",
   "execution_count": 7,
   "metadata": {},
   "outputs": [
    {
     "data": {
      "text/html": [
       "<div>\n",
       "<style>\n",
       "    .dataframe thead tr:only-child th {\n",
       "        text-align: right;\n",
       "    }\n",
       "\n",
       "    .dataframe thead th {\n",
       "        text-align: left;\n",
       "    }\n",
       "\n",
       "    .dataframe tbody tr th {\n",
       "        vertical-align: top;\n",
       "    }\n",
       "</style>\n",
       "<table border=\"1\" class=\"dataframe\">\n",
       "  <thead>\n",
       "    <tr style=\"text-align: right;\">\n",
       "      <th></th>\n",
       "      <th>comp</th>\n",
       "      <th>energy_pa</th>\n",
       "      <th>volume_pa</th>\n",
       "      <th>magmom_pa</th>\n",
       "      <th>bandgap</th>\n",
       "      <th>delta_e</th>\n",
       "      <th>stability</th>\n",
       "      <th>comp_obj</th>\n",
       "      <th>is_groundstate</th>\n",
       "      <th>Ac</th>\n",
       "      <th>...</th>\n",
       "      <th>Tl</th>\n",
       "      <th>Tm</th>\n",
       "      <th>U</th>\n",
       "      <th>V</th>\n",
       "      <th>W</th>\n",
       "      <th>Xe</th>\n",
       "      <th>Y</th>\n",
       "      <th>Yb</th>\n",
       "      <th>Zn</th>\n",
       "      <th>Zr</th>\n",
       "    </tr>\n",
       "  </thead>\n",
       "  <tbody>\n",
       "    <tr>\n",
       "      <th>25</th>\n",
       "      <td>Rb1</td>\n",
       "      <td>-0.963073</td>\n",
       "      <td>89.6163</td>\n",
       "      <td>NaN</td>\n",
       "      <td>0.000</td>\n",
       "      <td>0.0</td>\n",
       "      <td>0.0</td>\n",
       "      <td>(Rb)</td>\n",
       "      <td>True</td>\n",
       "      <td>0.0</td>\n",
       "      <td>...</td>\n",
       "      <td>0.0</td>\n",
       "      <td>0.0</td>\n",
       "      <td>0.0</td>\n",
       "      <td>0.0</td>\n",
       "      <td>0.0</td>\n",
       "      <td>0.0</td>\n",
       "      <td>0.0</td>\n",
       "      <td>0.0</td>\n",
       "      <td>0.0</td>\n",
       "      <td>0.0</td>\n",
       "    </tr>\n",
       "    <tr>\n",
       "      <th>69</th>\n",
       "      <td>V1</td>\n",
       "      <td>-8.940979</td>\n",
       "      <td>13.1686</td>\n",
       "      <td>0.002313</td>\n",
       "      <td>0.000</td>\n",
       "      <td>0.0</td>\n",
       "      <td>0.0</td>\n",
       "      <td>(V)</td>\n",
       "      <td>True</td>\n",
       "      <td>0.0</td>\n",
       "      <td>...</td>\n",
       "      <td>0.0</td>\n",
       "      <td>0.0</td>\n",
       "      <td>0.0</td>\n",
       "      <td>1.0</td>\n",
       "      <td>0.0</td>\n",
       "      <td>0.0</td>\n",
       "      <td>0.0</td>\n",
       "      <td>0.0</td>\n",
       "      <td>0.0</td>\n",
       "      <td>0.0</td>\n",
       "    </tr>\n",
       "    <tr>\n",
       "      <th>70</th>\n",
       "      <td>Ne1</td>\n",
       "      <td>-0.029318</td>\n",
       "      <td>22.2120</td>\n",
       "      <td>NaN</td>\n",
       "      <td>11.657</td>\n",
       "      <td>0.0</td>\n",
       "      <td>NaN</td>\n",
       "      <td>(Ne)</td>\n",
       "      <td>True</td>\n",
       "      <td>0.0</td>\n",
       "      <td>...</td>\n",
       "      <td>0.0</td>\n",
       "      <td>0.0</td>\n",
       "      <td>0.0</td>\n",
       "      <td>0.0</td>\n",
       "      <td>0.0</td>\n",
       "      <td>0.0</td>\n",
       "      <td>0.0</td>\n",
       "      <td>0.0</td>\n",
       "      <td>0.0</td>\n",
       "      <td>0.0</td>\n",
       "    </tr>\n",
       "    <tr>\n",
       "      <th>74</th>\n",
       "      <td>Rh1</td>\n",
       "      <td>-7.269405</td>\n",
       "      <td>13.9855</td>\n",
       "      <td>-0.014167</td>\n",
       "      <td>0.000</td>\n",
       "      <td>0.0</td>\n",
       "      <td>0.0</td>\n",
       "      <td>(Rh)</td>\n",
       "      <td>True</td>\n",
       "      <td>0.0</td>\n",
       "      <td>...</td>\n",
       "      <td>0.0</td>\n",
       "      <td>0.0</td>\n",
       "      <td>0.0</td>\n",
       "      <td>0.0</td>\n",
       "      <td>0.0</td>\n",
       "      <td>0.0</td>\n",
       "      <td>0.0</td>\n",
       "      <td>0.0</td>\n",
       "      <td>0.0</td>\n",
       "      <td>0.0</td>\n",
       "    </tr>\n",
       "    <tr>\n",
       "      <th>83</th>\n",
       "      <td>Ir1</td>\n",
       "      <td>-8.854920</td>\n",
       "      <td>14.4652</td>\n",
       "      <td>0.003235</td>\n",
       "      <td>0.000</td>\n",
       "      <td>0.0</td>\n",
       "      <td>0.0</td>\n",
       "      <td>(Ir)</td>\n",
       "      <td>True</td>\n",
       "      <td>0.0</td>\n",
       "      <td>...</td>\n",
       "      <td>0.0</td>\n",
       "      <td>0.0</td>\n",
       "      <td>0.0</td>\n",
       "      <td>0.0</td>\n",
       "      <td>0.0</td>\n",
       "      <td>0.0</td>\n",
       "      <td>0.0</td>\n",
       "      <td>0.0</td>\n",
       "      <td>0.0</td>\n",
       "      <td>0.0</td>\n",
       "    </tr>\n",
       "  </tbody>\n",
       "</table>\n",
       "<p>5 rows × 112 columns</p>\n",
       "</div>"
      ],
      "text/plain": [
       "   comp  energy_pa  volume_pa  magmom_pa  bandgap  delta_e  stability  \\\n",
       "25  Rb1  -0.963073    89.6163        NaN    0.000      0.0        0.0   \n",
       "69   V1  -8.940979    13.1686   0.002313    0.000      0.0        0.0   \n",
       "70  Ne1  -0.029318    22.2120        NaN   11.657      0.0        NaN   \n",
       "74  Rh1  -7.269405    13.9855  -0.014167    0.000      0.0        0.0   \n",
       "83  Ir1  -8.854920    14.4652   0.003235    0.000      0.0        0.0   \n",
       "\n",
       "   comp_obj  is_groundstate   Ac ...    Tl   Tm    U    V    W   Xe    Y   Yb  \\\n",
       "25     (Rb)            True  0.0 ...   0.0  0.0  0.0  0.0  0.0  0.0  0.0  0.0   \n",
       "69      (V)            True  0.0 ...   0.0  0.0  0.0  1.0  0.0  0.0  0.0  0.0   \n",
       "70     (Ne)            True  0.0 ...   0.0  0.0  0.0  0.0  0.0  0.0  0.0  0.0   \n",
       "74     (Rh)            True  0.0 ...   0.0  0.0  0.0  0.0  0.0  0.0  0.0  0.0   \n",
       "83     (Ir)            True  0.0 ...   0.0  0.0  0.0  0.0  0.0  0.0  0.0  0.0   \n",
       "\n",
       "     Zn   Zr  \n",
       "25  0.0  0.0  \n",
       "69  0.0  0.0  \n",
       "70  0.0  0.0  \n",
       "74  0.0  0.0  \n",
       "83  0.0  0.0  \n",
       "\n",
       "[5 rows x 112 columns]"
      ]
     },
     "execution_count": 7,
     "metadata": {},
     "output_type": "execute_result"
    }
   ],
   "source": [
    "training_set.head()"
   ]
  },
  {
   "cell_type": "code",
   "execution_count": 64,
   "metadata": {
    "collapsed": true
   },
   "outputs": [],
   "source": [
    "cols_to_drop = ['comp', 'energy_pa', 'volume_pa', 'magmom_pa', 'bandgap', 'stability', 'comp_obj', 'is_groundstate', 'delta_e']"
   ]
  },
  {
   "cell_type": "code",
   "execution_count": 9,
   "metadata": {},
   "outputs": [
    {
     "name": "stderr",
     "output_type": "stream",
     "text": [
      "/Library/Frameworks/Python.framework/Versions/3.6/lib/python3.6/site-packages/pymatgen/core/periodic_table.py:398: UserWarning: No electronegativity for Ne. Setting to infinity. This has no physical meaning, and is mainly done to avoid errors caused by the code expecting a float.\n",
      "  % self.symbol)\n",
      "/Library/Frameworks/Python.framework/Versions/3.6/lib/python3.6/site-packages/pymatgen/core/periodic_table.py:398: UserWarning: No electronegativity for Ar. Setting to infinity. This has no physical meaning, and is mainly done to avoid errors caused by the code expecting a float.\n",
      "  % self.symbol)\n",
      "/Library/Frameworks/Python.framework/Versions/3.6/lib/python3.6/site-packages/pymatgen/core/periodic_table.py:398: UserWarning: No electronegativity for He. Setting to infinity. This has no physical meaning, and is mainly done to avoid errors caused by the code expecting a float.\n",
      "  % self.symbol)\n"
     ]
    }
   ],
   "source": [
    "min_value = training_set.min().delta_e\n",
    "training_set.replace(min_value, np.nan, inplace=True)\n",
    "training_set.dropna(inplace=True)"
   ]
  },
  {
   "cell_type": "markdown",
   "metadata": {},
   "source": [
    "# Benchmark Random Forest + KFold Validation"
   ]
  },
  {
   "cell_type": "code",
   "execution_count": 115,
   "metadata": {},
   "outputs": [
    {
     "data": {
      "text/plain": [
       "array(['p', 'p', 'p', ..., 'n', 'n', 'n'], \n",
       "      dtype='<U1')"
      ]
     },
     "execution_count": 115,
     "metadata": {},
     "output_type": "execute_result"
    }
   ],
   "source": [
    "#Descretize into pos/neg formation energy\n",
    "\n",
    "delta_e = np.array(training_set['delta_e'], dtype=float)\n",
    "#will hold pos/neg for each element in delta_e\n",
    "energy_range = np.zeros(np.shape(delta_e), dtype=str)\n",
    "for i in range(len(delta_e)):\n",
    "    if delta_e[i] < 0:\n",
    "        energy_range[i] = 'neg'\n",
    "    else:\n",
    "        energy_range[i] = 'pos'\n",
    "energy_range"
   ]
  },
  {
   "cell_type": "code",
   "execution_count": 116,
   "metadata": {
    "collapsed": true
   },
   "outputs": [],
   "source": [
    "rfc = RandomForestClassifier(n_estimators=10, criterion='gini', min_samples_split=2, n_jobs=-1)\n",
    "rfc.fit(training_set.drop(cols_to_drop, axis=1), energy_range)\n",
    "rfc_prediction = rfc.predict(training_set.drop(cols_to_drop, axis=1))"
   ]
  },
  {
   "cell_type": "code",
   "execution_count": 117,
   "metadata": {},
   "outputs": [
    {
     "name": "stdout",
     "output_type": "stream",
     "text": [
      "Average Score:  0.916052291982  and standard deviation of:  0.00284224203738\n",
      "CPU times: user 48.9 s, sys: 2 s, total: 50.9 s\n",
      "Wall time: 19.8 s\n"
     ]
    }
   ],
   "source": [
    "%%time\n",
    "from sklearn.model_selection import ShuffleSplit\n",
    "clf = svm.SVC(kernel='linear', C=1e3)\n",
    "cv = ShuffleSplit(n_splits=10, test_size=0.3, random_state =0)\n",
    "scores = cross_val_score(rfc, training_set.drop(cols_to_drop, axis=1), energy_range, cv=cv)\n",
    "print(\"Average Score: \", scores.mean(), \" and standard deviation of: \", scores.std())"
   ]
  },
  {
   "cell_type": "markdown",
   "metadata": {},
   "source": [
    "# Split Dataset by Element"
   ]
  },
  {
   "cell_type": "code",
   "execution_count": 99,
   "metadata": {},
   "outputs": [],
   "source": [
    "def get_elements(comp):\n",
    "    return comp.elements\n",
    "\n",
    "def split_by_element(training_set, element):\n",
    "    \"\"\"\n",
    "    Splits dataframe into two datasets: one without the element inputted and the other with. Provides datasets for machine learning models.\n",
    "    \n",
    "    Args:\n",
    "        training_set: pandas data frame containing training data\n",
    "        element: string represenation of an element\n",
    "    Returns:\n",
    "        Two dataframes -- one with compounds with the element in it, the other without\n",
    "    \"\"\"\n",
    "    #print(training_set.head())\n",
    "    #for comp in training_set['comp_obj']:\n",
    "        #if Element(element) in comp.elements:\n",
    "        \n",
    "    training_set['els'] = training_set['comp_obj'].apply(get_elements)\n",
    "    training_set['is_in'] = False\n",
    "    for count, el_list in enumerate(training_set['els']):\n",
    "        if Element(element) in el_list:\n",
    "            training_set.iloc[count, training_set.columns.get_loc('is_in')] = True\n",
    "    \n",
    "    with_element = training_set[training_set['is_in']]\n",
    "    without_element = training_set[training_set['is_in'] == False]\n",
    "    return with_element, without_element"
   ]
  },
  {
   "cell_type": "code",
   "execution_count": 100,
   "metadata": {},
   "outputs": [],
   "source": [
    "#Predict Enthalpy Delta given training data without Aluminum in it\n",
    "with_, without = split_by_element(training_set, 'Al')"
   ]
  },
  {
   "cell_type": "code",
   "execution_count": 101,
   "metadata": {},
   "outputs": [],
   "source": [
    "cols_to_drop += ['els', 'is_in']"
   ]
  },
  {
   "cell_type": "code",
   "execution_count": 102,
   "metadata": {},
   "outputs": [],
   "source": [
    "# Training data\n",
    "\n",
    "#Discrete into pos/neg formation energy for regression\n",
    "delta_e_without = np.array(without['delta_e'], dtype=float)\n",
    "#pos/neg values for classification\n",
    "energy_range_without = np.zeros(np.shape(delta_e_without), dtype=str)\n",
    "for i in range(len(delta_e_without)):\n",
    "    if delta_e_without[i] < 0:\n",
    "        energy_range_without[i] = 'neg'\n",
    "    else:\n",
    "        energy_range_without[i] = 'pos'\n",
    "\n",
    "# Prediction data\n",
    "delta_e_with = np.array(with_['delta_e'], dtype=float)\n",
    "energy_range_with = np.zeros(np.shape(delta_e_with), dtype=str)\n",
    "for i in range(len(delta_e_with)):\n",
    "    if delta_e_with[i] < 0:\n",
    "        energy_range_with[i] = 'neg'\n",
    "    else:\n",
    "        energy_range_with[i] = 'pos'"
   ]
  },
  {
   "cell_type": "markdown",
   "metadata": {},
   "source": [
    "# Classification"
   ]
  },
  {
   "cell_type": "markdown",
   "metadata": {},
   "source": [
    "Labels = energy_range_without <br>\n",
    "Samples = without.drop(cols_to_drop, axis=1)"
   ]
  },
  {
   "cell_type": "markdown",
   "metadata": {},
   "source": [
    "### Random Forest Classifier"
   ]
  },
  {
   "cell_type": "code",
   "execution_count": 121,
   "metadata": {},
   "outputs": [],
   "source": [
    "rfc = RandomForestClassifier(n_estimators=100, criterion='gini', min_samples_split=2, n_jobs=-1)\n",
    "rfc.fit(without.drop(cols_to_drop, axis=1), energy_range_without)\n",
    "rfc_prediction = rfc.predict(with_.drop(cols_to_drop, axis=1))"
   ]
  },
  {
   "cell_type": "code",
   "execution_count": 122,
   "metadata": {},
   "outputs": [
    {
     "data": {
      "text/plain": [
       "0.70993452889268427"
      ]
     },
     "execution_count": 122,
     "metadata": {},
     "output_type": "execute_result"
    }
   ],
   "source": [
    "rfc.score(with_.drop(cols_to_drop, axis=1), energy_range_with)"
   ]
  },
  {
   "cell_type": "code",
   "execution_count": 123,
   "metadata": {},
   "outputs": [
    {
     "data": {
      "text/html": [
       "<div>\n",
       "<style>\n",
       "    .dataframe thead tr:only-child th {\n",
       "        text-align: right;\n",
       "    }\n",
       "\n",
       "    .dataframe thead th {\n",
       "        text-align: left;\n",
       "    }\n",
       "\n",
       "    .dataframe tbody tr th {\n",
       "        vertical-align: top;\n",
       "    }\n",
       "</style>\n",
       "<table border=\"1\" class=\"dataframe\">\n",
       "  <thead>\n",
       "    <tr style=\"text-align: right;\">\n",
       "      <th>predicted</th>\n",
       "      <th>n</th>\n",
       "      <th>p</th>\n",
       "    </tr>\n",
       "    <tr>\n",
       "      <th>actual</th>\n",
       "      <th></th>\n",
       "      <th></th>\n",
       "    </tr>\n",
       "  </thead>\n",
       "  <tbody>\n",
       "    <tr>\n",
       "      <th>n</th>\n",
       "      <td>688</td>\n",
       "      <td>937</td>\n",
       "    </tr>\n",
       "    <tr>\n",
       "      <th>p</th>\n",
       "      <td>82</td>\n",
       "      <td>1806</td>\n",
       "    </tr>\n",
       "  </tbody>\n",
       "</table>\n",
       "</div>"
      ],
      "text/plain": [
       "predicted    n     p\n",
       "actual              \n",
       "n          688   937\n",
       "p           82  1806"
      ]
     },
     "execution_count": 123,
     "metadata": {},
     "output_type": "execute_result"
    }
   ],
   "source": [
    "pd.crosstab(energy_range_with, rfc_prediction, rownames=['actual'], colnames=['predicted'])"
   ]
  },
  {
   "cell_type": "markdown",
   "metadata": {},
   "source": [
    "### Decision Tree Classifier"
   ]
  },
  {
   "cell_type": "code",
   "execution_count": 106,
   "metadata": {
    "collapsed": true
   },
   "outputs": [],
   "source": [
    "dtc = DecisionTreeClassifier()\n",
    "dtc.fit(without.drop(cols_to_drop, axis=1), energy_range_without)\n",
    "dtc_prediction = dtc.predict(with_.drop(cols_to_drop, axis=1))"
   ]
  },
  {
   "cell_type": "code",
   "execution_count": 107,
   "metadata": {},
   "outputs": [
    {
     "data": {
      "text/plain": [
       "0.70196413321947049"
      ]
     },
     "execution_count": 107,
     "metadata": {},
     "output_type": "execute_result"
    }
   ],
   "source": [
    "dtc.score(with_.drop(cols_to_drop, axis=1), energy_range_with)"
   ]
  },
  {
   "cell_type": "code",
   "execution_count": 108,
   "metadata": {},
   "outputs": [
    {
     "data": {
      "text/html": [
       "<div>\n",
       "<style>\n",
       "    .dataframe thead tr:only-child th {\n",
       "        text-align: right;\n",
       "    }\n",
       "\n",
       "    .dataframe thead th {\n",
       "        text-align: left;\n",
       "    }\n",
       "\n",
       "    .dataframe tbody tr th {\n",
       "        vertical-align: top;\n",
       "    }\n",
       "</style>\n",
       "<table border=\"1\" class=\"dataframe\">\n",
       "  <thead>\n",
       "    <tr style=\"text-align: right;\">\n",
       "      <th>predicted</th>\n",
       "      <th>n</th>\n",
       "      <th>p</th>\n",
       "    </tr>\n",
       "    <tr>\n",
       "      <th>actual</th>\n",
       "      <th></th>\n",
       "      <th></th>\n",
       "    </tr>\n",
       "  </thead>\n",
       "  <tbody>\n",
       "    <tr>\n",
       "      <th>n</th>\n",
       "      <td>632</td>\n",
       "      <td>993</td>\n",
       "    </tr>\n",
       "    <tr>\n",
       "      <th>p</th>\n",
       "      <td>54</td>\n",
       "      <td>1834</td>\n",
       "    </tr>\n",
       "  </tbody>\n",
       "</table>\n",
       "</div>"
      ],
      "text/plain": [
       "predicted    n     p\n",
       "actual              \n",
       "n          632   993\n",
       "p           54  1834"
      ]
     },
     "execution_count": 108,
     "metadata": {},
     "output_type": "execute_result"
    }
   ],
   "source": [
    "pd.crosstab(energy_range_with, dtc_prediction, rownames=['actual'], colnames=['predicted'])"
   ]
  },
  {
   "cell_type": "markdown",
   "metadata": {},
   "source": [
    "# Regression"
   ]
  },
  {
   "cell_type": "markdown",
   "metadata": {},
   "source": [
    "### Random Forest Regressor"
   ]
  },
  {
   "cell_type": "code",
   "execution_count": 128,
   "metadata": {
    "collapsed": true
   },
   "outputs": [],
   "source": [
    "rf_model = RandomForestRegressor(n_jobs=-1)\n",
    "rf_model.fit(without.drop(cols_to_drop, axis=1), delta_e_without)\n",
    "rf_prediction = rf_model.predict(with_.drop(cols_to_drop, axis=1))"
   ]
  },
  {
   "cell_type": "code",
   "execution_count": 129,
   "metadata": {},
   "outputs": [
    {
     "data": {
      "text/plain": [
       "0.80363835392532668"
      ]
     },
     "execution_count": 129,
     "metadata": {},
     "output_type": "execute_result"
    }
   ],
   "source": [
    "rf_model.score(with_.drop(cols_to_drop, axis=1), delta_e_with)"
   ]
  },
  {
   "cell_type": "code",
   "execution_count": 130,
   "metadata": {},
   "outputs": [
    {
     "data": {
      "text/plain": [
       "<matplotlib.text.Text at 0x125b76b38>"
      ]
     },
     "execution_count": 130,
     "metadata": {},
     "output_type": "execute_result"
    },
    {
     "data": {
      "image/png": "[encoded data removed]",
      "text/plain": [
       "<matplotlib.figure.Figure at 0x11df0c5f8>"
      ]
     },
     "metadata": {},
     "output_type": "display_data"
    }
   ],
   "source": [
    "plt.scatter(delta_e_with, rf_prediction)\n",
    "plt.plot(range(-5, 8), range(-5, 8), 'r')\n",
    "plt.xlabel(\"OQMD Data\")\n",
    "plt.ylabel(\"Predicted\")"
   ]
  },
  {
   "cell_type": "markdown",
   "metadata": {},
   "source": [
    "### Decision Tree Regressor"
   ]
  },
  {
   "cell_type": "code",
   "execution_count": 112,
   "metadata": {
    "collapsed": true
   },
   "outputs": [],
   "source": [
    "dt_model = DecisionTreeRegressor()\n",
    "dt_model.fit(without.drop(cols_to_drop, axis=1), delta_e_without)\n",
    "dt_prediction = dt_model.predict(with_.drop(cols_to_drop, axis=1))"
   ]
  },
  {
   "cell_type": "code",
   "execution_count": 113,
   "metadata": {},
   "outputs": [
    {
     "data": {
      "text/plain": [
       "0.75423111459657999"
      ]
     },
     "execution_count": 113,
     "metadata": {},
     "output_type": "execute_result"
    }
   ],
   "source": [
    "dt_model.score(with_.drop(cols_to_drop, axis=1), delta_e_with)"
   ]
  },
  {
   "cell_type": "code",
   "execution_count": 114,
   "metadata": {},
   "outputs": [
    {
     "data": {
      "text/plain": [
       "<matplotlib.text.Text at 0x11c2eecf8>"
      ]
     },
     "execution_count": 114,
     "metadata": {},
     "output_type": "execute_result"
    },
    {
     "data": {
      "image/png": "[encoded data removed]",
      "text/plain": [
       "<matplotlib.figure.Figure at 0x11ddd93c8>"
      ]
     },
     "metadata": {},
     "output_type": "display_data"
    }
   ],
   "source": [
    "plt.scatter(delta_e_with, dt_prediction)\n",
    "plt.plot(range(-5, 8), range(-5, 8), 'r')\n",
    "plt.xlabel(\"OQMD Data\")\n",
    "plt.ylabel(\"Predicted\")"
   ]
  }
 ],
 "metadata": {
  "kernelspec": {
   "display_name": "Python 3",
   "language": "python",
   "name": "python3"
  },
  "language_info": {
   "codemirror_mode": {
    "name": "ipython",
    "version": 3
   },
   "file_extension": ".py",
   "mimetype": "text/x-python",
   "name": "python",
   "nbconvert_exporter": "python",
   "pygments_lexer": "ipython3",
   "version": "3.6.0"
  }
 },
 "nbformat": 4,
 "nbformat_minor": 2
}
