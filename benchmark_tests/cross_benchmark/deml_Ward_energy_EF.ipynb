{
 "cells": [
  {
   "cell_type": "code",
   "execution_count": 1,
   "metadata": {
    "collapsed": true
   },
   "outputs": [],
   "source": [
    "training_file = 'datasets/deml_dataset.csv'\n",
    "delimiter = ','\n",
    "comp_col = 'composition'"
   ]
  },
  {
   "cell_type": "code",
   "execution_count": 2,
   "metadata": {},
   "outputs": [],
   "source": [
    "import numpy as np\n",
    "import matplotlib.pyplot as plt\n",
    "import re\n",
    "import itertools\n",
    "import pandas as pd\n",
    "import matminer\n",
    "import sys\n",
    "sys.path.append(\"/Users/Ashwin/Desktop/git/matminer\")\n",
    "from pymatgen import Composition, Element\n",
    "from matminer.descriptors.composition_features import ElementFractionAttribute\n",
    "from sklearn.ensemble import RandomForestClassifier, RandomForestRegressor, BaggingClassifier\n",
    "from sklearn.tree import DecisionTreeClassifier, DecisionTreeRegressor\n",
    "from sklearn.model_selection import train_test_split, cross_val_score, KFold\n",
    "from sklearn import datasets\n",
    "from sklearn import svm\n",
    "import datetime\n",
    "from sklearn.multiclass import OneVsRestClassifier\n",
    "%matplotlib inline"
   ]
  },
  {
   "cell_type": "code",
   "execution_count": 3,
   "metadata": {},
   "outputs": [],
   "source": [
    "def load_training_set(files, sep):\n",
    "    if type(files) is not list:\n",
    "        training_set = pd.read_csv(files, sep=sep)\n",
    "    else:\n",
    "        training_set = pd.DataFrame()\n",
    "        for i in range(len(files)):\n",
    "            training_set.append(pd.read_csv(files[i], sep=sep[i]))\n",
    "    \n",
    "    return training_set\n",
    "\n",
    "training_set = load_training_set(training_file, delimiter)"
   ]
  },
  {
   "cell_type": "markdown",
   "metadata": {},
   "source": [
    "# Create PyMatGen Composition Objects"
   ]
  },
  {
   "cell_type": "code",
   "execution_count": 4,
   "metadata": {},
   "outputs": [
    {
     "data": {
      "text/html": [
       "<div>\n",
       "<style>\n",
       "    .dataframe thead tr:only-child th {\n",
       "        text-align: right;\n",
       "    }\n",
       "\n",
       "    .dataframe thead th {\n",
       "        text-align: left;\n",
       "    }\n",
       "\n",
       "    .dataframe tbody tr th {\n",
       "        vertical-align: top;\n",
       "    }\n",
       "</style>\n",
       "<table border=\"1\" class=\"dataframe\">\n",
       "  <thead>\n",
       "    <tr style=\"text-align: right;\">\n",
       "      <th></th>\n",
       "      <th>composition</th>\n",
       "      <th>delta_e</th>\n",
       "      <th>comp_obj</th>\n",
       "    </tr>\n",
       "  </thead>\n",
       "  <tbody>\n",
       "    <tr>\n",
       "      <th>0</th>\n",
       "      <td>As1Y1</td>\n",
       "      <td>-1.555732</td>\n",
       "      <td>(As, Y)</td>\n",
       "    </tr>\n",
       "    <tr>\n",
       "      <th>1</th>\n",
       "      <td>Ga1P1</td>\n",
       "      <td>-0.534169</td>\n",
       "      <td>(Ga, P)</td>\n",
       "    </tr>\n",
       "    <tr>\n",
       "      <th>2</th>\n",
       "      <td>Ga2Mg1S4</td>\n",
       "      <td>-1.068504</td>\n",
       "      <td>(Ga, Mg, S)</td>\n",
       "    </tr>\n",
       "    <tr>\n",
       "      <th>3</th>\n",
       "      <td>Cd4K1O12V3</td>\n",
       "      <td>-1.968765</td>\n",
       "      <td>(Cd, K, O, V)</td>\n",
       "    </tr>\n",
       "    <tr>\n",
       "      <th>4</th>\n",
       "      <td>Al1Ca1Fe1Na1O12Si4</td>\n",
       "      <td>-2.949067</td>\n",
       "      <td>(Al, Ca, Fe, Na, O, Si)</td>\n",
       "    </tr>\n",
       "    <tr>\n",
       "      <th>5</th>\n",
       "      <td>Hf1O3Pb1</td>\n",
       "      <td>-2.830320</td>\n",
       "      <td>(Hf, O, Pb)</td>\n",
       "    </tr>\n",
       "    <tr>\n",
       "      <th>6</th>\n",
       "      <td>Al2Ba2Co1F14Mn1</td>\n",
       "      <td>-3.488390</td>\n",
       "      <td>(Al, Ba, Co, F, Mn)</td>\n",
       "    </tr>\n",
       "    <tr>\n",
       "      <th>7</th>\n",
       "      <td>Ba2Cd1F14Fe2Mn1</td>\n",
       "      <td>-3.007836</td>\n",
       "      <td>(Ba, Cd, F, Fe, Mn)</td>\n",
       "    </tr>\n",
       "    <tr>\n",
       "      <th>8</th>\n",
       "      <td>Be2O4Si1</td>\n",
       "      <td>-3.020793</td>\n",
       "      <td>(Be, O, Si)</td>\n",
       "    </tr>\n",
       "    <tr>\n",
       "      <th>9</th>\n",
       "      <td>Ba2Ca1Cu1F14Ga2</td>\n",
       "      <td>-3.325601</td>\n",
       "      <td>(Ba, Ca, Cu, F, Ga)</td>\n",
       "    </tr>\n",
       "    <tr>\n",
       "      <th>10</th>\n",
       "      <td>Ge1O4Zn2</td>\n",
       "      <td>-1.809053</td>\n",
       "      <td>(Ge, O, Zn)</td>\n",
       "    </tr>\n",
       "    <tr>\n",
       "      <th>11</th>\n",
       "      <td>Ca1Cr1F7Sr1</td>\n",
       "      <td>-3.707430</td>\n",
       "      <td>(Ca, Cr, F, Sr)</td>\n",
       "    </tr>\n",
       "    <tr>\n",
       "      <th>12</th>\n",
       "      <td>As3Ga1Na6</td>\n",
       "      <td>-0.523152</td>\n",
       "      <td>(As, Ga, Na)</td>\n",
       "    </tr>\n",
       "    <tr>\n",
       "      <th>13</th>\n",
       "      <td>Ga1Na6P3</td>\n",
       "      <td>-0.548523</td>\n",
       "      <td>(Ga, Na, P)</td>\n",
       "    </tr>\n",
       "    <tr>\n",
       "      <th>14</th>\n",
       "      <td>Al2Ba2Cu1F14Mn1</td>\n",
       "      <td>-3.463375</td>\n",
       "      <td>(Al, Ba, Cu, F, Mn)</td>\n",
       "    </tr>\n",
       "    <tr>\n",
       "      <th>15</th>\n",
       "      <td>O4Si1Zn2</td>\n",
       "      <td>-2.286625</td>\n",
       "      <td>(O, Si, Zn)</td>\n",
       "    </tr>\n",
       "    <tr>\n",
       "      <th>16</th>\n",
       "      <td>Al2Ca1O4</td>\n",
       "      <td>-3.293900</td>\n",
       "      <td>(Al, Ca, O)</td>\n",
       "    </tr>\n",
       "    <tr>\n",
       "      <th>17</th>\n",
       "      <td>K3Nb3O13Si2</td>\n",
       "      <td>-2.818445</td>\n",
       "      <td>(K, Nb, O, Si)</td>\n",
       "    </tr>\n",
       "    <tr>\n",
       "      <th>18</th>\n",
       "      <td>Ga1Sb1</td>\n",
       "      <td>-0.167088</td>\n",
       "      <td>(Ga, Sb)</td>\n",
       "    </tr>\n",
       "    <tr>\n",
       "      <th>19</th>\n",
       "      <td>Ba1O4Sc2</td>\n",
       "      <td>-3.534127</td>\n",
       "      <td>(Ba, O, Sc)</td>\n",
       "    </tr>\n",
       "    <tr>\n",
       "      <th>20</th>\n",
       "      <td>Ge3Na4O12Zr2</td>\n",
       "      <td>-2.477888</td>\n",
       "      <td>(Ge, Na, O, Zr)</td>\n",
       "    </tr>\n",
       "    <tr>\n",
       "      <th>21</th>\n",
       "      <td>Ba3In2O11Zn5</td>\n",
       "      <td>-2.038818</td>\n",
       "      <td>(Ba, In, O, Zn)</td>\n",
       "    </tr>\n",
       "    <tr>\n",
       "      <th>22</th>\n",
       "      <td>Ba1Mn1Sb2</td>\n",
       "      <td>-0.452687</td>\n",
       "      <td>(Ba, Mn, Sb)</td>\n",
       "    </tr>\n",
       "    <tr>\n",
       "      <th>23</th>\n",
       "      <td>Ge4O9Sr1</td>\n",
       "      <td>-2.158955</td>\n",
       "      <td>(Ge, O, Sr)</td>\n",
       "    </tr>\n",
       "    <tr>\n",
       "      <th>24</th>\n",
       "      <td>Ba1Co1O4Si1</td>\n",
       "      <td>-2.518078</td>\n",
       "      <td>(Ba, Co, O, Si)</td>\n",
       "    </tr>\n",
       "    <tr>\n",
       "      <th>25</th>\n",
       "      <td>Ge2K3Nb3O13</td>\n",
       "      <td>-2.469440</td>\n",
       "      <td>(Ge, K, Nb, O)</td>\n",
       "    </tr>\n",
       "    <tr>\n",
       "      <th>26</th>\n",
       "      <td>Ba1Mg1O4Si1</td>\n",
       "      <td>-3.156372</td>\n",
       "      <td>(Ba, Mg, O, Si)</td>\n",
       "    </tr>\n",
       "    <tr>\n",
       "      <th>27</th>\n",
       "      <td>Na2O13Si4Ti2</td>\n",
       "      <td>-2.994975</td>\n",
       "      <td>(Na, O, Si, Ti)</td>\n",
       "    </tr>\n",
       "    <tr>\n",
       "      <th>28</th>\n",
       "      <td>Ba2Cu5F14</td>\n",
       "      <td>-2.422743</td>\n",
       "      <td>(Ba, Cu, F)</td>\n",
       "    </tr>\n",
       "    <tr>\n",
       "      <th>29</th>\n",
       "      <td>Ba1O4Si1Zn1</td>\n",
       "      <td>-2.780893</td>\n",
       "      <td>(Ba, O, Si, Zn)</td>\n",
       "    </tr>\n",
       "    <tr>\n",
       "      <th>...</th>\n",
       "      <td>...</td>\n",
       "      <td>...</td>\n",
       "      <td>...</td>\n",
       "    </tr>\n",
       "    <tr>\n",
       "      <th>2308</th>\n",
       "      <td>Ba1Ca1F7Ga1</td>\n",
       "      <td>-3.705833</td>\n",
       "      <td>(Ba, Ca, F, Ga)</td>\n",
       "    </tr>\n",
       "    <tr>\n",
       "      <th>2309</th>\n",
       "      <td>Ba1F7Fe1Mn1</td>\n",
       "      <td>-3.028555</td>\n",
       "      <td>(Ba, F, Fe, Mn)</td>\n",
       "    </tr>\n",
       "    <tr>\n",
       "      <th>2310</th>\n",
       "      <td>In1K3Na2O4</td>\n",
       "      <td>-1.555390</td>\n",
       "      <td>(In, K, Na, O)</td>\n",
       "    </tr>\n",
       "    <tr>\n",
       "      <th>2311</th>\n",
       "      <td>Mg4Na1O12V3</td>\n",
       "      <td>-2.663958</td>\n",
       "      <td>(Mg, Na, O, V)</td>\n",
       "    </tr>\n",
       "    <tr>\n",
       "      <th>2312</th>\n",
       "      <td>Be1Na2O2</td>\n",
       "      <td>-2.117752</td>\n",
       "      <td>(Be, Na, O)</td>\n",
       "    </tr>\n",
       "    <tr>\n",
       "      <th>2313</th>\n",
       "      <td>Ba1Ca1Cr1F7</td>\n",
       "      <td>-3.708148</td>\n",
       "      <td>(Ba, Ca, Cr, F)</td>\n",
       "    </tr>\n",
       "    <tr>\n",
       "      <th>2314</th>\n",
       "      <td>Ba1F7Na1Zr1</td>\n",
       "      <td>-3.894199</td>\n",
       "      <td>(Ba, F, Na, Zr)</td>\n",
       "    </tr>\n",
       "    <tr>\n",
       "      <th>2315</th>\n",
       "      <td>Al1Mo1O7V1</td>\n",
       "      <td>-2.527260</td>\n",
       "      <td>(Al, Mo, O, V)</td>\n",
       "    </tr>\n",
       "    <tr>\n",
       "      <th>2316</th>\n",
       "      <td>Cu1F3K1</td>\n",
       "      <td>-2.326135</td>\n",
       "      <td>(Cu, F, K)</td>\n",
       "    </tr>\n",
       "    <tr>\n",
       "      <th>2317</th>\n",
       "      <td>Al1Ca2F7</td>\n",
       "      <td>-4.070533</td>\n",
       "      <td>(Al, Ca, F)</td>\n",
       "    </tr>\n",
       "    <tr>\n",
       "      <th>2318</th>\n",
       "      <td>Cu1F7Hf1K1</td>\n",
       "      <td>-3.213797</td>\n",
       "      <td>(Cu, F, Hf, K)</td>\n",
       "    </tr>\n",
       "    <tr>\n",
       "      <th>2319</th>\n",
       "      <td>F3K1Sn1</td>\n",
       "      <td>-2.769554</td>\n",
       "      <td>(F, K, Sn)</td>\n",
       "    </tr>\n",
       "    <tr>\n",
       "      <th>2320</th>\n",
       "      <td>Cl6In1K3</td>\n",
       "      <td>-1.878524</td>\n",
       "      <td>(Cl, In, K)</td>\n",
       "    </tr>\n",
       "    <tr>\n",
       "      <th>2321</th>\n",
       "      <td>O3Pb1Zr1</td>\n",
       "      <td>-2.688863</td>\n",
       "      <td>(O, Pb, Zr)</td>\n",
       "    </tr>\n",
       "    <tr>\n",
       "      <th>2322</th>\n",
       "      <td>Ba1Cd1F7Ga1</td>\n",
       "      <td>-3.177542</td>\n",
       "      <td>(Ba, Cd, F, Ga)</td>\n",
       "    </tr>\n",
       "    <tr>\n",
       "      <th>2323</th>\n",
       "      <td>Al1Fe1O3</td>\n",
       "      <td>-2.451067</td>\n",
       "      <td>(Al, Fe, O)</td>\n",
       "    </tr>\n",
       "    <tr>\n",
       "      <th>2324</th>\n",
       "      <td>Cr1F7Pb2</td>\n",
       "      <td>-2.763725</td>\n",
       "      <td>(Cr, F, Pb)</td>\n",
       "    </tr>\n",
       "    <tr>\n",
       "      <th>2325</th>\n",
       "      <td>Ca1Cu3O12Ti4</td>\n",
       "      <td>-2.555322</td>\n",
       "      <td>(Ca, Cu, O, Ti)</td>\n",
       "    </tr>\n",
       "    <tr>\n",
       "      <th>2326</th>\n",
       "      <td>Hf1O7V2</td>\n",
       "      <td>-2.804765</td>\n",
       "      <td>(Hf, O, V)</td>\n",
       "    </tr>\n",
       "    <tr>\n",
       "      <th>2327</th>\n",
       "      <td>Mg1O3Si1</td>\n",
       "      <td>-3.074223</td>\n",
       "      <td>(Mg, O, Si)</td>\n",
       "    </tr>\n",
       "    <tr>\n",
       "      <th>2328</th>\n",
       "      <td>Fe1O3Zr1</td>\n",
       "      <td>-2.695420</td>\n",
       "      <td>(Fe, O, Zr)</td>\n",
       "    </tr>\n",
       "    <tr>\n",
       "      <th>2329</th>\n",
       "      <td>F7K1Sn1Zr1</td>\n",
       "      <td>-3.405506</td>\n",
       "      <td>(F, K, Sn, Zr)</td>\n",
       "    </tr>\n",
       "    <tr>\n",
       "      <th>2330</th>\n",
       "      <td>Cd3P2</td>\n",
       "      <td>-0.158201</td>\n",
       "      <td>(Cd, P)</td>\n",
       "    </tr>\n",
       "    <tr>\n",
       "      <th>2331</th>\n",
       "      <td>Ag1Nb1O3</td>\n",
       "      <td>-2.019452</td>\n",
       "      <td>(Ag, Nb, O)</td>\n",
       "    </tr>\n",
       "    <tr>\n",
       "      <th>2332</th>\n",
       "      <td>Al2Te3</td>\n",
       "      <td>-0.450581</td>\n",
       "      <td>(Al, Te)</td>\n",
       "    </tr>\n",
       "    <tr>\n",
       "      <th>2333</th>\n",
       "      <td>Be3P2</td>\n",
       "      <td>-0.332600</td>\n",
       "      <td>(Be, P)</td>\n",
       "    </tr>\n",
       "    <tr>\n",
       "      <th>2334</th>\n",
       "      <td>Mo1Na4O5</td>\n",
       "      <td>-2.109603</td>\n",
       "      <td>(Mo, Na, O)</td>\n",
       "    </tr>\n",
       "    <tr>\n",
       "      <th>2335</th>\n",
       "      <td>Cd3N2</td>\n",
       "      <td>0.464897</td>\n",
       "      <td>(Cd, N)</td>\n",
       "    </tr>\n",
       "    <tr>\n",
       "      <th>2336</th>\n",
       "      <td>Al1Ba1Ca1F7</td>\n",
       "      <td>-4.077008</td>\n",
       "      <td>(Al, Ba, Ca, F)</td>\n",
       "    </tr>\n",
       "    <tr>\n",
       "      <th>2337</th>\n",
       "      <td>O7V2Zr1</td>\n",
       "      <td>-2.733333</td>\n",
       "      <td>(O, V, Zr)</td>\n",
       "    </tr>\n",
       "  </tbody>\n",
       "</table>\n",
       "<p>2338 rows × 3 columns</p>\n",
       "</div>"
      ],
      "text/plain": [
       "             composition   delta_e                 comp_obj\n",
       "0                  As1Y1 -1.555732                  (As, Y)\n",
       "1                  Ga1P1 -0.534169                  (Ga, P)\n",
       "2               Ga2Mg1S4 -1.068504              (Ga, Mg, S)\n",
       "3             Cd4K1O12V3 -1.968765            (Cd, K, O, V)\n",
       "4     Al1Ca1Fe1Na1O12Si4 -2.949067  (Al, Ca, Fe, Na, O, Si)\n",
       "5               Hf1O3Pb1 -2.830320              (Hf, O, Pb)\n",
       "6        Al2Ba2Co1F14Mn1 -3.488390      (Al, Ba, Co, F, Mn)\n",
       "7        Ba2Cd1F14Fe2Mn1 -3.007836      (Ba, Cd, F, Fe, Mn)\n",
       "8               Be2O4Si1 -3.020793              (Be, O, Si)\n",
       "9        Ba2Ca1Cu1F14Ga2 -3.325601      (Ba, Ca, Cu, F, Ga)\n",
       "10              Ge1O4Zn2 -1.809053              (Ge, O, Zn)\n",
       "11           Ca1Cr1F7Sr1 -3.707430          (Ca, Cr, F, Sr)\n",
       "12             As3Ga1Na6 -0.523152             (As, Ga, Na)\n",
       "13              Ga1Na6P3 -0.548523              (Ga, Na, P)\n",
       "14       Al2Ba2Cu1F14Mn1 -3.463375      (Al, Ba, Cu, F, Mn)\n",
       "15              O4Si1Zn2 -2.286625              (O, Si, Zn)\n",
       "16              Al2Ca1O4 -3.293900              (Al, Ca, O)\n",
       "17           K3Nb3O13Si2 -2.818445           (K, Nb, O, Si)\n",
       "18                Ga1Sb1 -0.167088                 (Ga, Sb)\n",
       "19              Ba1O4Sc2 -3.534127              (Ba, O, Sc)\n",
       "20          Ge3Na4O12Zr2 -2.477888          (Ge, Na, O, Zr)\n",
       "21          Ba3In2O11Zn5 -2.038818          (Ba, In, O, Zn)\n",
       "22             Ba1Mn1Sb2 -0.452687             (Ba, Mn, Sb)\n",
       "23              Ge4O9Sr1 -2.158955              (Ge, O, Sr)\n",
       "24           Ba1Co1O4Si1 -2.518078          (Ba, Co, O, Si)\n",
       "25           Ge2K3Nb3O13 -2.469440           (Ge, K, Nb, O)\n",
       "26           Ba1Mg1O4Si1 -3.156372          (Ba, Mg, O, Si)\n",
       "27          Na2O13Si4Ti2 -2.994975          (Na, O, Si, Ti)\n",
       "28             Ba2Cu5F14 -2.422743              (Ba, Cu, F)\n",
       "29           Ba1O4Si1Zn1 -2.780893          (Ba, O, Si, Zn)\n",
       "...                  ...       ...                      ...\n",
       "2308         Ba1Ca1F7Ga1 -3.705833          (Ba, Ca, F, Ga)\n",
       "2309         Ba1F7Fe1Mn1 -3.028555          (Ba, F, Fe, Mn)\n",
       "2310          In1K3Na2O4 -1.555390           (In, K, Na, O)\n",
       "2311         Mg4Na1O12V3 -2.663958           (Mg, Na, O, V)\n",
       "2312            Be1Na2O2 -2.117752              (Be, Na, O)\n",
       "2313         Ba1Ca1Cr1F7 -3.708148          (Ba, Ca, Cr, F)\n",
       "2314         Ba1F7Na1Zr1 -3.894199          (Ba, F, Na, Zr)\n",
       "2315          Al1Mo1O7V1 -2.527260           (Al, Mo, O, V)\n",
       "2316             Cu1F3K1 -2.326135               (Cu, F, K)\n",
       "2317            Al1Ca2F7 -4.070533              (Al, Ca, F)\n",
       "2318          Cu1F7Hf1K1 -3.213797           (Cu, F, Hf, K)\n",
       "2319             F3K1Sn1 -2.769554               (F, K, Sn)\n",
       "2320            Cl6In1K3 -1.878524              (Cl, In, K)\n",
       "2321            O3Pb1Zr1 -2.688863              (O, Pb, Zr)\n",
       "2322         Ba1Cd1F7Ga1 -3.177542          (Ba, Cd, F, Ga)\n",
       "2323            Al1Fe1O3 -2.451067              (Al, Fe, O)\n",
       "2324            Cr1F7Pb2 -2.763725              (Cr, F, Pb)\n",
       "2325        Ca1Cu3O12Ti4 -2.555322          (Ca, Cu, O, Ti)\n",
       "2326             Hf1O7V2 -2.804765               (Hf, O, V)\n",
       "2327            Mg1O3Si1 -3.074223              (Mg, O, Si)\n",
       "2328            Fe1O3Zr1 -2.695420              (Fe, O, Zr)\n",
       "2329          F7K1Sn1Zr1 -3.405506           (F, K, Sn, Zr)\n",
       "2330               Cd3P2 -0.158201                  (Cd, P)\n",
       "2331            Ag1Nb1O3 -2.019452              (Ag, Nb, O)\n",
       "2332              Al2Te3 -0.450581                 (Al, Te)\n",
       "2333               Be3P2 -0.332600                  (Be, P)\n",
       "2334            Mo1Na4O5 -2.109603              (Mo, Na, O)\n",
       "2335               Cd3N2  0.464897                  (Cd, N)\n",
       "2336         Al1Ba1Ca1F7 -4.077008          (Al, Ba, Ca, F)\n",
       "2337             O7V2Zr1 -2.733333               (O, V, Zr)\n",
       "\n",
       "[2338 rows x 3 columns]"
      ]
     },
     "execution_count": 4,
     "metadata": {},
     "output_type": "execute_result"
    }
   ],
   "source": [
    "comp_objects = [Composition(comp) for comp in training_set[comp_col]]\n",
    "training_set = training_set.assign(comp_obj=comp_objects)\n",
    "training_set"
   ]
  },
  {
   "cell_type": "markdown",
   "metadata": {},
   "source": [
    "## Compute element fraction descriptors with MatMiner"
   ]
  },
  {
   "cell_type": "code",
   "execution_count": 5,
   "metadata": {},
   "outputs": [
    {
     "name": "stdout",
     "output_type": "stream",
     "text": [
      "CPU times: user 246 ms, sys: 8.5 ms, total: 254 ms\n",
      "Wall time: 254 ms\n"
     ]
    }
   ],
   "source": [
    "%%time\n",
    "\n",
    "def calc_attributes(training_set):\n",
    "    not_attr = list(training_set)\n",
    "    training_set_updated = ElementFractionAttribute().featurize_dataframe(training_set, col_id='comp_obj')\n",
    "    all_cols = list(training_set_updated)\n",
    "    attr_names = [col for col in all_cols if col not in not_attr]\n",
    "    return training_set_updated, attr_names\n",
    "all_desc, attr_names = calc_attributes(training_set)\n",
    "np.shape(all_desc)"
   ]
  },
  {
   "cell_type": "markdown",
   "metadata": {},
   "source": [
    "## Predicting formation energy"
   ]
  },
  {
   "cell_type": "code",
   "execution_count": 6,
   "metadata": {},
   "outputs": [
    {
     "data": {
      "text/plain": [
       "(2338, 106)"
      ]
     },
     "execution_count": 6,
     "metadata": {},
     "output_type": "execute_result"
    }
   ],
   "source": [
    "#Drop invalid rows from training_set\n",
    "\n",
    "training_set_use = all_desc.replace(\"None\", np.nan)\n",
    "training_set_use.replace(np.inf, np.nan, inplace=True)\n",
    "training_set_use.dropna(inplace=True)\n",
    "\n",
    "np.shape(training_set_use)"
   ]
  },
  {
   "cell_type": "code",
   "execution_count": 7,
   "metadata": {},
   "outputs": [
    {
     "name": "stdout",
     "output_type": "stream",
     "text": [
      "['n' 'n' 'n' ..., 'p' 'n' 'n']\n"
     ]
    }
   ],
   "source": [
    "#Discretize into pos/neg formation energy for classification\n",
    "\n",
    "delta_e = np.array(training_set_use['delta_e'], dtype=float)\n",
    "\n",
    "energy_range = np.zeros(np.shape(delta_e), dtype=str)\n",
    "for i in range(len(delta_e)):\n",
    "    if delta_e[i] < 0:\n",
    "        energy_range[i] = 'neg'\n",
    "    else:\n",
    "        energy_range[i] = 'pos'\n",
    "\n",
    "print(energy_range)"
   ]
  },
  {
   "cell_type": "markdown",
   "metadata": {},
   "source": [
    "## ML Models + KFold Cross Validation"
   ]
  },
  {
   "cell_type": "code",
   "execution_count": 8,
   "metadata": {
    "collapsed": true
   },
   "outputs": [],
   "source": [
    "from sklearn.model_selection import ShuffleSplit\n",
    "def shuffle_split_cross_val(model, samples, n_splits=10, test_size=0.3):\n",
    "    cv = ShuffleSplit(n_splits=10, test_size=0.3, random_state = 0)\n",
    "    scores = cross_val_score(model, training_set_use[attr_names], samples, cv=cv)\n",
    "    print(\"Average Accuracy: \", scores.mean(), \". Standard Deviation: \", scores.std())"
   ]
  },
  {
   "cell_type": "markdown",
   "metadata": {},
   "source": [
    "### Random Forest Classifier"
   ]
  },
  {
   "cell_type": "code",
   "execution_count": 9,
   "metadata": {},
   "outputs": [
    {
     "name": "stdout",
     "output_type": "stream",
     "text": [
      "CPU times: user 41.6 ms, sys: 3 ms, total: 44.6 ms\n",
      "Wall time: 55.2 ms\n"
     ]
    }
   ],
   "source": [
    "%%time\n",
    "#Random Forest Classifier\n",
    "\n",
    "rfc = RandomForestClassifier(n_estimators=10, criterion='gini', min_samples_split=2)\n",
    "rfc.fit(training_set_use[attr_names], energy_range)\n",
    "rfc_prediction = rfc.predict(training_set_use[attr_names])"
   ]
  },
  {
   "cell_type": "code",
   "execution_count": 10,
   "metadata": {},
   "outputs": [
    {
     "data": {
      "text/html": [
       "<div>\n",
       "<style>\n",
       "    .dataframe thead tr:only-child th {\n",
       "        text-align: right;\n",
       "    }\n",
       "\n",
       "    .dataframe thead th {\n",
       "        text-align: left;\n",
       "    }\n",
       "\n",
       "    .dataframe tbody tr th {\n",
       "        vertical-align: top;\n",
       "    }\n",
       "</style>\n",
       "<table border=\"1\" class=\"dataframe\">\n",
       "  <thead>\n",
       "    <tr style=\"text-align: right;\">\n",
       "      <th>predicted</th>\n",
       "      <th>n</th>\n",
       "      <th>p</th>\n",
       "    </tr>\n",
       "    <tr>\n",
       "      <th>actual</th>\n",
       "      <th></th>\n",
       "      <th></th>\n",
       "    </tr>\n",
       "  </thead>\n",
       "  <tbody>\n",
       "    <tr>\n",
       "      <th>n</th>\n",
       "      <td>2323</td>\n",
       "      <td>0</td>\n",
       "    </tr>\n",
       "    <tr>\n",
       "      <th>p</th>\n",
       "      <td>4</td>\n",
       "      <td>11</td>\n",
       "    </tr>\n",
       "  </tbody>\n",
       "</table>\n",
       "</div>"
      ],
      "text/plain": [
       "predicted     n   p\n",
       "actual             \n",
       "n          2323   0\n",
       "p             4  11"
      ]
     },
     "execution_count": 10,
     "metadata": {},
     "output_type": "execute_result"
    }
   ],
   "source": [
    "pd.crosstab(energy_range, rfc_prediction, rownames=['actual'], colnames=['predicted'])"
   ]
  },
  {
   "cell_type": "code",
   "execution_count": 11,
   "metadata": {},
   "outputs": [
    {
     "name": "stdout",
     "output_type": "stream",
     "text": [
      "Average Accuracy:  0.992877492877 . Standard Deviation:  0.00305521518369\n",
      "CPU times: user 278 ms, sys: 9.74 ms, total: 288 ms\n",
      "Wall time: 291 ms\n"
     ]
    }
   ],
   "source": [
    "%%time\n",
    "shuffle_split_cross_val(rfc, energy_range)"
   ]
  },
  {
   "cell_type": "markdown",
   "metadata": {},
   "source": [
    "### Decision Tree Classifier"
   ]
  },
  {
   "cell_type": "code",
   "execution_count": 12,
   "metadata": {
    "collapsed": true
   },
   "outputs": [],
   "source": [
    "dtc = DecisionTreeClassifier()\n",
    "dtc.fit(training_set_use[attr_names], energy_range)\n",
    "dtc_prediction = dtc.predict(training_set_use[attr_names])"
   ]
  },
  {
   "cell_type": "code",
   "execution_count": 13,
   "metadata": {},
   "outputs": [
    {
     "data": {
      "text/html": [
       "<div>\n",
       "<style>\n",
       "    .dataframe thead tr:only-child th {\n",
       "        text-align: right;\n",
       "    }\n",
       "\n",
       "    .dataframe thead th {\n",
       "        text-align: left;\n",
       "    }\n",
       "\n",
       "    .dataframe tbody tr th {\n",
       "        vertical-align: top;\n",
       "    }\n",
       "</style>\n",
       "<table border=\"1\" class=\"dataframe\">\n",
       "  <thead>\n",
       "    <tr style=\"text-align: right;\">\n",
       "      <th>predicted</th>\n",
       "      <th>n</th>\n",
       "      <th>p</th>\n",
       "    </tr>\n",
       "    <tr>\n",
       "      <th>actual</th>\n",
       "      <th></th>\n",
       "      <th></th>\n",
       "    </tr>\n",
       "  </thead>\n",
       "  <tbody>\n",
       "    <tr>\n",
       "      <th>n</th>\n",
       "      <td>2323</td>\n",
       "      <td>0</td>\n",
       "    </tr>\n",
       "    <tr>\n",
       "      <th>p</th>\n",
       "      <td>0</td>\n",
       "      <td>15</td>\n",
       "    </tr>\n",
       "  </tbody>\n",
       "</table>\n",
       "</div>"
      ],
      "text/plain": [
       "predicted     n   p\n",
       "actual             \n",
       "n          2323   0\n",
       "p             0  15"
      ]
     },
     "execution_count": 13,
     "metadata": {},
     "output_type": "execute_result"
    }
   ],
   "source": [
    "pd.crosstab(energy_range, dtc_prediction, rownames=[\"actual\"], colnames=[\"predicted\"])"
   ]
  },
  {
   "cell_type": "code",
   "execution_count": 14,
   "metadata": {},
   "outputs": [
    {
     "name": "stdout",
     "output_type": "stream",
     "text": [
      "Average Accuracy:  0.989601139601 . Standard Deviation:  0.00292283255394\n",
      "CPU times: user 89.3 ms, sys: 2.88 ms, total: 92.2 ms\n",
      "Wall time: 91.2 ms\n"
     ]
    }
   ],
   "source": [
    "%%time\n",
    "shuffle_split_cross_val(dtc, energy_range)"
   ]
  },
  {
   "cell_type": "markdown",
   "metadata": {},
   "source": [
    "### Random Forest Regressor"
   ]
  },
  {
   "cell_type": "code",
   "execution_count": 15,
   "metadata": {},
   "outputs": [
    {
     "data": {
      "text/plain": [
       "RandomForestRegressor(bootstrap=True, criterion='mse', max_depth=None,\n",
       "           max_features='auto', max_leaf_nodes=None,\n",
       "           min_impurity_split=1e-07, min_samples_leaf=1,\n",
       "           min_samples_split=2, min_weight_fraction_leaf=0.0,\n",
       "           n_estimators=10, n_jobs=1, oob_score=False, random_state=None,\n",
       "           verbose=0, warm_start=False)"
      ]
     },
     "execution_count": 15,
     "metadata": {},
     "output_type": "execute_result"
    }
   ],
   "source": [
    "rf_model = RandomForestRegressor()\n",
    "rf_model.fit(training_set_use[attr_names], delta_e)"
   ]
  },
  {
   "cell_type": "code",
   "execution_count": 16,
   "metadata": {
    "collapsed": true
   },
   "outputs": [],
   "source": [
    "rf_prediction = rf_model.predict(training_set_use[attr_names])"
   ]
  },
  {
   "cell_type": "code",
   "execution_count": 17,
   "metadata": {},
   "outputs": [
    {
     "data": {
      "text/plain": [
       "<matplotlib.text.Text at 0x10b11d358>"
      ]
     },
     "execution_count": 17,
     "metadata": {},
     "output_type": "execute_result"
    },
    {
     "data": {
      "image/png": "[encoded data removed]",
      "text/plain": [
       "<matplotlib.figure.Figure at 0x10b070dd8>"
      ]
     },
     "metadata": {},
     "output_type": "display_data"
    }
   ],
   "source": [
    "plt.scatter(delta_e, rf_prediction)\n",
    "plt.plot(range(-5,8), range(-5,8), 'r')\n",
    "plt.xlabel(\"OQMD Data\")\n",
    "plt.ylabel(\"Predicted\")"
   ]
  },
  {
   "cell_type": "code",
   "execution_count": 18,
   "metadata": {},
   "outputs": [
    {
     "name": "stdout",
     "output_type": "stream",
     "text": [
      "Average Accuracy:  0.93791431459 . Standard Deviation:  0.00780321965523\n",
      "CPU times: user 1.08 s, sys: 11.9 ms, total: 1.1 s\n",
      "Wall time: 1.1 s\n"
     ]
    }
   ],
   "source": [
    "%%time\n",
    "shuffle_split_cross_val(rf_model, delta_e)"
   ]
  },
  {
   "cell_type": "markdown",
   "metadata": {},
   "source": [
    "### Decision Forest Regressor"
   ]
  },
  {
   "cell_type": "code",
   "execution_count": 19,
   "metadata": {},
   "outputs": [
    {
     "data": {
      "text/plain": [
       "DecisionTreeRegressor(criterion='mse', max_depth=None, max_features=None,\n",
       "           max_leaf_nodes=None, min_impurity_split=1e-07,\n",
       "           min_samples_leaf=1, min_samples_split=2,\n",
       "           min_weight_fraction_leaf=0.0, presort=False, random_state=None,\n",
       "           splitter='best')"
      ]
     },
     "execution_count": 19,
     "metadata": {},
     "output_type": "execute_result"
    }
   ],
   "source": [
    "dt_model = DecisionTreeRegressor()\n",
    "dt_model.fit(training_set_use[attr_names], delta_e)"
   ]
  },
  {
   "cell_type": "code",
   "execution_count": 20,
   "metadata": {
    "collapsed": true
   },
   "outputs": [],
   "source": [
    "dt_prediction = dt_model.predict(training_set_use[attr_names])"
   ]
  },
  {
   "cell_type": "code",
   "execution_count": 21,
   "metadata": {},
   "outputs": [
    {
     "data": {
      "text/plain": [
       "<matplotlib.text.Text at 0x10c6b5470>"
      ]
     },
     "execution_count": 21,
     "metadata": {},
     "output_type": "execute_result"
    },
    {
     "data": {
      "image/png": "[encoded data removed]",
      "text/plain": [
       "<matplotlib.figure.Figure at 0x10c495860>"
      ]
     },
     "metadata": {},
     "output_type": "display_data"
    }
   ],
   "source": [
    "plt.scatter(delta_e, dt_prediction)\n",
    "plt.plot(range(-5,8), range(-5,8), 'r')\n",
    "plt.xlabel(\"OQMD Data\")\n",
    "plt.ylabel(\"Predicted\")"
   ]
  },
  {
   "cell_type": "code",
   "execution_count": 22,
   "metadata": {},
   "outputs": [
    {
     "name": "stdout",
     "output_type": "stream",
     "text": [
      "Average Accuracy:  0.902463748738 . Standard Deviation:  0.0094182670996\n",
      "CPU times: user 181 ms, sys: 5.32 ms, total: 186 ms\n",
      "Wall time: 188 ms\n"
     ]
    }
   ],
   "source": [
    "%%time\n",
    "shuffle_split_cross_val(dt_model, delta_e)"
   ]
  },
  {
   "cell_type": "markdown",
   "metadata": {},
   "source": [
    "# Split Dataset by Element for Aluminum"
   ]
  },
  {
   "cell_type": "code",
   "execution_count": 23,
   "metadata": {
    "collapsed": true
   },
   "outputs": [],
   "source": [
    "cols_to_drop = ['comp', 'energy_pa', 'volume_pa', 'magmom_pa', 'bandgap', 'stability', 'comp_obj', 'is_groundstate', 'delta_e']"
   ]
  },
  {
   "cell_type": "code",
   "execution_count": 24,
   "metadata": {
    "collapsed": true
   },
   "outputs": [],
   "source": [
    "def get_elements(comp):\n",
    "    return comp.elements\n",
    "\n",
    "def split_by_element(training_set, element):\n",
    "    \"\"\"\n",
    "    Splits dataframe into two datasets: one without the element inputted and the other with. Provides datasets for machine learning models.\n",
    "    \n",
    "    Args:\n",
    "        training_set: pandas data frame containing training data\n",
    "        element: string represenation of an element\n",
    "    Returns:\n",
    "        Two dataframes -- one with compounds with the element in it, the other without\n",
    "    \"\"\"\n",
    "    #print(training_set.head())\n",
    "    #for comp in training_set['comp_obj']:\n",
    "        #if Element(element) in comp.elements:\n",
    "        \n",
    "    training_set['els'] = training_set['comp_obj'].apply(get_elements)\n",
    "    training_set['is_in'] = False\n",
    "    for count, el_list in enumerate(training_set['els']):\n",
    "        if Element(element) in el_list:\n",
    "            training_set.iloc[count, training_set.columns.get_loc('is_in')] = True\n",
    "    \n",
    "    with_element = training_set[training_set['is_in']]\n",
    "    without_element = training_set[training_set['is_in'] == False]\n",
    "    return with_element, without_element"
   ]
  },
  {
   "cell_type": "code",
   "execution_count": 25,
   "metadata": {},
   "outputs": [
    {
     "name": "stdout",
     "output_type": "stream",
     "text": [
      "CPU times: user 93.6 ms, sys: 3.79 ms, total: 97.4 ms\n",
      "Wall time: 98.5 ms\n"
     ]
    }
   ],
   "source": [
    "%%time\n",
    "#Predict Enthalpy Delta given training data without Aluminum in it\n",
    "with_, without = split_by_element(training_set_use, 'Al')"
   ]
  },
  {
   "cell_type": "code",
   "execution_count": 26,
   "metadata": {
    "collapsed": true
   },
   "outputs": [],
   "source": [
    "cols_to_drop += ['els', 'is_in']"
   ]
  },
  {
   "cell_type": "code",
   "execution_count": 27,
   "metadata": {
    "collapsed": true
   },
   "outputs": [],
   "source": [
    "def create_ranges(without, with_):\n",
    "    # Training data\n",
    "\n",
    "    #Discrete into pos/neg formation energy for regression\n",
    "    delta_e_without = np.array(without['delta_e'], dtype=float)\n",
    "    #pos/neg values for classification\n",
    "    energy_range_without = np.zeros(np.shape(delta_e_without), dtype=str)\n",
    "    for i in range(len(delta_e_without)):\n",
    "        if delta_e_without[i] < 0:\n",
    "            energy_range_without[i] = 'neg'\n",
    "        else:\n",
    "            energy_range_without[i] = 'pos'\n",
    "\n",
    "    # Prediction data\n",
    "    delta_e_with = np.array(with_['delta_e'], dtype=float)\n",
    "    energy_range_with = np.zeros(np.shape(delta_e_with), dtype=str)\n",
    "    for i in range(len(delta_e_with)):\n",
    "        if delta_e_with[i] < 0:\n",
    "            energy_range_with[i] = 'neg'\n",
    "        else:\n",
    "            energy_range_with[i] = 'pos'\n",
    "            \n",
    "    return delta_e_without, energy_range_without, delta_e_with, energy_range_with"
   ]
  },
  {
   "cell_type": "code",
   "execution_count": 28,
   "metadata": {},
   "outputs": [],
   "source": [
    "delta_e_without, energy_range_without, delta_e_with, energy_range_with = create_ranges(without, with_)"
   ]
  },
  {
   "cell_type": "markdown",
   "metadata": {},
   "source": [
    "## Classification on All Elements"
   ]
  },
  {
   "cell_type": "code",
   "execution_count": 29,
   "metadata": {},
   "outputs": [],
   "source": [
    "def all_el_split(method):\n",
    "    \"\"\"\n",
    "    Takes a machine learning model, then uses the split element test to fill a dataframe with r1 and r2 values for each element\n",
    "    \"\"\"\n",
    "    index = ['r1', 'r2']\n",
    "    stats = pd.DataFrame(index=index)\n",
    "    for i in range(1, 104):\n",
    "        el = Element.from_Z(i).symbol\n",
    "        print(el)\n",
    "        # creates two dataframes, with the element in it and without the element in it\n",
    "        with_, without = split_by_element(training_set_use, el)\n",
    "        # will reiterate if there are no compositions with the selected element\n",
    "        if with_.shape[0] == 0:\n",
    "            continue\n",
    "        # creates classification data: trains with delta_e_without and energy_range_without; predicts with delta_e_with\n",
    "        delta_e_without, energy_range_without, delta_e_with, energy_range_with = create_ranges(without, with_)\n",
    "        r1, r2 = method(without, with_, energy_range_without, energy_range_with)\n",
    "        arr = [r1, r2]\n",
    "        stats[el] = pd.Series(arr).values \n",
    "        \n",
    "    return stats"
   ]
  },
  {
   "cell_type": "code",
   "execution_count": 30,
   "metadata": {},
   "outputs": [
    {
     "data": {
      "text/html": [
       "<div>\n",
       "<style>\n",
       "    .dataframe thead tr:only-child th {\n",
       "        text-align: right;\n",
       "    }\n",
       "\n",
       "    .dataframe thead th {\n",
       "        text-align: left;\n",
       "    }\n",
       "\n",
       "    .dataframe tbody tr th {\n",
       "        vertical-align: top;\n",
       "    }\n",
       "</style>\n",
       "<table border=\"1\" class=\"dataframe\">\n",
       "  <thead>\n",
       "    <tr style=\"text-align: right;\">\n",
       "      <th></th>\n",
       "      <th>Ac</th>\n",
       "      <th>Ag</th>\n",
       "      <th>Al</th>\n",
       "      <th>Am</th>\n",
       "      <th>Ar</th>\n",
       "      <th>As</th>\n",
       "      <th>At</th>\n",
       "      <th>Au</th>\n",
       "      <th>B</th>\n",
       "      <th>Ba</th>\n",
       "      <th>...</th>\n",
       "      <th>Tl</th>\n",
       "      <th>Tm</th>\n",
       "      <th>U</th>\n",
       "      <th>V</th>\n",
       "      <th>W</th>\n",
       "      <th>Xe</th>\n",
       "      <th>Y</th>\n",
       "      <th>Yb</th>\n",
       "      <th>Zn</th>\n",
       "      <th>Zr</th>\n",
       "    </tr>\n",
       "  </thead>\n",
       "  <tbody>\n",
       "    <tr>\n",
       "      <th>0</th>\n",
       "      <td>0.0</td>\n",
       "      <td>0.0</td>\n",
       "      <td>0.0</td>\n",
       "      <td>0.0</td>\n",
       "      <td>0.0</td>\n",
       "      <td>0.5</td>\n",
       "      <td>0.0</td>\n",
       "      <td>0.0</td>\n",
       "      <td>0.0</td>\n",
       "      <td>0.0</td>\n",
       "      <td>...</td>\n",
       "      <td>0.0</td>\n",
       "      <td>0.0</td>\n",
       "      <td>0.0</td>\n",
       "      <td>0.00</td>\n",
       "      <td>0.0</td>\n",
       "      <td>0.0</td>\n",
       "      <td>0.5</td>\n",
       "      <td>0.0</td>\n",
       "      <td>0.0</td>\n",
       "      <td>0.0</td>\n",
       "    </tr>\n",
       "    <tr>\n",
       "      <th>1</th>\n",
       "      <td>0.0</td>\n",
       "      <td>0.0</td>\n",
       "      <td>0.0</td>\n",
       "      <td>0.0</td>\n",
       "      <td>0.0</td>\n",
       "      <td>0.0</td>\n",
       "      <td>0.0</td>\n",
       "      <td>0.0</td>\n",
       "      <td>0.0</td>\n",
       "      <td>0.0</td>\n",
       "      <td>...</td>\n",
       "      <td>0.0</td>\n",
       "      <td>0.0</td>\n",
       "      <td>0.0</td>\n",
       "      <td>0.00</td>\n",
       "      <td>0.0</td>\n",
       "      <td>0.0</td>\n",
       "      <td>0.0</td>\n",
       "      <td>0.0</td>\n",
       "      <td>0.0</td>\n",
       "      <td>0.0</td>\n",
       "    </tr>\n",
       "    <tr>\n",
       "      <th>2</th>\n",
       "      <td>0.0</td>\n",
       "      <td>0.0</td>\n",
       "      <td>0.0</td>\n",
       "      <td>0.0</td>\n",
       "      <td>0.0</td>\n",
       "      <td>0.0</td>\n",
       "      <td>0.0</td>\n",
       "      <td>0.0</td>\n",
       "      <td>0.0</td>\n",
       "      <td>0.0</td>\n",
       "      <td>...</td>\n",
       "      <td>0.0</td>\n",
       "      <td>0.0</td>\n",
       "      <td>0.0</td>\n",
       "      <td>0.00</td>\n",
       "      <td>0.0</td>\n",
       "      <td>0.0</td>\n",
       "      <td>0.0</td>\n",
       "      <td>0.0</td>\n",
       "      <td>0.0</td>\n",
       "      <td>0.0</td>\n",
       "    </tr>\n",
       "    <tr>\n",
       "      <th>3</th>\n",
       "      <td>0.0</td>\n",
       "      <td>0.0</td>\n",
       "      <td>0.0</td>\n",
       "      <td>0.0</td>\n",
       "      <td>0.0</td>\n",
       "      <td>0.0</td>\n",
       "      <td>0.0</td>\n",
       "      <td>0.0</td>\n",
       "      <td>0.0</td>\n",
       "      <td>0.0</td>\n",
       "      <td>...</td>\n",
       "      <td>0.0</td>\n",
       "      <td>0.0</td>\n",
       "      <td>0.0</td>\n",
       "      <td>0.15</td>\n",
       "      <td>0.0</td>\n",
       "      <td>0.0</td>\n",
       "      <td>0.0</td>\n",
       "      <td>0.0</td>\n",
       "      <td>0.0</td>\n",
       "      <td>0.0</td>\n",
       "    </tr>\n",
       "    <tr>\n",
       "      <th>5</th>\n",
       "      <td>0.0</td>\n",
       "      <td>0.0</td>\n",
       "      <td>0.0</td>\n",
       "      <td>0.0</td>\n",
       "      <td>0.0</td>\n",
       "      <td>0.0</td>\n",
       "      <td>0.0</td>\n",
       "      <td>0.0</td>\n",
       "      <td>0.0</td>\n",
       "      <td>0.0</td>\n",
       "      <td>...</td>\n",
       "      <td>0.0</td>\n",
       "      <td>0.0</td>\n",
       "      <td>0.0</td>\n",
       "      <td>0.00</td>\n",
       "      <td>0.0</td>\n",
       "      <td>0.0</td>\n",
       "      <td>0.0</td>\n",
       "      <td>0.0</td>\n",
       "      <td>0.0</td>\n",
       "      <td>0.0</td>\n",
       "    </tr>\n",
       "  </tbody>\n",
       "</table>\n",
       "<p>5 rows × 103 columns</p>\n",
       "</div>"
      ],
      "text/plain": [
       "    Ac   Ag   Al   Am   Ar   As   At   Au    B   Ba ...    Tl   Tm    U     V  \\\n",
       "0  0.0  0.0  0.0  0.0  0.0  0.5  0.0  0.0  0.0  0.0 ...   0.0  0.0  0.0  0.00   \n",
       "1  0.0  0.0  0.0  0.0  0.0  0.0  0.0  0.0  0.0  0.0 ...   0.0  0.0  0.0  0.00   \n",
       "2  0.0  0.0  0.0  0.0  0.0  0.0  0.0  0.0  0.0  0.0 ...   0.0  0.0  0.0  0.00   \n",
       "3  0.0  0.0  0.0  0.0  0.0  0.0  0.0  0.0  0.0  0.0 ...   0.0  0.0  0.0  0.15   \n",
       "5  0.0  0.0  0.0  0.0  0.0  0.0  0.0  0.0  0.0  0.0 ...   0.0  0.0  0.0  0.00   \n",
       "\n",
       "     W   Xe    Y   Yb   Zn   Zr  \n",
       "0  0.0  0.0  0.5  0.0  0.0  0.0  \n",
       "1  0.0  0.0  0.0  0.0  0.0  0.0  \n",
       "2  0.0  0.0  0.0  0.0  0.0  0.0  \n",
       "3  0.0  0.0  0.0  0.0  0.0  0.0  \n",
       "5  0.0  0.0  0.0  0.0  0.0  0.0  \n",
       "\n",
       "[5 rows x 103 columns]"
      ]
     },
     "execution_count": 30,
     "metadata": {},
     "output_type": "execute_result"
    }
   ],
   "source": [
    "without[attr_names].head()"
   ]
  },
  {
   "cell_type": "markdown",
   "metadata": {},
   "source": [
    "### Random Forest Classifier"
   ]
  },
  {
   "cell_type": "code",
   "execution_count": 31,
   "metadata": {
    "collapsed": true
   },
   "outputs": [],
   "source": [
    "import math\n",
    "def rfc(without, with_, energy_range_without, energy_range_with):\n",
    "    \"\"\"\n",
    "    Returns r1 score and r2 score\n",
    "    \"\"\"\n",
    "    \n",
    "    rfc = RandomForestClassifier(n_estimators=100, criterion='gini', min_samples_split=2, n_jobs=-1)\n",
    "    rfc.fit(without[attr_names], energy_range_without)\n",
    "    rfc_prediction = rfc.predict(with_[attr_names])\n",
    "    r2_score = rfc.score(with_[attr_names], energy_range_with)\n",
    "    r1_score = math.sqrt(r2_score)\n",
    "    #print(pd.crosstab(energy_range_with, rfc_prediction, rownames=['actual'], colnames=['predicted']))\n",
    "    print(r1_score)\n",
    "    return r1_score, r2_score\n"
   ]
  },
  {
   "cell_type": "code",
   "execution_count": 32,
   "metadata": {},
   "outputs": [
    {
     "name": "stdout",
     "output_type": "stream",
     "text": [
      "H\n",
      "He"
     ]
    },
    {
     "name": "stdout",
     "output_type": "stream",
     "text": [
      "\n",
      "Li\n",
      "Be\n"
     ]
    },
    {
     "name": "stdout",
     "output_type": "stream",
     "text": [
      "1.0\n",
      "B\n",
      "C\n",
      "N\n"
     ]
    },
    {
     "name": "stdout",
     "output_type": "stream",
     "text": [
      "0.9660917830792959\n",
      "O\n"
     ]
    },
    {
     "name": "stdout",
     "output_type": "stream",
     "text": [
      "1.0\n",
      "F\n"
     ]
    },
    {
     "name": "stdout",
     "output_type": "stream",
     "text": [
      "1.0\n",
      "Ne\n",
      "Na\n"
     ]
    },
    {
     "name": "stdout",
     "output_type": "stream",
     "text": [
      "0.9986062710997091\n",
      "Mg\n"
     ]
    },
    {
     "name": "stdout",
     "output_type": "stream",
     "text": [
      "1.0\n",
      "Al\n"
     ]
    },
    {
     "name": "stdout",
     "output_type": "stream",
     "text": [
      "1.0\n",
      "Si\n"
     ]
    },
    {
     "name": "stdout",
     "output_type": "stream",
     "text": [
      "0.997997995989972\n",
      "P\n"
     ]
    },
    {
     "name": "stdout",
     "output_type": "stream",
     "text": [
      "1.0\n",
      "S\n"
     ]
    },
    {
     "name": "stdout",
     "output_type": "stream",
     "text": [
      "1.0\n",
      "Cl\n"
     ]
    },
    {
     "name": "stdout",
     "output_type": "stream",
     "text": [
      "1.0\n",
      "Ar\n",
      "K\n"
     ]
    },
    {
     "name": "stdout",
     "output_type": "stream",
     "text": [
      "0.9986868017972349\n",
      "Ca\n"
     ]
    },
    {
     "name": "stdout",
     "output_type": "stream",
     "text": [
      "1.0\n",
      "Sc\n"
     ]
    },
    {
     "name": "stdout",
     "output_type": "stream",
     "text": [
      "1.0\n",
      "Ti\n"
     ]
    },
    {
     "name": "stdout",
     "output_type": "stream",
     "text": [
      "1.0\n",
      "V\n"
     ]
    },
    {
     "name": "stdout",
     "output_type": "stream",
     "text": [
      "1.0\n",
      "Cr\n"
     ]
    },
    {
     "name": "stdout",
     "output_type": "stream",
     "text": [
      "0.9920947376656813\n",
      "Mn\n"
     ]
    },
    {
     "name": "stdout",
     "output_type": "stream",
     "text": [
      "0.9973924336321519\n",
      "Fe\n"
     ]
    },
    {
     "name": "stdout",
     "output_type": "stream",
     "text": [
      "0.9946666286387915\n",
      "Co\n"
     ]
    },
    {
     "name": "stdout",
     "output_type": "stream",
     "text": [
      "1.0\n",
      "Ni\n"
     ]
    },
    {
     "name": "stdout",
     "output_type": "stream",
     "text": [
      "1.0\n",
      "Cu\n"
     ]
    },
    {
     "name": "stdout",
     "output_type": "stream",
     "text": [
      "1.0\n",
      "Zn\n"
     ]
    },
    {
     "name": "stdout",
     "output_type": "stream",
     "text": [
      "0.9941348467724344\n",
      "Ga\n"
     ]
    },
    {
     "name": "stdout",
     "output_type": "stream",
     "text": [
      "1.0\n",
      "Ge\n"
     ]
    },
    {
     "name": "stdout",
     "output_type": "stream",
     "text": [
      "0.9972489631508746\n",
      "As\n"
     ]
    },
    {
     "name": "stdout",
     "output_type": "stream",
     "text": [
      "0.9917011013305195\n",
      "Se\n"
     ]
    },
    {
     "name": "stdout",
     "output_type": "stream",
     "text": [
      "1.0\n",
      "Br\n",
      "Kr\n",
      "Rb\n"
     ]
    },
    {
     "name": "stdout",
     "output_type": "stream",
     "text": [
      "1.0\n",
      "Sr\n"
     ]
    },
    {
     "name": "stdout",
     "output_type": "stream",
     "text": [
      "1.0\n",
      "Y\n"
     ]
    },
    {
     "name": "stdout",
     "output_type": "stream",
     "text": [
      "1.0\n",
      "Zr\n"
     ]
    },
    {
     "name": "stdout",
     "output_type": "stream",
     "text": [
      "1.0\n",
      "Nb\n"
     ]
    },
    {
     "name": "stdout",
     "output_type": "stream",
     "text": [
      "1.0\n",
      "Mo\n"
     ]
    },
    {
     "name": "stdout",
     "output_type": "stream",
     "text": [
      "1.0\n",
      "Tc\n",
      "Ru\n",
      "Rh\n",
      "Pd\n",
      "Ag\n"
     ]
    },
    {
     "name": "stdout",
     "output_type": "stream",
     "text": [
      "0.9900823995480057\n",
      "Cd\n"
     ]
    },
    {
     "name": "stdout",
     "output_type": "stream",
     "text": [
      "0.9965217285917832\n",
      "In\n"
     ]
    },
    {
     "name": "stdout",
     "output_type": "stream",
     "text": [
      "1.0\n",
      "Sn\n"
     ]
    },
    {
     "name": "stdout",
     "output_type": "stream",
     "text": [
      "0.996747958867483\n",
      "Sb\n"
     ]
    },
    {
     "name": "stdout",
     "output_type": "stream",
     "text": [
      "0.9710083124552245\n",
      "Te\n"
     ]
    },
    {
     "name": "stdout",
     "output_type": "stream",
     "text": [
      "0.9853292781642932\n",
      "I\n",
      "Xe\n",
      "Cs\n",
      "Ba\n"
     ]
    },
    {
     "name": "stdout",
     "output_type": "stream",
     "text": [
      "1.0\n",
      "La\n",
      "Ce\n",
      "Pr\n",
      "Nd\n",
      "Pm\n",
      "Sm\n",
      "Eu\n",
      "Gd\n",
      "Tb\n",
      "Dy\n",
      "Ho\n",
      "Er"
     ]
    },
    {
     "name": "stdout",
     "output_type": "stream",
     "text": [
      "\n",
      "Tm\n",
      "Yb\n",
      "Lu\n",
      "Hf\n"
     ]
    },
    {
     "name": "stdout",
     "output_type": "stream",
     "text": [
      "1.0\n",
      "Ta\n",
      "W\n",
      "Re\n",
      "Os\n",
      "Ir\n",
      "Pt\n",
      "Au\n"
     ]
    },
    {
     "name": "stdout",
     "output_type": "stream",
     "text": [
      "0.9649012813540153\n",
      "Hg\n"
     ]
    },
    {
     "name": "stdout",
     "output_type": "stream",
     "text": [
      "1.0\n",
      "Tl\n",
      "Pb\n"
     ]
    },
    {
     "name": "stdout",
     "output_type": "stream",
     "text": [
      "1.0\n",
      "Bi\n",
      "Po\n",
      "At\n",
      "Rn\n",
      "Fr\n",
      "Ra\n",
      "Ac\n",
      "Th\n"
     ]
    },
    {
     "name": "stdout",
     "output_type": "stream",
     "text": [
      "Pa\n",
      "U\n",
      "Np\n",
      "Pu\n",
      "Am\n",
      "Cm\n",
      "Bk\n",
      "Cf\n",
      "Es\n",
      "Fm\n",
      "Md\n",
      "No\n"
     ]
    },
    {
     "name": "stdout",
     "output_type": "stream",
     "text": [
      "Lr\n",
      "CPU times: user 23.6 s, sys: 2.59 s, total: 26.2 s\n",
      "Wall time: 29.7 s\n"
     ]
    }
   ],
   "source": [
    "%%time\n",
    "rfc_stats = all_el_split(rfc)"
   ]
  },
  {
   "cell_type": "code",
   "execution_count": 33,
   "metadata": {},
   "outputs": [
    {
     "data": {
      "text/html": [
       "<div>\n",
       "<style>\n",
       "    .dataframe thead tr:only-child th {\n",
       "        text-align: right;\n",
       "    }\n",
       "\n",
       "    .dataframe thead th {\n",
       "        text-align: left;\n",
       "    }\n",
       "\n",
       "    .dataframe tbody tr th {\n",
       "        vertical-align: top;\n",
       "    }\n",
       "</style>\n",
       "<table border=\"1\" class=\"dataframe\">\n",
       "  <thead>\n",
       "    <tr style=\"text-align: right;\">\n",
       "      <th></th>\n",
       "      <th>Be</th>\n",
       "      <th>N</th>\n",
       "      <th>O</th>\n",
       "      <th>F</th>\n",
       "      <th>Na</th>\n",
       "      <th>Mg</th>\n",
       "      <th>Al</th>\n",
       "      <th>Si</th>\n",
       "      <th>P</th>\n",
       "      <th>S</th>\n",
       "      <th>...</th>\n",
       "      <th>Cd</th>\n",
       "      <th>In</th>\n",
       "      <th>Sn</th>\n",
       "      <th>Sb</th>\n",
       "      <th>Te</th>\n",
       "      <th>Ba</th>\n",
       "      <th>Hf</th>\n",
       "      <th>Au</th>\n",
       "      <th>Hg</th>\n",
       "      <th>Pb</th>\n",
       "    </tr>\n",
       "  </thead>\n",
       "  <tbody>\n",
       "    <tr>\n",
       "      <th>r1</th>\n",
       "      <td>1.0</td>\n",
       "      <td>0.966092</td>\n",
       "      <td>1.0</td>\n",
       "      <td>1.0</td>\n",
       "      <td>0.998606</td>\n",
       "      <td>1.0</td>\n",
       "      <td>1.0</td>\n",
       "      <td>0.997998</td>\n",
       "      <td>1.0</td>\n",
       "      <td>1.0</td>\n",
       "      <td>...</td>\n",
       "      <td>0.996522</td>\n",
       "      <td>1.0</td>\n",
       "      <td>0.996748</td>\n",
       "      <td>0.971008</td>\n",
       "      <td>0.985329</td>\n",
       "      <td>1.0</td>\n",
       "      <td>1.0</td>\n",
       "      <td>0.964901</td>\n",
       "      <td>1.0</td>\n",
       "      <td>1.0</td>\n",
       "    </tr>\n",
       "    <tr>\n",
       "      <th>r2</th>\n",
       "      <td>1.0</td>\n",
       "      <td>0.933333</td>\n",
       "      <td>1.0</td>\n",
       "      <td>1.0</td>\n",
       "      <td>0.997214</td>\n",
       "      <td>1.0</td>\n",
       "      <td>1.0</td>\n",
       "      <td>0.996000</td>\n",
       "      <td>1.0</td>\n",
       "      <td>1.0</td>\n",
       "      <td>...</td>\n",
       "      <td>0.993056</td>\n",
       "      <td>1.0</td>\n",
       "      <td>0.993506</td>\n",
       "      <td>0.942857</td>\n",
       "      <td>0.970874</td>\n",
       "      <td>1.0</td>\n",
       "      <td>1.0</td>\n",
       "      <td>0.931034</td>\n",
       "      <td>1.0</td>\n",
       "      <td>1.0</td>\n",
       "    </tr>\n",
       "  </tbody>\n",
       "</table>\n",
       "<p>2 rows × 44 columns</p>\n",
       "</div>"
      ],
      "text/plain": [
       "     Be         N    O    F        Na   Mg   Al        Si    P    S ...   \\\n",
       "r1  1.0  0.966092  1.0  1.0  0.998606  1.0  1.0  0.997998  1.0  1.0 ...    \n",
       "r2  1.0  0.933333  1.0  1.0  0.997214  1.0  1.0  0.996000  1.0  1.0 ...    \n",
       "\n",
       "          Cd   In        Sn        Sb        Te   Ba   Hf        Au   Hg   Pb  \n",
       "r1  0.996522  1.0  0.996748  0.971008  0.985329  1.0  1.0  0.964901  1.0  1.0  \n",
       "r2  0.993056  1.0  0.993506  0.942857  0.970874  1.0  1.0  0.931034  1.0  1.0  \n",
       "\n",
       "[2 rows x 44 columns]"
      ]
     },
     "execution_count": 33,
     "metadata": {},
     "output_type": "execute_result"
    }
   ],
   "source": [
    "rfc_stats"
   ]
  },
  {
   "cell_type": "code",
   "execution_count": 34,
   "metadata": {},
   "outputs": [
    {
     "data": {
      "text/plain": [
       "count    44.000000\n",
       "mean      0.992505\n",
       "std       0.016831\n",
       "min       0.931034\n",
       "25%       0.994256\n",
       "50%       1.000000\n",
       "75%       1.000000\n",
       "max       1.000000\n",
       "Name: r2, dtype: float64"
      ]
     },
     "execution_count": 34,
     "metadata": {},
     "output_type": "execute_result"
    }
   ],
   "source": [
    "rfc_stats.T['r2'].describe()"
   ]
  },
  {
   "cell_type": "markdown",
   "metadata": {},
   "source": [
    "### Decision Forest Classifier"
   ]
  },
  {
   "cell_type": "code",
   "execution_count": 35,
   "metadata": {
    "collapsed": true
   },
   "outputs": [],
   "source": [
    "def dtc(without, with_, energy_range_without, energy_range_with):\n",
    "    dtc = DecisionTreeClassifier()\n",
    "    dtc.fit(without[attr_names], energy_range_without)\n",
    "    dtc_prediction = dtc.predict(with_[attr_names])\n",
    "    r2_score = dtc.score(with_[attr_names], energy_range_with)\n",
    "    r1_score = math.sqrt(r2_score)\n",
    "    #print(pd.crosstab(energy_range_with, dtc_prediction, rownames=['actual'], colnames=['predicted']))\n",
    "    print(r1_score)\n",
    "    return r1_score, r2_score"
   ]
  },
  {
   "cell_type": "code",
   "execution_count": 36,
   "metadata": {},
   "outputs": [
    {
     "name": "stdout",
     "output_type": "stream",
     "text": [
      "H\n",
      "He\n",
      "Li\n",
      "Be"
     ]
    },
    {
     "name": "stdout",
     "output_type": "stream",
     "text": [
      "\n",
      "1.0\n",
      "B\n",
      "C\n",
      "N\n"
     ]
    },
    {
     "name": "stdout",
     "output_type": "stream",
     "text": [
      "0.9660917830792959"
     ]
    },
    {
     "name": "stdout",
     "output_type": "stream",
     "text": [
      "\n"
     ]
    },
    {
     "name": "stdout",
     "output_type": "stream",
     "text": [
      "O\n",
      "0.9994891442833921\n",
      "F\n",
      "1.0\n",
      "Ne\n",
      "Na\n"
     ]
    },
    {
     "name": "stdout",
     "output_type": "stream",
     "text": [
      "0.9986062710997091\n",
      "Mg\n",
      "1.0\n",
      "Al\n",
      "1.0\n"
     ]
    },
    {
     "name": "stdout",
     "output_type": "stream",
     "text": [
      "Si\n",
      "0.997997995989972\n",
      "P\n",
      "0.9895285072531598\n",
      "S\n",
      "1.0\n",
      "Cl"
     ]
    },
    {
     "name": "stdout",
     "output_type": "stream",
     "text": [
      "\n",
      "1.0\n",
      "Ar\n",
      "K\n"
     ]
    },
    {
     "name": "stdout",
     "output_type": "stream",
     "text": [
      "0.9986868017972349\n",
      "Ca\n",
      "1.0\n",
      "Sc\n",
      "1.0\n",
      "Ti\n",
      "1.0"
     ]
    },
    {
     "name": "stdout",
     "output_type": "stream",
     "text": [
      "\n",
      "V\n",
      "1.0\n",
      "Cr\n",
      "0.9920947376656813\n",
      "Mn\n",
      "0.9973924336321519\n",
      "Fe\n"
     ]
    },
    {
     "name": "stdout",
     "output_type": "stream",
     "text": [
      "0.9946666286387915\n",
      "Co\n",
      "1.0\n",
      "Ni\n",
      "1.0\n",
      "Cu\n"
     ]
    },
    {
     "name": "stdout",
     "output_type": "stream",
     "text": [
      "1.0\n",
      "Zn\n",
      "0.9941348467724344\n",
      "Ga\n",
      "1.0\n"
     ]
    },
    {
     "name": "stdout",
     "output_type": "stream",
     "text": [
      "Ge\n",
      "0.9972489631508746\n",
      "As\n",
      "0.9917011013305195\n",
      "Se\n",
      "1.0"
     ]
    },
    {
     "name": "stdout",
     "output_type": "stream",
     "text": [
      "\n",
      "Br\n",
      "Kr\n",
      "Rb\n",
      "1.0\n",
      "Sr\n"
     ]
    },
    {
     "name": "stdout",
     "output_type": "stream",
     "text": [
      "1.0\n",
      "Y\n",
      "1.0\n",
      "Zr\n",
      "1.0\n",
      "Nb\n"
     ]
    },
    {
     "name": "stdout",
     "output_type": "stream",
     "text": [
      "1.0\n",
      "Mo\n",
      "1.0\n",
      "Tc\n",
      "Ru\n",
      "Rh\n",
      "Pd\n",
      "Ag\n"
     ]
    },
    {
     "name": "stdout",
     "output_type": "stream",
     "text": [
      "0.9900823995480057\n",
      "Cd\n",
      "0.9965217285917832\n",
      "In\n",
      "1.0\n",
      "Sn\n"
     ]
    },
    {
     "name": "stdout",
     "output_type": "stream",
     "text": [
      "0.996747958867483\n",
      "Sb\n",
      "0.9710083124552245\n",
      "Te\n",
      "0.9853292781642932\n",
      "I\n",
      "Xe\n",
      "Cs\n",
      "Ba"
     ]
    },
    {
     "name": "stdout",
     "output_type": "stream",
     "text": [
      "\n",
      "1.0\n",
      "La\n",
      "Ce\n",
      "Pr\n",
      "Nd\n",
      "Pm\n",
      "Sm\n",
      "Eu\n",
      "Gd\n",
      "Tb\n",
      "Dy\n",
      "Ho\n"
     ]
    },
    {
     "name": "stdout",
     "output_type": "stream",
     "text": [
      "Er\n",
      "Tm\n",
      "Yb\n",
      "Lu\n",
      "Hf\n",
      "1.0\n",
      "Ta\n",
      "W\n",
      "Re\n",
      "Os\n"
     ]
    },
    {
     "name": "stdout",
     "output_type": "stream",
     "text": [
      "Ir\n",
      "Pt\n",
      "Au\n",
      "0.9649012813540153\n",
      "Hg\n",
      "1.0\n",
      "Tl\n",
      "Pb\n"
     ]
    },
    {
     "name": "stdout",
     "output_type": "stream",
     "text": [
      "1.0\n",
      "Bi\n",
      "Po\n",
      "At\n",
      "Rn\n",
      "Fr\n",
      "Ra\n",
      "Ac\n",
      "Th\n",
      "Pa\n",
      "U\n",
      "Np"
     ]
    },
    {
     "name": "stdout",
     "output_type": "stream",
     "text": [
      "\n",
      "Pu\n",
      "Am\n",
      "Cm\n",
      "Bk\n",
      "Cf\n",
      "Es\n",
      "Fm\n",
      "Md\n",
      "No\n",
      "Lr\n",
      "CPU times: user 5.95 s, sys: 230 ms, total: 6.18 s\n",
      "Wall time: 6.08 s\n"
     ]
    }
   ],
   "source": [
    "%%time\n",
    "dfc_stats = all_el_split(dtc)"
   ]
  },
  {
   "cell_type": "code",
   "execution_count": 37,
   "metadata": {},
   "outputs": [
    {
     "data": {
      "text/html": [
       "<div>\n",
       "<style>\n",
       "    .dataframe thead tr:only-child th {\n",
       "        text-align: right;\n",
       "    }\n",
       "\n",
       "    .dataframe thead th {\n",
       "        text-align: left;\n",
       "    }\n",
       "\n",
       "    .dataframe tbody tr th {\n",
       "        vertical-align: top;\n",
       "    }\n",
       "</style>\n",
       "<table border=\"1\" class=\"dataframe\">\n",
       "  <thead>\n",
       "    <tr style=\"text-align: right;\">\n",
       "      <th></th>\n",
       "      <th>Be</th>\n",
       "      <th>N</th>\n",
       "      <th>O</th>\n",
       "      <th>F</th>\n",
       "      <th>Na</th>\n",
       "      <th>Mg</th>\n",
       "      <th>Al</th>\n",
       "      <th>Si</th>\n",
       "      <th>P</th>\n",
       "      <th>S</th>\n",
       "      <th>...</th>\n",
       "      <th>Cd</th>\n",
       "      <th>In</th>\n",
       "      <th>Sn</th>\n",
       "      <th>Sb</th>\n",
       "      <th>Te</th>\n",
       "      <th>Ba</th>\n",
       "      <th>Hf</th>\n",
       "      <th>Au</th>\n",
       "      <th>Hg</th>\n",
       "      <th>Pb</th>\n",
       "    </tr>\n",
       "  </thead>\n",
       "  <tbody>\n",
       "    <tr>\n",
       "      <th>r1</th>\n",
       "      <td>1.0</td>\n",
       "      <td>0.966092</td>\n",
       "      <td>0.999489</td>\n",
       "      <td>1.0</td>\n",
       "      <td>0.998606</td>\n",
       "      <td>1.0</td>\n",
       "      <td>1.0</td>\n",
       "      <td>0.997998</td>\n",
       "      <td>0.989529</td>\n",
       "      <td>1.0</td>\n",
       "      <td>...</td>\n",
       "      <td>0.996522</td>\n",
       "      <td>1.0</td>\n",
       "      <td>0.996748</td>\n",
       "      <td>0.971008</td>\n",
       "      <td>0.985329</td>\n",
       "      <td>1.0</td>\n",
       "      <td>1.0</td>\n",
       "      <td>0.964901</td>\n",
       "      <td>1.0</td>\n",
       "      <td>1.0</td>\n",
       "    </tr>\n",
       "    <tr>\n",
       "      <th>r2</th>\n",
       "      <td>1.0</td>\n",
       "      <td>0.933333</td>\n",
       "      <td>0.998979</td>\n",
       "      <td>1.0</td>\n",
       "      <td>0.997214</td>\n",
       "      <td>1.0</td>\n",
       "      <td>1.0</td>\n",
       "      <td>0.996000</td>\n",
       "      <td>0.979167</td>\n",
       "      <td>1.0</td>\n",
       "      <td>...</td>\n",
       "      <td>0.993056</td>\n",
       "      <td>1.0</td>\n",
       "      <td>0.993506</td>\n",
       "      <td>0.942857</td>\n",
       "      <td>0.970874</td>\n",
       "      <td>1.0</td>\n",
       "      <td>1.0</td>\n",
       "      <td>0.931034</td>\n",
       "      <td>1.0</td>\n",
       "      <td>1.0</td>\n",
       "    </tr>\n",
       "  </tbody>\n",
       "</table>\n",
       "<p>2 rows × 44 columns</p>\n",
       "</div>"
      ],
      "text/plain": [
       "     Be         N         O    F        Na   Mg   Al        Si         P    S  \\\n",
       "r1  1.0  0.966092  0.999489  1.0  0.998606  1.0  1.0  0.997998  0.989529  1.0   \n",
       "r2  1.0  0.933333  0.998979  1.0  0.997214  1.0  1.0  0.996000  0.979167  1.0   \n",
       "\n",
       "   ...         Cd   In        Sn        Sb        Te   Ba   Hf        Au   Hg  \\\n",
       "r1 ...   0.996522  1.0  0.996748  0.971008  0.985329  1.0  1.0  0.964901  1.0   \n",
       "r2 ...   0.993056  1.0  0.993506  0.942857  0.970874  1.0  1.0  0.931034  1.0   \n",
       "\n",
       "     Pb  \n",
       "r1  1.0  \n",
       "r2  1.0  \n",
       "\n",
       "[2 rows x 44 columns]"
      ]
     },
     "execution_count": 37,
     "metadata": {},
     "output_type": "execute_result"
    }
   ],
   "source": [
    "dfc_stats"
   ]
  },
  {
   "cell_type": "code",
   "execution_count": 38,
   "metadata": {},
   "outputs": [
    {
     "data": {
      "text/plain": [
       "count    44.000000\n",
       "mean      0.995960\n",
       "std       0.008581\n",
       "min       0.964901\n",
       "25%       0.996691\n",
       "50%       1.000000\n",
       "75%       1.000000\n",
       "max       1.000000\n",
       "Name: r1, dtype: float64"
      ]
     },
     "execution_count": 38,
     "metadata": {},
     "output_type": "execute_result"
    }
   ],
   "source": [
    "dfc_stats.T['r1'].describe()"
   ]
  },
  {
   "cell_type": "code",
   "execution_count": 39,
   "metadata": {
    "collapsed": true
   },
   "outputs": [],
   "source": []
  }
 ],
 "metadata": {
  "kernelspec": {
   "display_name": "Python 3",
   "language": "python",
   "name": "python3"
  },
  "language_info": {
   "codemirror_mode": {
    "name": "ipython",
    "version": 3
   },
   "file_extension": ".py",
   "mimetype": "text/x-python",
   "name": "python",
   "nbconvert_exporter": "python",
   "pygments_lexer": "ipython3",
   "version": "3.6.0"
  }
 },
 "nbformat": 4,
 "nbformat_minor": 2
}
