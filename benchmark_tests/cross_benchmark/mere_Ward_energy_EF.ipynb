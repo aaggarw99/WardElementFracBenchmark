{
 "cells": [
  {
   "cell_type": "code",
   "execution_count": 1,
   "metadata": {
    "collapsed": true
   },
   "outputs": [],
   "source": [
    "training_file = 'datasets/meredig_full.data'\n",
    "delimiter = ' '\n",
    "comp_col = 'composition'"
   ]
  },
  {
   "cell_type": "code",
   "execution_count": 2,
   "metadata": {},
   "outputs": [],
   "source": [
    "import numpy as np\n",
    "import matplotlib.pyplot as plt\n",
    "import re\n",
    "import itertools\n",
    "import pandas as pd\n",
    "import matminer\n",
    "import sys\n",
    "sys.path.append(\"/Users/Ashwin/Desktop/git/matminer\")\n",
    "from pymatgen import Composition, Element\n",
    "from matminer.descriptors.composition_features import ElementFractionAttribute\n",
    "from sklearn.ensemble import RandomForestClassifier, RandomForestRegressor, BaggingClassifier\n",
    "from sklearn.tree import DecisionTreeClassifier, DecisionTreeRegressor\n",
    "from sklearn.model_selection import train_test_split, cross_val_score, KFold\n",
    "from sklearn import datasets\n",
    "from sklearn import svm\n",
    "import datetime\n",
    "from sklearn.multiclass import OneVsRestClassifier\n",
    "%matplotlib inline"
   ]
  },
  {
   "cell_type": "code",
   "execution_count": 3,
   "metadata": {},
   "outputs": [],
   "source": [
    "def load_training_set(files, sep):\n",
    "    if type(files) is not list:\n",
    "        training_set = pd.read_csv(files, sep=sep)\n",
    "    else:\n",
    "        training_set = pd.DataFrame()\n",
    "        for i in range(len(files)):\n",
    "            training_set.append(pd.read_csv(files[i], sep=sep[i]))\n",
    "    \n",
    "    return training_set\n",
    "\n",
    "training_set = load_training_set(training_file, delimiter)"
   ]
  },
  {
   "cell_type": "markdown",
   "metadata": {},
   "source": [
    "# Create PyMatGen Composition Objects"
   ]
  },
  {
   "cell_type": "code",
   "execution_count": 4,
   "metadata": {},
   "outputs": [
    {
     "data": {
      "text/html": [
       "<div>\n",
       "<style>\n",
       "    .dataframe thead tr:only-child th {\n",
       "        text-align: right;\n",
       "    }\n",
       "\n",
       "    .dataframe thead th {\n",
       "        text-align: left;\n",
       "    }\n",
       "\n",
       "    .dataframe tbody tr th {\n",
       "        vertical-align: top;\n",
       "    }\n",
       "</style>\n",
       "<table border=\"1\" class=\"dataframe\">\n",
       "  <thead>\n",
       "    <tr style=\"text-align: right;\">\n",
       "      <th></th>\n",
       "      <th>composition</th>\n",
       "      <th>delta_e</th>\n",
       "      <th>comp_obj</th>\n",
       "    </tr>\n",
       "  </thead>\n",
       "  <tbody>\n",
       "    <tr>\n",
       "      <th>0</th>\n",
       "      <td>ReRu0</td>\n",
       "      <td>0.000000</td>\n",
       "      <td>(Re)</td>\n",
       "    </tr>\n",
       "    <tr>\n",
       "      <th>1</th>\n",
       "      <td>Re0.94444444Ru0.05555556</td>\n",
       "      <td>-0.013210</td>\n",
       "      <td>(Re, Ru)</td>\n",
       "    </tr>\n",
       "    <tr>\n",
       "      <th>2</th>\n",
       "      <td>Re0.88888889Ru0.11111111</td>\n",
       "      <td>-0.026419</td>\n",
       "      <td>(Re, Ru)</td>\n",
       "    </tr>\n",
       "    <tr>\n",
       "      <th>3</th>\n",
       "      <td>Re0.83333333Ru0.16666667</td>\n",
       "      <td>-0.039629</td>\n",
       "      <td>(Re, Ru)</td>\n",
       "    </tr>\n",
       "    <tr>\n",
       "      <th>4</th>\n",
       "      <td>Re0.77777778Ru0.22222222</td>\n",
       "      <td>-0.052839</td>\n",
       "      <td>(Re, Ru)</td>\n",
       "    </tr>\n",
       "    <tr>\n",
       "      <th>5</th>\n",
       "      <td>Re0.72222222Ru0.27777778</td>\n",
       "      <td>-0.057242</td>\n",
       "      <td>(Re, Ru)</td>\n",
       "    </tr>\n",
       "    <tr>\n",
       "      <th>6</th>\n",
       "      <td>Re0.66666667Ru0.33333333</td>\n",
       "      <td>-0.052839</td>\n",
       "      <td>(Re, Ru)</td>\n",
       "    </tr>\n",
       "    <tr>\n",
       "      <th>7</th>\n",
       "      <td>Re0.61111111Ru0.38888889</td>\n",
       "      <td>-0.048436</td>\n",
       "      <td>(Re, Ru)</td>\n",
       "    </tr>\n",
       "    <tr>\n",
       "      <th>8</th>\n",
       "      <td>Re0.55555556Ru0.44444444</td>\n",
       "      <td>-0.044032</td>\n",
       "      <td>(Re, Ru)</td>\n",
       "    </tr>\n",
       "    <tr>\n",
       "      <th>9</th>\n",
       "      <td>Re0.5Ru0.5</td>\n",
       "      <td>-0.039629</td>\n",
       "      <td>(Re, Ru)</td>\n",
       "    </tr>\n",
       "    <tr>\n",
       "      <th>10</th>\n",
       "      <td>Re0.44444444Ru0.55555556</td>\n",
       "      <td>-0.035226</td>\n",
       "      <td>(Re, Ru)</td>\n",
       "    </tr>\n",
       "    <tr>\n",
       "      <th>11</th>\n",
       "      <td>Re0.38888889Ru0.61111111</td>\n",
       "      <td>-0.030823</td>\n",
       "      <td>(Re, Ru)</td>\n",
       "    </tr>\n",
       "    <tr>\n",
       "      <th>12</th>\n",
       "      <td>Re0.33333333Ru0.66666667</td>\n",
       "      <td>-0.026419</td>\n",
       "      <td>(Re, Ru)</td>\n",
       "    </tr>\n",
       "    <tr>\n",
       "      <th>13</th>\n",
       "      <td>Re0.27777778Ru0.72222222</td>\n",
       "      <td>-0.022016</td>\n",
       "      <td>(Re, Ru)</td>\n",
       "    </tr>\n",
       "    <tr>\n",
       "      <th>14</th>\n",
       "      <td>Re0.22222222Ru0.77777778</td>\n",
       "      <td>-0.017613</td>\n",
       "      <td>(Re, Ru)</td>\n",
       "    </tr>\n",
       "    <tr>\n",
       "      <th>15</th>\n",
       "      <td>Re0.16666667Ru0.83333333</td>\n",
       "      <td>-0.013210</td>\n",
       "      <td>(Re, Ru)</td>\n",
       "    </tr>\n",
       "    <tr>\n",
       "      <th>16</th>\n",
       "      <td>Re0.11111111Ru0.88888889</td>\n",
       "      <td>-0.008806</td>\n",
       "      <td>(Re, Ru)</td>\n",
       "    </tr>\n",
       "    <tr>\n",
       "      <th>17</th>\n",
       "      <td>Re0.05555556Ru0.94444444</td>\n",
       "      <td>-0.004403</td>\n",
       "      <td>(Re, Ru)</td>\n",
       "    </tr>\n",
       "    <tr>\n",
       "      <th>18</th>\n",
       "      <td>Re0Ru</td>\n",
       "      <td>0.000000</td>\n",
       "      <td>(Ru)</td>\n",
       "    </tr>\n",
       "    <tr>\n",
       "      <th>19</th>\n",
       "      <td>RbRu0</td>\n",
       "      <td>0.000000</td>\n",
       "      <td>(Rb)</td>\n",
       "    </tr>\n",
       "    <tr>\n",
       "      <th>20</th>\n",
       "      <td>Rb0.94444444Ru0.05555556</td>\n",
       "      <td>0.000000</td>\n",
       "      <td>(Rb, Ru)</td>\n",
       "    </tr>\n",
       "    <tr>\n",
       "      <th>21</th>\n",
       "      <td>Rb0.88888889Ru0.11111111</td>\n",
       "      <td>0.000000</td>\n",
       "      <td>(Rb, Ru)</td>\n",
       "    </tr>\n",
       "    <tr>\n",
       "      <th>22</th>\n",
       "      <td>Rb0.83333333Ru0.16666667</td>\n",
       "      <td>0.000000</td>\n",
       "      <td>(Rb, Ru)</td>\n",
       "    </tr>\n",
       "    <tr>\n",
       "      <th>23</th>\n",
       "      <td>Rb0.77777778Ru0.22222222</td>\n",
       "      <td>0.000000</td>\n",
       "      <td>(Rb, Ru)</td>\n",
       "    </tr>\n",
       "    <tr>\n",
       "      <th>24</th>\n",
       "      <td>Rb0.72222222Ru0.27777778</td>\n",
       "      <td>0.000000</td>\n",
       "      <td>(Rb, Ru)</td>\n",
       "    </tr>\n",
       "    <tr>\n",
       "      <th>25</th>\n",
       "      <td>Rb0.66666667Ru0.33333333</td>\n",
       "      <td>0.000000</td>\n",
       "      <td>(Rb, Ru)</td>\n",
       "    </tr>\n",
       "    <tr>\n",
       "      <th>26</th>\n",
       "      <td>Rb0.61111111Ru0.38888889</td>\n",
       "      <td>0.000000</td>\n",
       "      <td>(Rb, Ru)</td>\n",
       "    </tr>\n",
       "    <tr>\n",
       "      <th>27</th>\n",
       "      <td>Rb0.55555556Ru0.44444444</td>\n",
       "      <td>0.000000</td>\n",
       "      <td>(Rb, Ru)</td>\n",
       "    </tr>\n",
       "    <tr>\n",
       "      <th>28</th>\n",
       "      <td>Rb0.5Ru0.5</td>\n",
       "      <td>0.000000</td>\n",
       "      <td>(Rb, Ru)</td>\n",
       "    </tr>\n",
       "    <tr>\n",
       "      <th>29</th>\n",
       "      <td>Rb0.44444444Ru0.55555556</td>\n",
       "      <td>0.000000</td>\n",
       "      <td>(Rb, Ru)</td>\n",
       "    </tr>\n",
       "    <tr>\n",
       "      <th>...</th>\n",
       "      <td>...</td>\n",
       "      <td>...</td>\n",
       "      <td>...</td>\n",
       "    </tr>\n",
       "    <tr>\n",
       "      <th>85082</th>\n",
       "      <td>Ga2Mg1S4</td>\n",
       "      <td>-1.068504</td>\n",
       "      <td>(Ga, Mg, S)</td>\n",
       "    </tr>\n",
       "    <tr>\n",
       "      <th>85083</th>\n",
       "      <td>Ge1O4Zn2</td>\n",
       "      <td>-1.809053</td>\n",
       "      <td>(Ge, O, Zn)</td>\n",
       "    </tr>\n",
       "    <tr>\n",
       "      <th>85084</th>\n",
       "      <td>Br2F16Sb3</td>\n",
       "      <td>-2.261012</td>\n",
       "      <td>(Br, F, Sb)</td>\n",
       "    </tr>\n",
       "    <tr>\n",
       "      <th>85085</th>\n",
       "      <td>B2Cu1O4</td>\n",
       "      <td>-2.115414</td>\n",
       "      <td>(B, Cu, O)</td>\n",
       "    </tr>\n",
       "    <tr>\n",
       "      <th>85086</th>\n",
       "      <td>I4S16Sn1</td>\n",
       "      <td>-0.336086</td>\n",
       "      <td>(I, S, Sn)</td>\n",
       "    </tr>\n",
       "    <tr>\n",
       "      <th>85087</th>\n",
       "      <td>Ba1O4Sc2</td>\n",
       "      <td>-3.534127</td>\n",
       "      <td>(Ba, O, Sc)</td>\n",
       "    </tr>\n",
       "    <tr>\n",
       "      <th>85088</th>\n",
       "      <td>Ni2Se8Ta11</td>\n",
       "      <td>-0.565007</td>\n",
       "      <td>(Ni, Se, Ta)</td>\n",
       "    </tr>\n",
       "    <tr>\n",
       "      <th>85089</th>\n",
       "      <td>Ca11In1Sb9</td>\n",
       "      <td>-0.989228</td>\n",
       "      <td>(Ca, In, Sb)</td>\n",
       "    </tr>\n",
       "    <tr>\n",
       "      <th>85090</th>\n",
       "      <td>B2Co3Hf1</td>\n",
       "      <td>-0.588924</td>\n",
       "      <td>(B, Co, Hf)</td>\n",
       "    </tr>\n",
       "    <tr>\n",
       "      <th>85091</th>\n",
       "      <td>Li2O4Se1</td>\n",
       "      <td>-1.575085</td>\n",
       "      <td>(Li, O, Se)</td>\n",
       "    </tr>\n",
       "    <tr>\n",
       "      <th>85092</th>\n",
       "      <td>Ni4P2Sm1</td>\n",
       "      <td>-0.879270</td>\n",
       "      <td>(Ni, P, Sm)</td>\n",
       "    </tr>\n",
       "    <tr>\n",
       "      <th>85093</th>\n",
       "      <td>Nb1Ni4P16</td>\n",
       "      <td>-0.504561</td>\n",
       "      <td>(Nb, Ni, P)</td>\n",
       "    </tr>\n",
       "    <tr>\n",
       "      <th>85094</th>\n",
       "      <td>B4H16U1</td>\n",
       "      <td>-0.130462</td>\n",
       "      <td>(B, H, U)</td>\n",
       "    </tr>\n",
       "    <tr>\n",
       "      <th>85095</th>\n",
       "      <td>Ni4P16W1</td>\n",
       "      <td>-0.464919</td>\n",
       "      <td>(Ni, P, W)</td>\n",
       "    </tr>\n",
       "    <tr>\n",
       "      <th>85096</th>\n",
       "      <td>C1I14Zr6</td>\n",
       "      <td>-1.109827</td>\n",
       "      <td>(C, I, Zr)</td>\n",
       "    </tr>\n",
       "    <tr>\n",
       "      <th>85097</th>\n",
       "      <td>Cr3O14P4</td>\n",
       "      <td>-2.542317</td>\n",
       "      <td>(Cr, O, P)</td>\n",
       "    </tr>\n",
       "    <tr>\n",
       "      <th>85098</th>\n",
       "      <td>Ba3Nb16O23</td>\n",
       "      <td>-2.547405</td>\n",
       "      <td>(Ba, Nb, O)</td>\n",
       "    </tr>\n",
       "    <tr>\n",
       "      <th>85099</th>\n",
       "      <td>Fe4P2Th1</td>\n",
       "      <td>-0.759332</td>\n",
       "      <td>(Fe, P, Th)</td>\n",
       "    </tr>\n",
       "    <tr>\n",
       "      <th>85100</th>\n",
       "      <td>Cl14Fe1Zr6</td>\n",
       "      <td>-1.912655</td>\n",
       "      <td>(Cl, Fe, Zr)</td>\n",
       "    </tr>\n",
       "    <tr>\n",
       "      <th>85101</th>\n",
       "      <td>Al2Ge8Sc11</td>\n",
       "      <td>-0.813912</td>\n",
       "      <td>(Al, Ge, Sc)</td>\n",
       "    </tr>\n",
       "    <tr>\n",
       "      <th>85102</th>\n",
       "      <td>Ge4O9Sr1</td>\n",
       "      <td>-2.158955</td>\n",
       "      <td>(Ge, O, Sr)</td>\n",
       "    </tr>\n",
       "    <tr>\n",
       "      <th>85103</th>\n",
       "      <td>Ni10P3Zn1</td>\n",
       "      <td>-0.490561</td>\n",
       "      <td>(Ni, P, Zn)</td>\n",
       "    </tr>\n",
       "    <tr>\n",
       "      <th>85104</th>\n",
       "      <td>Cu4Nd1P2</td>\n",
       "      <td>-0.604683</td>\n",
       "      <td>(Cu, Nd, P)</td>\n",
       "    </tr>\n",
       "    <tr>\n",
       "      <th>85105</th>\n",
       "      <td>C1Cl14Ti6</td>\n",
       "      <td>-1.840168</td>\n",
       "      <td>(C, Cl, Ti)</td>\n",
       "    </tr>\n",
       "    <tr>\n",
       "      <th>85106</th>\n",
       "      <td>Co2Se8Ta11</td>\n",
       "      <td>-0.572065</td>\n",
       "      <td>(Co, Se, Ta)</td>\n",
       "    </tr>\n",
       "    <tr>\n",
       "      <th>85107</th>\n",
       "      <td>Al1Ce1Pd1</td>\n",
       "      <td>-0.768966</td>\n",
       "      <td>(Al, Ce, Pd)</td>\n",
       "    </tr>\n",
       "    <tr>\n",
       "      <th>85108</th>\n",
       "      <td>Ho2Mo4O15</td>\n",
       "      <td>-2.695090</td>\n",
       "      <td>(Ho, Mo, O)</td>\n",
       "    </tr>\n",
       "    <tr>\n",
       "      <th>85109</th>\n",
       "      <td>F5K1Tb1</td>\n",
       "      <td>-3.326874</td>\n",
       "      <td>(F, K, Tb)</td>\n",
       "    </tr>\n",
       "    <tr>\n",
       "      <th>85110</th>\n",
       "      <td>Cs1Rb14Tl27</td>\n",
       "      <td>-0.113014</td>\n",
       "      <td>(Cs, Rb, Tl)</td>\n",
       "    </tr>\n",
       "    <tr>\n",
       "      <th>85111</th>\n",
       "      <td>Ba2Cu5F14</td>\n",
       "      <td>-2.422743</td>\n",
       "      <td>(Ba, Cu, F)</td>\n",
       "    </tr>\n",
       "  </tbody>\n",
       "</table>\n",
       "<p>85112 rows × 3 columns</p>\n",
       "</div>"
      ],
      "text/plain": [
       "                    composition   delta_e      comp_obj\n",
       "0                         ReRu0  0.000000          (Re)\n",
       "1      Re0.94444444Ru0.05555556 -0.013210      (Re, Ru)\n",
       "2      Re0.88888889Ru0.11111111 -0.026419      (Re, Ru)\n",
       "3      Re0.83333333Ru0.16666667 -0.039629      (Re, Ru)\n",
       "4      Re0.77777778Ru0.22222222 -0.052839      (Re, Ru)\n",
       "5      Re0.72222222Ru0.27777778 -0.057242      (Re, Ru)\n",
       "6      Re0.66666667Ru0.33333333 -0.052839      (Re, Ru)\n",
       "7      Re0.61111111Ru0.38888889 -0.048436      (Re, Ru)\n",
       "8      Re0.55555556Ru0.44444444 -0.044032      (Re, Ru)\n",
       "9                    Re0.5Ru0.5 -0.039629      (Re, Ru)\n",
       "10     Re0.44444444Ru0.55555556 -0.035226      (Re, Ru)\n",
       "11     Re0.38888889Ru0.61111111 -0.030823      (Re, Ru)\n",
       "12     Re0.33333333Ru0.66666667 -0.026419      (Re, Ru)\n",
       "13     Re0.27777778Ru0.72222222 -0.022016      (Re, Ru)\n",
       "14     Re0.22222222Ru0.77777778 -0.017613      (Re, Ru)\n",
       "15     Re0.16666667Ru0.83333333 -0.013210      (Re, Ru)\n",
       "16     Re0.11111111Ru0.88888889 -0.008806      (Re, Ru)\n",
       "17     Re0.05555556Ru0.94444444 -0.004403      (Re, Ru)\n",
       "18                        Re0Ru  0.000000          (Ru)\n",
       "19                        RbRu0  0.000000          (Rb)\n",
       "20     Rb0.94444444Ru0.05555556  0.000000      (Rb, Ru)\n",
       "21     Rb0.88888889Ru0.11111111  0.000000      (Rb, Ru)\n",
       "22     Rb0.83333333Ru0.16666667  0.000000      (Rb, Ru)\n",
       "23     Rb0.77777778Ru0.22222222  0.000000      (Rb, Ru)\n",
       "24     Rb0.72222222Ru0.27777778  0.000000      (Rb, Ru)\n",
       "25     Rb0.66666667Ru0.33333333  0.000000      (Rb, Ru)\n",
       "26     Rb0.61111111Ru0.38888889  0.000000      (Rb, Ru)\n",
       "27     Rb0.55555556Ru0.44444444  0.000000      (Rb, Ru)\n",
       "28                   Rb0.5Ru0.5  0.000000      (Rb, Ru)\n",
       "29     Rb0.44444444Ru0.55555556  0.000000      (Rb, Ru)\n",
       "...                         ...       ...           ...\n",
       "85082                  Ga2Mg1S4 -1.068504   (Ga, Mg, S)\n",
       "85083                  Ge1O4Zn2 -1.809053   (Ge, O, Zn)\n",
       "85084                 Br2F16Sb3 -2.261012   (Br, F, Sb)\n",
       "85085                   B2Cu1O4 -2.115414    (B, Cu, O)\n",
       "85086                  I4S16Sn1 -0.336086    (I, S, Sn)\n",
       "85087                  Ba1O4Sc2 -3.534127   (Ba, O, Sc)\n",
       "85088                Ni2Se8Ta11 -0.565007  (Ni, Se, Ta)\n",
       "85089                Ca11In1Sb9 -0.989228  (Ca, In, Sb)\n",
       "85090                  B2Co3Hf1 -0.588924   (B, Co, Hf)\n",
       "85091                  Li2O4Se1 -1.575085   (Li, O, Se)\n",
       "85092                  Ni4P2Sm1 -0.879270   (Ni, P, Sm)\n",
       "85093                 Nb1Ni4P16 -0.504561   (Nb, Ni, P)\n",
       "85094                   B4H16U1 -0.130462     (B, H, U)\n",
       "85095                  Ni4P16W1 -0.464919    (Ni, P, W)\n",
       "85096                  C1I14Zr6 -1.109827    (C, I, Zr)\n",
       "85097                  Cr3O14P4 -2.542317    (Cr, O, P)\n",
       "85098                Ba3Nb16O23 -2.547405   (Ba, Nb, O)\n",
       "85099                  Fe4P2Th1 -0.759332   (Fe, P, Th)\n",
       "85100                Cl14Fe1Zr6 -1.912655  (Cl, Fe, Zr)\n",
       "85101                Al2Ge8Sc11 -0.813912  (Al, Ge, Sc)\n",
       "85102                  Ge4O9Sr1 -2.158955   (Ge, O, Sr)\n",
       "85103                 Ni10P3Zn1 -0.490561   (Ni, P, Zn)\n",
       "85104                  Cu4Nd1P2 -0.604683   (Cu, Nd, P)\n",
       "85105                 C1Cl14Ti6 -1.840168   (C, Cl, Ti)\n",
       "85106                Co2Se8Ta11 -0.572065  (Co, Se, Ta)\n",
       "85107                 Al1Ce1Pd1 -0.768966  (Al, Ce, Pd)\n",
       "85108                 Ho2Mo4O15 -2.695090   (Ho, Mo, O)\n",
       "85109                   F5K1Tb1 -3.326874    (F, K, Tb)\n",
       "85110               Cs1Rb14Tl27 -0.113014  (Cs, Rb, Tl)\n",
       "85111                 Ba2Cu5F14 -2.422743   (Ba, Cu, F)\n",
       "\n",
       "[85112 rows x 3 columns]"
      ]
     },
     "execution_count": 4,
     "metadata": {},
     "output_type": "execute_result"
    }
   ],
   "source": [
    "comp_objects = [Composition(comp) for comp in training_set[comp_col]]\n",
    "training_set = training_set.assign(comp_obj=comp_objects)\n",
    "training_set"
   ]
  },
  {
   "cell_type": "markdown",
   "metadata": {},
   "source": [
    "## Compute element fraction descriptors with MatMiner"
   ]
  },
  {
   "cell_type": "code",
   "execution_count": 5,
   "metadata": {},
   "outputs": [
    {
     "name": "stdout",
     "output_type": "stream",
     "text": [
      "CPU times: user 6.5 s, sys: 247 ms, total: 6.75 s\n",
      "Wall time: 6.81 s\n"
     ]
    }
   ],
   "source": [
    "%%time\n",
    "\n",
    "def calc_attributes(training_set):\n",
    "    not_attr = list(training_set)\n",
    "    training_set_updated = ElementFractionAttribute().featurize_dataframe(training_set, col_id='comp_obj')\n",
    "    all_cols = list(training_set_updated)\n",
    "    attr_names = [col for col in all_cols if col not in not_attr]\n",
    "    return training_set_updated, attr_names\n",
    "all_desc, attr_names = calc_attributes(training_set)\n",
    "np.shape(all_desc)"
   ]
  },
  {
   "cell_type": "markdown",
   "metadata": {},
   "source": [
    "## Predicting formation energy"
   ]
  },
  {
   "cell_type": "code",
   "execution_count": 6,
   "metadata": {},
   "outputs": [
    {
     "data": {
      "text/plain": [
       "(85112, 106)"
      ]
     },
     "execution_count": 6,
     "metadata": {},
     "output_type": "execute_result"
    }
   ],
   "source": [
    "#Drop invalid rows from training_set\n",
    "\n",
    "training_set_use = all_desc.replace(\"None\", np.nan)\n",
    "training_set_use.replace(np.inf, np.nan, inplace=True)\n",
    "training_set_use.dropna(inplace=True)\n",
    "\n",
    "np.shape(training_set_use)"
   ]
  },
  {
   "cell_type": "code",
   "execution_count": 7,
   "metadata": {},
   "outputs": [
    {
     "name": "stdout",
     "output_type": "stream",
     "text": [
      "['p' 'n' 'n' ..., 'n' 'n' 'n']\n"
     ]
    }
   ],
   "source": [
    "#Discretize into pos/neg formation energy for classification\n",
    "\n",
    "delta_e = np.array(training_set_use['delta_e'], dtype=float)\n",
    "\n",
    "energy_range = np.zeros(np.shape(delta_e), dtype=str)\n",
    "for i in range(len(delta_e)):\n",
    "    if delta_e[i] < 0:\n",
    "        energy_range[i] = 'neg'\n",
    "    else:\n",
    "        energy_range[i] = 'pos'\n",
    "\n",
    "print(energy_range)"
   ]
  },
  {
   "cell_type": "markdown",
   "metadata": {},
   "source": [
    "## ML Models + KFold Cross Validation"
   ]
  },
  {
   "cell_type": "code",
   "execution_count": 8,
   "metadata": {
    "collapsed": true
   },
   "outputs": [],
   "source": [
    "from sklearn.model_selection import ShuffleSplit\n",
    "def shuffle_split_cross_val(model, samples, n_splits=10, test_size=0.3):\n",
    "    cv = ShuffleSplit(n_splits=10, test_size=0.3, random_state = 0)\n",
    "    scores = cross_val_score(model, training_set_use[attr_names], samples, cv=cv)\n",
    "    print(\"Average Accuracy: \", scores.mean(), \". Standard Deviation: \", scores.std())"
   ]
  },
  {
   "cell_type": "markdown",
   "metadata": {},
   "source": [
    "### Random Forest Classifier"
   ]
  },
  {
   "cell_type": "code",
   "execution_count": 9,
   "metadata": {},
   "outputs": [
    {
     "name": "stdout",
     "output_type": "stream",
     "text": [
      "CPU times: user 1.98 s, sys: 87.3 ms, total: 2.06 s\n",
      "Wall time: 2.08 s\n"
     ]
    }
   ],
   "source": [
    "%%time\n",
    "#Random Forest Classifier\n",
    "\n",
    "rfc = RandomForestClassifier(n_estimators=10, criterion='gini', min_samples_split=2)\n",
    "rfc.fit(training_set_use[attr_names], energy_range)\n",
    "rfc_prediction = rfc.predict(training_set_use[attr_names])"
   ]
  },
  {
   "cell_type": "code",
   "execution_count": 10,
   "metadata": {},
   "outputs": [
    {
     "data": {
      "text/html": [
       "<div>\n",
       "<style>\n",
       "    .dataframe thead tr:only-child th {\n",
       "        text-align: right;\n",
       "    }\n",
       "\n",
       "    .dataframe thead th {\n",
       "        text-align: left;\n",
       "    }\n",
       "\n",
       "    .dataframe tbody tr th {\n",
       "        vertical-align: top;\n",
       "    }\n",
       "</style>\n",
       "<table border=\"1\" class=\"dataframe\">\n",
       "  <thead>\n",
       "    <tr style=\"text-align: right;\">\n",
       "      <th>predicted</th>\n",
       "      <th>n</th>\n",
       "      <th>p</th>\n",
       "    </tr>\n",
       "    <tr>\n",
       "      <th>actual</th>\n",
       "      <th></th>\n",
       "      <th></th>\n",
       "    </tr>\n",
       "  </thead>\n",
       "  <tbody>\n",
       "    <tr>\n",
       "      <th>n</th>\n",
       "      <td>45475</td>\n",
       "      <td>37</td>\n",
       "    </tr>\n",
       "    <tr>\n",
       "      <th>p</th>\n",
       "      <td>10</td>\n",
       "      <td>39590</td>\n",
       "    </tr>\n",
       "  </tbody>\n",
       "</table>\n",
       "</div>"
      ],
      "text/plain": [
       "predicted      n      p\n",
       "actual                 \n",
       "n          45475     37\n",
       "p             10  39590"
      ]
     },
     "execution_count": 10,
     "metadata": {},
     "output_type": "execute_result"
    }
   ],
   "source": [
    "pd.crosstab(energy_range, rfc_prediction, rownames=['actual'], colnames=['predicted'])"
   ]
  },
  {
   "cell_type": "code",
   "execution_count": 11,
   "metadata": {},
   "outputs": [
    {
     "name": "stdout",
     "output_type": "stream",
     "text": [
      "Average Accuracy:  0.988928487507 . Standard Deviation:  0.000536711007372\n",
      "CPU times: user 18.9 s, sys: 814 ms, total: 19.7 s\n",
      "Wall time: 20.7 s\n"
     ]
    }
   ],
   "source": [
    "%%time\n",
    "shuffle_split_cross_val(rfc, energy_range)"
   ]
  },
  {
   "cell_type": "markdown",
   "metadata": {},
   "source": [
    "### Decision Tree Classifier"
   ]
  },
  {
   "cell_type": "code",
   "execution_count": 12,
   "metadata": {
    "collapsed": true
   },
   "outputs": [],
   "source": [
    "dtc = DecisionTreeClassifier()\n",
    "dtc.fit(training_set_use[attr_names], energy_range)\n",
    "dtc_prediction = dtc.predict(training_set_use[attr_names])"
   ]
  },
  {
   "cell_type": "code",
   "execution_count": 13,
   "metadata": {},
   "outputs": [
    {
     "data": {
      "text/html": [
       "<div>\n",
       "<style>\n",
       "    .dataframe thead tr:only-child th {\n",
       "        text-align: right;\n",
       "    }\n",
       "\n",
       "    .dataframe thead th {\n",
       "        text-align: left;\n",
       "    }\n",
       "\n",
       "    .dataframe tbody tr th {\n",
       "        vertical-align: top;\n",
       "    }\n",
       "</style>\n",
       "<table border=\"1\" class=\"dataframe\">\n",
       "  <thead>\n",
       "    <tr style=\"text-align: right;\">\n",
       "      <th>predicted</th>\n",
       "      <th>n</th>\n",
       "      <th>p</th>\n",
       "    </tr>\n",
       "    <tr>\n",
       "      <th>actual</th>\n",
       "      <th></th>\n",
       "      <th></th>\n",
       "    </tr>\n",
       "  </thead>\n",
       "  <tbody>\n",
       "    <tr>\n",
       "      <th>n</th>\n",
       "      <td>45484</td>\n",
       "      <td>28</td>\n",
       "    </tr>\n",
       "    <tr>\n",
       "      <th>p</th>\n",
       "      <td>0</td>\n",
       "      <td>39600</td>\n",
       "    </tr>\n",
       "  </tbody>\n",
       "</table>\n",
       "</div>"
      ],
      "text/plain": [
       "predicted      n      p\n",
       "actual                 \n",
       "n          45484     28\n",
       "p              0  39600"
      ]
     },
     "execution_count": 13,
     "metadata": {},
     "output_type": "execute_result"
    }
   ],
   "source": [
    "pd.crosstab(energy_range, dtc_prediction, rownames=[\"actual\"], colnames=[\"predicted\"])"
   ]
  },
  {
   "cell_type": "code",
   "execution_count": 14,
   "metadata": {},
   "outputs": [
    {
     "name": "stdout",
     "output_type": "stream",
     "text": [
      "Average Accuracy:  0.989954570377 . Standard Deviation:  0.000786444960759\n",
      "CPU times: user 16.2 s, sys: 673 ms, total: 16.9 s\n",
      "Wall time: 18.3 s\n"
     ]
    }
   ],
   "source": [
    "%%time\n",
    "shuffle_split_cross_val(dtc, energy_range)"
   ]
  },
  {
   "cell_type": "markdown",
   "metadata": {},
   "source": [
    "### Random Forest Regressor"
   ]
  },
  {
   "cell_type": "code",
   "execution_count": 15,
   "metadata": {},
   "outputs": [
    {
     "data": {
      "text/plain": [
       "RandomForestRegressor(bootstrap=True, criterion='mse', max_depth=None,\n",
       "           max_features='auto', max_leaf_nodes=None,\n",
       "           min_impurity_split=1e-07, min_samples_leaf=1,\n",
       "           min_samples_split=2, min_weight_fraction_leaf=0.0,\n",
       "           n_estimators=10, n_jobs=1, oob_score=False, random_state=None,\n",
       "           verbose=0, warm_start=False)"
      ]
     },
     "execution_count": 15,
     "metadata": {},
     "output_type": "execute_result"
    }
   ],
   "source": [
    "rf_model = RandomForestRegressor()\n",
    "rf_model.fit(training_set_use[attr_names], delta_e)"
   ]
  },
  {
   "cell_type": "code",
   "execution_count": 16,
   "metadata": {
    "collapsed": true
   },
   "outputs": [],
   "source": [
    "rf_prediction = rf_model.predict(training_set_use[attr_names])"
   ]
  },
  {
   "cell_type": "code",
   "execution_count": 17,
   "metadata": {},
   "outputs": [
    {
     "data": {
      "text/plain": [
       "<matplotlib.text.Text at 0x112a8a080>"
      ]
     },
     "execution_count": 17,
     "metadata": {},
     "output_type": "execute_result"
    },
    {
     "data": {
      "image/png": "[encoded data removed]",
      "text/plain": [
       "<matplotlib.figure.Figure at 0x10b13b128>"
      ]
     },
     "metadata": {},
     "output_type": "display_data"
    }
   ],
   "source": [
    "plt.scatter(delta_e, rf_prediction)\n",
    "plt.plot(range(-5,8), range(-5,8), 'r')\n",
    "plt.xlabel(\"OQMD Data\")\n",
    "plt.ylabel(\"Predicted\")"
   ]
  },
  {
   "cell_type": "code",
   "execution_count": 18,
   "metadata": {},
   "outputs": [
    {
     "name": "stdout",
     "output_type": "stream",
     "text": [
      "Average Accuracy:  0.93957299914 . Standard Deviation:  0.00189362429286\n",
      "CPU times: user 3min 4s, sys: 2.36 s, total: 3min 6s\n",
      "Wall time: 3min 13s\n"
     ]
    }
   ],
   "source": [
    "%%time\n",
    "shuffle_split_cross_val(rf_model, delta_e)"
   ]
  },
  {
   "cell_type": "markdown",
   "metadata": {},
   "source": [
    "### Decision Forest Regressor"
   ]
  },
  {
   "cell_type": "code",
   "execution_count": 19,
   "metadata": {},
   "outputs": [
    {
     "data": {
      "text/plain": [
       "DecisionTreeRegressor(criterion='mse', max_depth=None, max_features=None,\n",
       "           max_leaf_nodes=None, min_impurity_split=1e-07,\n",
       "           min_samples_leaf=1, min_samples_split=2,\n",
       "           min_weight_fraction_leaf=0.0, presort=False, random_state=None,\n",
       "           splitter='best')"
      ]
     },
     "execution_count": 19,
     "metadata": {},
     "output_type": "execute_result"
    }
   ],
   "source": [
    "dt_model = DecisionTreeRegressor()\n",
    "dt_model.fit(training_set_use[attr_names], delta_e)"
   ]
  },
  {
   "cell_type": "code",
   "execution_count": 20,
   "metadata": {
    "collapsed": true
   },
   "outputs": [],
   "source": [
    "dt_prediction = dt_model.predict(training_set_use[attr_names])"
   ]
  },
  {
   "cell_type": "code",
   "execution_count": 21,
   "metadata": {},
   "outputs": [
    {
     "data": {
      "text/plain": [
       "<matplotlib.text.Text at 0x10f5622e8>"
      ]
     },
     "execution_count": 21,
     "metadata": {},
     "output_type": "execute_result"
    },
    {
     "data": {
      "image/png": "[encoded data removed]",
      "text/plain": [
       "<matplotlib.figure.Figure at 0x10f3c7b00>"
      ]
     },
     "metadata": {},
     "output_type": "display_data"
    }
   ],
   "source": [
    "plt.scatter(delta_e, dt_prediction)\n",
    "plt.plot(range(-5,8), range(-5,8), 'r')\n",
    "plt.xlabel(\"OQMD Data\")\n",
    "plt.ylabel(\"Predicted\")"
   ]
  },
  {
   "cell_type": "code",
   "execution_count": 22,
   "metadata": {},
   "outputs": [
    {
     "name": "stdout",
     "output_type": "stream",
     "text": [
      "Average Accuracy:  0.890500727787 . Standard Deviation:  0.00764138625857\n",
      "CPU times: user 26.9 s, sys: 506 ms, total: 27.4 s\n",
      "Wall time: 27.6 s\n"
     ]
    }
   ],
   "source": [
    "%%time\n",
    "shuffle_split_cross_val(dt_model, delta_e)"
   ]
  },
  {
   "cell_type": "markdown",
   "metadata": {},
   "source": [
    "# Split Dataset by Element for Aluminum"
   ]
  },
  {
   "cell_type": "code",
   "execution_count": 23,
   "metadata": {
    "collapsed": true
   },
   "outputs": [],
   "source": [
    "cols_to_drop = ['comp', 'energy_pa', 'volume_pa', 'magmom_pa', 'bandgap', 'stability', 'comp_obj', 'is_groundstate', 'delta_e']"
   ]
  },
  {
   "cell_type": "code",
   "execution_count": 24,
   "metadata": {
    "collapsed": true
   },
   "outputs": [],
   "source": [
    "def get_elements(comp):\n",
    "    return comp.elements\n",
    "\n",
    "def split_by_element(training_set, element):\n",
    "    \"\"\"\n",
    "    Splits dataframe into two datasets: one without the element inputted and the other with. Provides datasets for machine learning models.\n",
    "    \n",
    "    Args:\n",
    "        training_set: pandas data frame containing training data\n",
    "        element: string represenation of an element\n",
    "    Returns:\n",
    "        Two dataframes -- one with compounds with the element in it, the other without\n",
    "    \"\"\"\n",
    "    #print(training_set.head())\n",
    "    #for comp in training_set['comp_obj']:\n",
    "        #if Element(element) in comp.elements:\n",
    "        \n",
    "    training_set['els'] = training_set['comp_obj'].apply(get_elements)\n",
    "    training_set['is_in'] = False\n",
    "    for count, el_list in enumerate(training_set['els']):\n",
    "        if Element(element) in el_list:\n",
    "            training_set.iloc[count, training_set.columns.get_loc('is_in')] = True\n",
    "    \n",
    "    with_element = training_set[training_set['is_in']]\n",
    "    without_element = training_set[training_set['is_in'] == False]\n",
    "    return with_element, without_element"
   ]
  },
  {
   "cell_type": "code",
   "execution_count": 25,
   "metadata": {},
   "outputs": [
    {
     "name": "stdout",
     "output_type": "stream",
     "text": [
      "CPU times: user 1.7 s, sys: 164 ms, total: 1.86 s\n",
      "Wall time: 1.88 s\n"
     ]
    }
   ],
   "source": [
    "%%time\n",
    "#Predict Enthalpy Delta given training data without Aluminum in it\n",
    "with_, without = split_by_element(training_set_use, 'Al')"
   ]
  },
  {
   "cell_type": "code",
   "execution_count": 26,
   "metadata": {
    "collapsed": true
   },
   "outputs": [],
   "source": [
    "cols_to_drop += ['els', 'is_in']"
   ]
  },
  {
   "cell_type": "code",
   "execution_count": 27,
   "metadata": {
    "collapsed": true
   },
   "outputs": [],
   "source": [
    "def create_ranges(without, with_):\n",
    "    # Training data\n",
    "\n",
    "    #Discrete into pos/neg formation energy for regression\n",
    "    delta_e_without = np.array(without['delta_e'], dtype=float)\n",
    "    #pos/neg values for classification\n",
    "    energy_range_without = np.zeros(np.shape(delta_e_without), dtype=str)\n",
    "    for i in range(len(delta_e_without)):\n",
    "        if delta_e_without[i] < 0:\n",
    "            energy_range_without[i] = 'neg'\n",
    "        else:\n",
    "            energy_range_without[i] = 'pos'\n",
    "\n",
    "    # Prediction data\n",
    "    delta_e_with = np.array(with_['delta_e'], dtype=float)\n",
    "    energy_range_with = np.zeros(np.shape(delta_e_with), dtype=str)\n",
    "    for i in range(len(delta_e_with)):\n",
    "        if delta_e_with[i] < 0:\n",
    "            energy_range_with[i] = 'neg'\n",
    "        else:\n",
    "            energy_range_with[i] = 'pos'\n",
    "            \n",
    "    return delta_e_without, energy_range_without, delta_e_with, energy_range_with"
   ]
  },
  {
   "cell_type": "code",
   "execution_count": 28,
   "metadata": {},
   "outputs": [],
   "source": [
    "delta_e_without, energy_range_without, delta_e_with, energy_range_with = create_ranges(without, with_)"
   ]
  },
  {
   "cell_type": "markdown",
   "metadata": {},
   "source": [
    "## Classification on All Elements"
   ]
  },
  {
   "cell_type": "code",
   "execution_count": 29,
   "metadata": {},
   "outputs": [],
   "source": [
    "def all_el_split(method):\n",
    "    \"\"\"\n",
    "    Takes a machine learning model, then uses the split element test to fill a dataframe with r1 and r2 values for each element\n",
    "    \"\"\"\n",
    "    index = ['r1', 'r2']\n",
    "    stats = pd.DataFrame(index=index)\n",
    "    for i in range(1, 104):\n",
    "        el = Element.from_Z(i).symbol\n",
    "        print(el)\n",
    "        # creates two dataframes, with the element in it and without the element in it\n",
    "        with_, without = split_by_element(training_set_use, el)\n",
    "        # will reiterate if there are no compositions with the selected element\n",
    "        if with_.shape[0] == 0:\n",
    "            continue\n",
    "        # creates classification data: trains with delta_e_without and energy_range_without; predicts with delta_e_with\n",
    "        delta_e_without, energy_range_without, delta_e_with, energy_range_with = create_ranges(without, with_)\n",
    "        r1, r2 = method(without, with_, energy_range_without, energy_range_with)\n",
    "        arr = [r1, r2]\n",
    "        stats[el] = pd.Series(arr).values \n",
    "        \n",
    "    return stats"
   ]
  },
  {
   "cell_type": "code",
   "execution_count": 30,
   "metadata": {},
   "outputs": [
    {
     "data": {
      "text/html": [
       "<div>\n",
       "<style>\n",
       "    .dataframe thead tr:only-child th {\n",
       "        text-align: right;\n",
       "    }\n",
       "\n",
       "    .dataframe thead th {\n",
       "        text-align: left;\n",
       "    }\n",
       "\n",
       "    .dataframe tbody tr th {\n",
       "        vertical-align: top;\n",
       "    }\n",
       "</style>\n",
       "<table border=\"1\" class=\"dataframe\">\n",
       "  <thead>\n",
       "    <tr style=\"text-align: right;\">\n",
       "      <th></th>\n",
       "      <th>Ac</th>\n",
       "      <th>Ag</th>\n",
       "      <th>Al</th>\n",
       "      <th>Am</th>\n",
       "      <th>Ar</th>\n",
       "      <th>As</th>\n",
       "      <th>At</th>\n",
       "      <th>Au</th>\n",
       "      <th>B</th>\n",
       "      <th>Ba</th>\n",
       "      <th>...</th>\n",
       "      <th>Tl</th>\n",
       "      <th>Tm</th>\n",
       "      <th>U</th>\n",
       "      <th>V</th>\n",
       "      <th>W</th>\n",
       "      <th>Xe</th>\n",
       "      <th>Y</th>\n",
       "      <th>Yb</th>\n",
       "      <th>Zn</th>\n",
       "      <th>Zr</th>\n",
       "    </tr>\n",
       "  </thead>\n",
       "  <tbody>\n",
       "    <tr>\n",
       "      <th>0</th>\n",
       "      <td>0.0</td>\n",
       "      <td>0.0</td>\n",
       "      <td>0.0</td>\n",
       "      <td>0.0</td>\n",
       "      <td>0.0</td>\n",
       "      <td>0.0</td>\n",
       "      <td>0.0</td>\n",
       "      <td>0.0</td>\n",
       "      <td>0.0</td>\n",
       "      <td>0.0</td>\n",
       "      <td>...</td>\n",
       "      <td>0.0</td>\n",
       "      <td>0.0</td>\n",
       "      <td>0.0</td>\n",
       "      <td>0.0</td>\n",
       "      <td>0.0</td>\n",
       "      <td>0.0</td>\n",
       "      <td>0.0</td>\n",
       "      <td>0.0</td>\n",
       "      <td>0.0</td>\n",
       "      <td>0.0</td>\n",
       "    </tr>\n",
       "    <tr>\n",
       "      <th>1</th>\n",
       "      <td>0.0</td>\n",
       "      <td>0.0</td>\n",
       "      <td>0.0</td>\n",
       "      <td>0.0</td>\n",
       "      <td>0.0</td>\n",
       "      <td>0.0</td>\n",
       "      <td>0.0</td>\n",
       "      <td>0.0</td>\n",
       "      <td>0.0</td>\n",
       "      <td>0.0</td>\n",
       "      <td>...</td>\n",
       "      <td>0.0</td>\n",
       "      <td>0.0</td>\n",
       "      <td>0.0</td>\n",
       "      <td>0.0</td>\n",
       "      <td>0.0</td>\n",
       "      <td>0.0</td>\n",
       "      <td>0.0</td>\n",
       "      <td>0.0</td>\n",
       "      <td>0.0</td>\n",
       "      <td>0.0</td>\n",
       "    </tr>\n",
       "    <tr>\n",
       "      <th>2</th>\n",
       "      <td>0.0</td>\n",
       "      <td>0.0</td>\n",
       "      <td>0.0</td>\n",
       "      <td>0.0</td>\n",
       "      <td>0.0</td>\n",
       "      <td>0.0</td>\n",
       "      <td>0.0</td>\n",
       "      <td>0.0</td>\n",
       "      <td>0.0</td>\n",
       "      <td>0.0</td>\n",
       "      <td>...</td>\n",
       "      <td>0.0</td>\n",
       "      <td>0.0</td>\n",
       "      <td>0.0</td>\n",
       "      <td>0.0</td>\n",
       "      <td>0.0</td>\n",
       "      <td>0.0</td>\n",
       "      <td>0.0</td>\n",
       "      <td>0.0</td>\n",
       "      <td>0.0</td>\n",
       "      <td>0.0</td>\n",
       "    </tr>\n",
       "    <tr>\n",
       "      <th>3</th>\n",
       "      <td>0.0</td>\n",
       "      <td>0.0</td>\n",
       "      <td>0.0</td>\n",
       "      <td>0.0</td>\n",
       "      <td>0.0</td>\n",
       "      <td>0.0</td>\n",
       "      <td>0.0</td>\n",
       "      <td>0.0</td>\n",
       "      <td>0.0</td>\n",
       "      <td>0.0</td>\n",
       "      <td>...</td>\n",
       "      <td>0.0</td>\n",
       "      <td>0.0</td>\n",
       "      <td>0.0</td>\n",
       "      <td>0.0</td>\n",
       "      <td>0.0</td>\n",
       "      <td>0.0</td>\n",
       "      <td>0.0</td>\n",
       "      <td>0.0</td>\n",
       "      <td>0.0</td>\n",
       "      <td>0.0</td>\n",
       "    </tr>\n",
       "    <tr>\n",
       "      <th>4</th>\n",
       "      <td>0.0</td>\n",
       "      <td>0.0</td>\n",
       "      <td>0.0</td>\n",
       "      <td>0.0</td>\n",
       "      <td>0.0</td>\n",
       "      <td>0.0</td>\n",
       "      <td>0.0</td>\n",
       "      <td>0.0</td>\n",
       "      <td>0.0</td>\n",
       "      <td>0.0</td>\n",
       "      <td>...</td>\n",
       "      <td>0.0</td>\n",
       "      <td>0.0</td>\n",
       "      <td>0.0</td>\n",
       "      <td>0.0</td>\n",
       "      <td>0.0</td>\n",
       "      <td>0.0</td>\n",
       "      <td>0.0</td>\n",
       "      <td>0.0</td>\n",
       "      <td>0.0</td>\n",
       "      <td>0.0</td>\n",
       "    </tr>\n",
       "  </tbody>\n",
       "</table>\n",
       "<p>5 rows × 103 columns</p>\n",
       "</div>"
      ],
      "text/plain": [
       "    Ac   Ag   Al   Am   Ar   As   At   Au    B   Ba ...    Tl   Tm    U    V  \\\n",
       "0  0.0  0.0  0.0  0.0  0.0  0.0  0.0  0.0  0.0  0.0 ...   0.0  0.0  0.0  0.0   \n",
       "1  0.0  0.0  0.0  0.0  0.0  0.0  0.0  0.0  0.0  0.0 ...   0.0  0.0  0.0  0.0   \n",
       "2  0.0  0.0  0.0  0.0  0.0  0.0  0.0  0.0  0.0  0.0 ...   0.0  0.0  0.0  0.0   \n",
       "3  0.0  0.0  0.0  0.0  0.0  0.0  0.0  0.0  0.0  0.0 ...   0.0  0.0  0.0  0.0   \n",
       "4  0.0  0.0  0.0  0.0  0.0  0.0  0.0  0.0  0.0  0.0 ...   0.0  0.0  0.0  0.0   \n",
       "\n",
       "     W   Xe    Y   Yb   Zn   Zr  \n",
       "0  0.0  0.0  0.0  0.0  0.0  0.0  \n",
       "1  0.0  0.0  0.0  0.0  0.0  0.0  \n",
       "2  0.0  0.0  0.0  0.0  0.0  0.0  \n",
       "3  0.0  0.0  0.0  0.0  0.0  0.0  \n",
       "4  0.0  0.0  0.0  0.0  0.0  0.0  \n",
       "\n",
       "[5 rows x 103 columns]"
      ]
     },
     "execution_count": 30,
     "metadata": {},
     "output_type": "execute_result"
    }
   ],
   "source": [
    "without[attr_names].head()"
   ]
  },
  {
   "cell_type": "markdown",
   "metadata": {},
   "source": [
    "### Random Forest Classifier"
   ]
  },
  {
   "cell_type": "code",
   "execution_count": 31,
   "metadata": {
    "collapsed": true
   },
   "outputs": [],
   "source": [
    "import math\n",
    "def rfc(without, with_, energy_range_without, energy_range_with):\n",
    "    \"\"\"\n",
    "    Returns r1 score and r2 score\n",
    "    \"\"\"\n",
    "    \n",
    "    rfc = RandomForestClassifier(n_estimators=100, criterion='gini', min_samples_split=2, n_jobs=-1)\n",
    "    rfc.fit(without[attr_names], energy_range_without)\n",
    "    rfc_prediction = rfc.predict(with_[attr_names])\n",
    "    r2_score = rfc.score(with_[attr_names], energy_range_with)\n",
    "    r1_score = math.sqrt(r2_score)\n",
    "    #print(pd.crosstab(energy_range_with, rfc_prediction, rownames=['actual'], colnames=['predicted']))\n",
    "    print(r1_score)\n",
    "    return r1_score, r2_score\n"
   ]
  },
  {
   "cell_type": "code",
   "execution_count": 32,
   "metadata": {},
   "outputs": [
    {
     "name": "stdout",
     "output_type": "stream",
     "text": [
      "H\n"
     ]
    },
    {
     "name": "stdout",
     "output_type": "stream",
     "text": [
      "0.6357019818679288\n",
      "He\n"
     ]
    },
    {
     "name": "stdout",
     "output_type": "stream",
     "text": [
      "0.7625217334210179\n",
      "Li\n"
     ]
    },
    {
     "name": "stdout",
     "output_type": "stream",
     "text": [
      "0.961951506783375\n",
      "Be\n"
     ]
    },
    {
     "name": "stdout",
     "output_type": "stream",
     "text": [
      "0.6824121002076413\n",
      "B\n"
     ]
    },
    {
     "name": "stdout",
     "output_type": "stream",
     "text": [
      "0.7371660652177351\n",
      "C\n"
     ]
    },
    {
     "name": "stdout",
     "output_type": "stream",
     "text": [
      "0.6506202985677334\n",
      "N\n"
     ]
    },
    {
     "name": "stdout",
     "output_type": "stream",
     "text": [
      "0.6100425384628331\n",
      "O\n"
     ]
    },
    {
     "name": "stdout",
     "output_type": "stream",
     "text": [
      "0.7568868715019452\n",
      "F\n"
     ]
    },
    {
     "name": "stdout",
     "output_type": "stream",
     "text": [
      "0.7030085272360646\n",
      "Ne\n"
     ]
    },
    {
     "name": "stdout",
     "output_type": "stream",
     "text": [
      "0.7629355851385535\n",
      "Na\n"
     ]
    },
    {
     "name": "stdout",
     "output_type": "stream",
     "text": [
      "0.9211489292039198\n",
      "Mg\n"
     ]
    },
    {
     "name": "stdout",
     "output_type": "stream",
     "text": [
      "0.8833958066318109\n",
      "Al\n"
     ]
    },
    {
     "name": "stdout",
     "output_type": "stream",
     "text": [
      "0.7646515735846668\n",
      "Si\n"
     ]
    },
    {
     "name": "stdout",
     "output_type": "stream",
     "text": [
      "0.7464274685362142\n",
      "P\n"
     ]
    },
    {
     "name": "stdout",
     "output_type": "stream",
     "text": [
      "0.7561704697306779\n",
      "S\n"
     ]
    },
    {
     "name": "stdout",
     "output_type": "stream",
     "text": [
      "0.7324302138955009\n",
      "Cl\n"
     ]
    },
    {
     "name": "stdout",
     "output_type": "stream",
     "text": [
      "0.7264831572567789\n",
      "Ar\n"
     ]
    },
    {
     "name": "stdout",
     "output_type": "stream",
     "text": [
      "0.7625217334210179\n",
      "K\n"
     ]
    },
    {
     "name": "stdout",
     "output_type": "stream",
     "text": [
      "0.9363189275292418\n",
      "Ca\n"
     ]
    },
    {
     "name": "stdout",
     "output_type": "stream",
     "text": [
      "0.9784976821601695\n",
      "Sc\n"
     ]
    },
    {
     "name": "stdout",
     "output_type": "stream",
     "text": [
      "0.9571167160375406\n",
      "Ti\n"
     ]
    },
    {
     "name": "stdout",
     "output_type": "stream",
     "text": [
      "0.9315800608061714\n",
      "V\n"
     ]
    },
    {
     "name": "stdout",
     "output_type": "stream",
     "text": [
      "0.908933367110506\n",
      "Cr\n"
     ]
    },
    {
     "name": "stdout",
     "output_type": "stream",
     "text": [
      "0.8799944567452905\n",
      "Mn\n"
     ]
    },
    {
     "name": "stdout",
     "output_type": "stream",
     "text": [
      "0.8952759280477568\n",
      "Fe\n"
     ]
    },
    {
     "name": "stdout",
     "output_type": "stream",
     "text": [
      "0.8570728948640692\n",
      "Co\n"
     ]
    },
    {
     "name": "stdout",
     "output_type": "stream",
     "text": [
      "0.8157549853333612\n",
      "Ni\n"
     ]
    },
    {
     "name": "stdout",
     "output_type": "stream",
     "text": [
      "0.8260719851580526\n",
      "Cu\n"
     ]
    },
    {
     "name": "stdout",
     "output_type": "stream",
     "text": [
      "0.8234238919472743\n",
      "Zn\n"
     ]
    },
    {
     "name": "stdout",
     "output_type": "stream",
     "text": [
      "0.7112277032769518\n",
      "Ga\n"
     ]
    },
    {
     "name": "stdout",
     "output_type": "stream",
     "text": [
      "0.7295760448130083\n",
      "Ge\n"
     ]
    },
    {
     "name": "stdout",
     "output_type": "stream",
     "text": [
      "0.7463823511935611\n",
      "As\n"
     ]
    },
    {
     "name": "stdout",
     "output_type": "stream",
     "text": [
      "0.704215412424022\n",
      "Se\n"
     ]
    },
    {
     "name": "stdout",
     "output_type": "stream",
     "text": [
      "0.7184827422358993\n",
      "Br\n"
     ]
    },
    {
     "name": "stdout",
     "output_type": "stream",
     "text": [
      "0.7455136397082283\n",
      "Kr\n"
     ]
    },
    {
     "name": "stdout",
     "output_type": "stream",
     "text": [
      "0.7700277002194337\n",
      "Rb\n"
     ]
    },
    {
     "name": "stdout",
     "output_type": "stream",
     "text": [
      "0.9225254248411994\n",
      "Sr\n"
     ]
    },
    {
     "name": "stdout",
     "output_type": "stream",
     "text": [
      "0.9693990008662533\n",
      "Y\n"
     ]
    },
    {
     "name": "stdout",
     "output_type": "stream",
     "text": [
      "0.975376764453605\n",
      "Zr\n"
     ]
    },
    {
     "name": "stdout",
     "output_type": "stream",
     "text": [
      "0.9387509978443809\n",
      "Nb\n"
     ]
    },
    {
     "name": "stdout",
     "output_type": "stream",
     "text": [
      "0.9088147065115952\n",
      "Mo\n"
     ]
    },
    {
     "name": "stdout",
     "output_type": "stream",
     "text": [
      "0.8886558232856565\n",
      "Tc\n"
     ]
    },
    {
     "name": "stdout",
     "output_type": "stream",
     "text": [
      "0.8221997695567604\n",
      "Ru\n"
     ]
    },
    {
     "name": "stdout",
     "output_type": "stream",
     "text": [
      "0.7952014171338935\n",
      "Rh\n"
     ]
    },
    {
     "name": "stdout",
     "output_type": "stream",
     "text": [
      "0.7312942311307327\n",
      "Pd\n"
     ]
    },
    {
     "name": "stdout",
     "output_type": "stream",
     "text": [
      "0.8024254260606754\n",
      "Ag\n"
     ]
    },
    {
     "name": "stdout",
     "output_type": "stream",
     "text": [
      "0.7567331259756699\n",
      "Cd\n"
     ]
    },
    {
     "name": "stdout",
     "output_type": "stream",
     "text": [
      "0.7361650615326367\n",
      "In\n"
     ]
    },
    {
     "name": "stdout",
     "output_type": "stream",
     "text": [
      "0.7991132285964635\n",
      "Sn\n"
     ]
    },
    {
     "name": "stdout",
     "output_type": "stream",
     "text": [
      "0.747545001596402\n",
      "Sb\n"
     ]
    },
    {
     "name": "stdout",
     "output_type": "stream",
     "text": [
      "0.7272754668134603\n",
      "Te\n"
     ]
    },
    {
     "name": "stdout",
     "output_type": "stream",
     "text": [
      "0.731488200796962\n",
      "I\n"
     ]
    },
    {
     "name": "stdout",
     "output_type": "stream",
     "text": [
      "0.7206772320299951\n",
      "Xe\n"
     ]
    },
    {
     "name": "stdout",
     "output_type": "stream",
     "text": [
      "0.7708573833904935\n",
      "Cs\n"
     ]
    },
    {
     "name": "stdout",
     "output_type": "stream",
     "text": [
      "0.9228422210391994\n",
      "Ba\n"
     ]
    },
    {
     "name": "stdout",
     "output_type": "stream",
     "text": [
      "0.9691854251635827\n",
      "La\n"
     ]
    },
    {
     "name": "stdout",
     "output_type": "stream",
     "text": [
      "0.9898936264337181\n",
      "Ce\n"
     ]
    },
    {
     "name": "stdout",
     "output_type": "stream",
     "text": [
      "0.9932304599772838\n",
      "Pr\n"
     ]
    },
    {
     "name": "stdout",
     "output_type": "stream",
     "text": [
      "0.9938902336828597\n",
      "Nd\n"
     ]
    },
    {
     "name": "stdout",
     "output_type": "stream",
     "text": [
      "0.9946808133388334\n",
      "Pm\n"
     ]
    },
    {
     "name": "stdout",
     "output_type": "stream",
     "text": [
      "0.9557772235254934\n",
      "Sm\n"
     ]
    },
    {
     "name": "stdout",
     "output_type": "stream",
     "text": [
      "0.9861575627375548\n",
      "Eu\n"
     ]
    },
    {
     "name": "stdout",
     "output_type": "stream",
     "text": [
      "0.9764354173200612\n",
      "Gd\n"
     ]
    },
    {
     "name": "stdout",
     "output_type": "stream",
     "text": [
      "0.9880732056855982\n",
      "Tb\n"
     ]
    },
    {
     "name": "stdout",
     "output_type": "stream",
     "text": [
      "0.9321694038903447\n",
      "Dy\n"
     ]
    },
    {
     "name": "stdout",
     "output_type": "stream",
     "text": [
      "0.990266768225264\n",
      "Ho\n"
     ]
    },
    {
     "name": "stdout",
     "output_type": "stream",
     "text": [
      "0.9800572805772018\n",
      "Er\n"
     ]
    },
    {
     "name": "stdout",
     "output_type": "stream",
     "text": [
      "0.982160162877431\n",
      "Tm\n"
     ]
    },
    {
     "name": "stdout",
     "output_type": "stream",
     "text": [
      "0.984517010019004\n",
      "Yb\n"
     ]
    },
    {
     "name": "stdout",
     "output_type": "stream",
     "text": [
      "0.987831405201163\n",
      "Lu\n"
     ]
    },
    {
     "name": "stdout",
     "output_type": "stream",
     "text": [
      "0.9857792842934937\n",
      "Hf\n"
     ]
    },
    {
     "name": "stdout",
     "output_type": "stream",
     "text": [
      "0.9329989850033021\n",
      "Ta\n"
     ]
    },
    {
     "name": "stdout",
     "output_type": "stream",
     "text": [
      "0.9035714921584465\n",
      "W\n"
     ]
    },
    {
     "name": "stdout",
     "output_type": "stream",
     "text": [
      "0.8604232988616217\n",
      "Re\n"
     ]
    },
    {
     "name": "stdout",
     "output_type": "stream",
     "text": [
      "0.8270597183866336\n",
      "Os\n"
     ]
    },
    {
     "name": "stdout",
     "output_type": "stream",
     "text": [
      "0.7393325524050351\n",
      "Ir\n"
     ]
    },
    {
     "name": "stdout",
     "output_type": "stream",
     "text": [
      "0.7027564774989034\n",
      "Pt\n"
     ]
    },
    {
     "name": "stdout",
     "output_type": "stream",
     "text": [
      "0.7499357959165027\n",
      "Au\n"
     ]
    },
    {
     "name": "stdout",
     "output_type": "stream",
     "text": [
      "0.7301109880928214\n",
      "Hg\n"
     ]
    },
    {
     "name": "stdout",
     "output_type": "stream",
     "text": [
      "0.6530537522138657\n",
      "Tl\n"
     ]
    },
    {
     "name": "stdout",
     "output_type": "stream",
     "text": [
      "0.7193255131717365\n",
      "Pb\n"
     ]
    },
    {
     "name": "stdout",
     "output_type": "stream",
     "text": [
      "0.6893225391019122\n",
      "Bi\n"
     ]
    },
    {
     "name": "stdout",
     "output_type": "stream",
     "text": [
      "0.7104033341674725\n",
      "Po\n"
     ]
    },
    {
     "name": "stdout",
     "output_type": "stream",
     "text": [
      "At\n"
     ]
    },
    {
     "name": "stdout",
     "output_type": "stream",
     "text": [
      "Rn\n"
     ]
    },
    {
     "name": "stdout",
     "output_type": "stream",
     "text": [
      "Fr\n"
     ]
    },
    {
     "name": "stdout",
     "output_type": "stream",
     "text": [
      "Ra\n"
     ]
    },
    {
     "name": "stdout",
     "output_type": "stream",
     "text": [
      "Ac\n"
     ]
    },
    {
     "name": "stdout",
     "output_type": "stream",
     "text": [
      "0.9728340315611035\n",
      "Th\n"
     ]
    },
    {
     "name": "stdout",
     "output_type": "stream",
     "text": [
      "0.9712296520581716\n",
      "Pa\n"
     ]
    },
    {
     "name": "stdout",
     "output_type": "stream",
     "text": [
      "0.9307687096806354\n",
      "U\n"
     ]
    },
    {
     "name": "stdout",
     "output_type": "stream",
     "text": [
      "0.9337728293889345\n",
      "Np\n"
     ]
    },
    {
     "name": "stdout",
     "output_type": "stream",
     "text": [
      "0.9346269781815092\n",
      "Pu\n"
     ]
    },
    {
     "name": "stdout",
     "output_type": "stream",
     "text": [
      "0.9683050546697991\n",
      "Am\n"
     ]
    },
    {
     "name": "stdout",
     "output_type": "stream",
     "text": [
      "Cm\n"
     ]
    },
    {
     "name": "stdout",
     "output_type": "stream",
     "text": [
      "Bk\n"
     ]
    },
    {
     "name": "stdout",
     "output_type": "stream",
     "text": [
      "Cf\n"
     ]
    },
    {
     "name": "stdout",
     "output_type": "stream",
     "text": [
      "Es\n"
     ]
    },
    {
     "name": "stdout",
     "output_type": "stream",
     "text": [
      "Fm\n"
     ]
    },
    {
     "name": "stdout",
     "output_type": "stream",
     "text": [
      "Md\n"
     ]
    },
    {
     "name": "stdout",
     "output_type": "stream",
     "text": [
      "No\n"
     ]
    },
    {
     "name": "stdout",
     "output_type": "stream",
     "text": [
      "Lr\n"
     ]
    },
    {
     "name": "stdout",
     "output_type": "stream",
     "text": [
      "CPU times: user 45min 22s, sys: 39 s, total: 46min 1s\n",
      "Wall time: 15min 6s\n"
     ]
    }
   ],
   "source": [
    "%%time\n",
    "rfc_stats = all_el_split(rfc)"
   ]
  },
  {
   "cell_type": "code",
   "execution_count": 33,
   "metadata": {},
   "outputs": [
    {
     "data": {
      "text/html": [
       "<div>\n",
       "<style>\n",
       "    .dataframe thead tr:only-child th {\n",
       "        text-align: right;\n",
       "    }\n",
       "\n",
       "    .dataframe thead th {\n",
       "        text-align: left;\n",
       "    }\n",
       "\n",
       "    .dataframe tbody tr th {\n",
       "        vertical-align: top;\n",
       "    }\n",
       "</style>\n",
       "<table border=\"1\" class=\"dataframe\">\n",
       "  <thead>\n",
       "    <tr style=\"text-align: right;\">\n",
       "      <th></th>\n",
       "      <th>H</th>\n",
       "      <th>He</th>\n",
       "      <th>Li</th>\n",
       "      <th>Be</th>\n",
       "      <th>B</th>\n",
       "      <th>C</th>\n",
       "      <th>N</th>\n",
       "      <th>O</th>\n",
       "      <th>F</th>\n",
       "      <th>Ne</th>\n",
       "      <th>...</th>\n",
       "      <th>Hg</th>\n",
       "      <th>Tl</th>\n",
       "      <th>Pb</th>\n",
       "      <th>Bi</th>\n",
       "      <th>Ac</th>\n",
       "      <th>Th</th>\n",
       "      <th>Pa</th>\n",
       "      <th>U</th>\n",
       "      <th>Np</th>\n",
       "      <th>Pu</th>\n",
       "    </tr>\n",
       "  </thead>\n",
       "  <tbody>\n",
       "    <tr>\n",
       "      <th>r1</th>\n",
       "      <td>0.635702</td>\n",
       "      <td>0.762522</td>\n",
       "      <td>0.961952</td>\n",
       "      <td>0.682412</td>\n",
       "      <td>0.737166</td>\n",
       "      <td>0.650620</td>\n",
       "      <td>0.610043</td>\n",
       "      <td>0.756887</td>\n",
       "      <td>0.703009</td>\n",
       "      <td>0.762936</td>\n",
       "      <td>...</td>\n",
       "      <td>0.653054</td>\n",
       "      <td>0.719326</td>\n",
       "      <td>0.689323</td>\n",
       "      <td>0.710403</td>\n",
       "      <td>0.972834</td>\n",
       "      <td>0.971230</td>\n",
       "      <td>0.930769</td>\n",
       "      <td>0.933773</td>\n",
       "      <td>0.934627</td>\n",
       "      <td>0.968305</td>\n",
       "    </tr>\n",
       "    <tr>\n",
       "      <th>r2</th>\n",
       "      <td>0.404117</td>\n",
       "      <td>0.581439</td>\n",
       "      <td>0.925351</td>\n",
       "      <td>0.465686</td>\n",
       "      <td>0.543414</td>\n",
       "      <td>0.423307</td>\n",
       "      <td>0.372152</td>\n",
       "      <td>0.572878</td>\n",
       "      <td>0.494221</td>\n",
       "      <td>0.582071</td>\n",
       "      <td>...</td>\n",
       "      <td>0.426479</td>\n",
       "      <td>0.517429</td>\n",
       "      <td>0.475166</td>\n",
       "      <td>0.504673</td>\n",
       "      <td>0.946406</td>\n",
       "      <td>0.943287</td>\n",
       "      <td>0.866330</td>\n",
       "      <td>0.871932</td>\n",
       "      <td>0.873528</td>\n",
       "      <td>0.937615</td>\n",
       "    </tr>\n",
       "  </tbody>\n",
       "</table>\n",
       "<p>2 rows × 89 columns</p>\n",
       "</div>"
      ],
      "text/plain": [
       "           H        He        Li        Be         B         C         N  \\\n",
       "r1  0.635702  0.762522  0.961952  0.682412  0.737166  0.650620  0.610043   \n",
       "r2  0.404117  0.581439  0.925351  0.465686  0.543414  0.423307  0.372152   \n",
       "\n",
       "           O         F        Ne    ...           Hg        Tl        Pb  \\\n",
       "r1  0.756887  0.703009  0.762936    ...     0.653054  0.719326  0.689323   \n",
       "r2  0.572878  0.494221  0.582071    ...     0.426479  0.517429  0.475166   \n",
       "\n",
       "          Bi        Ac        Th        Pa         U        Np        Pu  \n",
       "r1  0.710403  0.972834  0.971230  0.930769  0.933773  0.934627  0.968305  \n",
       "r2  0.504673  0.946406  0.943287  0.866330  0.871932  0.873528  0.937615  \n",
       "\n",
       "[2 rows x 89 columns]"
      ]
     },
     "execution_count": 33,
     "metadata": {},
     "output_type": "execute_result"
    }
   ],
   "source": [
    "rfc_stats"
   ]
  },
  {
   "cell_type": "code",
   "execution_count": 34,
   "metadata": {},
   "outputs": [
    {
     "data": {
      "text/plain": [
       "count    89.000000\n",
       "mean      0.718619\n",
       "std       0.189556\n",
       "min       0.372152\n",
       "25%       0.543414\n",
       "50%       0.682395\n",
       "75%       0.913510\n",
       "max       0.989390\n",
       "Name: r2, dtype: float64"
      ]
     },
     "execution_count": 34,
     "metadata": {},
     "output_type": "execute_result"
    }
   ],
   "source": [
    "rfc_stats.T['r2'].describe()"
   ]
  },
  {
   "cell_type": "markdown",
   "metadata": {},
   "source": [
    "### Decision Forest Classifier"
   ]
  },
  {
   "cell_type": "code",
   "execution_count": 35,
   "metadata": {
    "collapsed": true
   },
   "outputs": [],
   "source": [
    "def dtc(without, with_, energy_range_without, energy_range_with):\n",
    "    dtc = DecisionTreeClassifier()\n",
    "    dtc.fit(without[attr_names], energy_range_without)\n",
    "    dtc_prediction = dtc.predict(with_[attr_names])\n",
    "    r2_score = dtc.score(with_[attr_names], energy_range_with)\n",
    "    r1_score = math.sqrt(r2_score)\n",
    "    #print(pd.crosstab(energy_range_with, dtc_prediction, rownames=['actual'], colnames=['predicted']))\n",
    "    print(r1_score)\n",
    "    return r1_score, r2_score"
   ]
  },
  {
   "cell_type": "code",
   "execution_count": 36,
   "metadata": {},
   "outputs": [
    {
     "name": "stdout",
     "output_type": "stream",
     "text": [
      "H\n"
     ]
    },
    {
     "name": "stdout",
     "output_type": "stream",
     "text": [
      "0.630138680156746\n",
      "He\n"
     ]
    },
    {
     "name": "stdout",
     "output_type": "stream",
     "text": [
      "0.7554515674132066\n",
      "Li\n"
     ]
    },
    {
     "name": "stdout",
     "output_type": "stream",
     "text": [
      "0.958037406024778\n",
      "Be\n"
     ]
    },
    {
     "name": "stdout",
     "output_type": "stream",
     "text": [
      "0.6900021312840059\n",
      "B\n"
     ]
    },
    {
     "name": "stdout",
     "output_type": "stream",
     "text": [
      "0.7420337907050277\n",
      "C\n"
     ]
    },
    {
     "name": "stdout",
     "output_type": "stream",
     "text": [
      "0.6444677225574037\n",
      "N\n"
     ]
    },
    {
     "name": "stdout",
     "output_type": "stream",
     "text": [
      "0.5991555238601677\n",
      "O\n"
     ]
    },
    {
     "name": "stdout",
     "output_type": "stream",
     "text": [
      "0.7605811698718912\n",
      "F\n"
     ]
    },
    {
     "name": "stdout",
     "output_type": "stream",
     "text": [
      "0.7059616682389022\n",
      "Ne\n"
     ]
    },
    {
     "name": "stdout",
     "output_type": "stream",
     "text": [
      "0.7554515674132066\n",
      "Na\n"
     ]
    },
    {
     "name": "stdout",
     "output_type": "stream",
     "text": [
      "0.9208757128463737\n",
      "Mg\n"
     ]
    },
    {
     "name": "stdout",
     "output_type": "stream",
     "text": [
      "0.8787585262729725\n",
      "Al\n"
     ]
    },
    {
     "name": "stdout",
     "output_type": "stream",
     "text": [
      "0.7684918413001712\n",
      "Si\n"
     ]
    },
    {
     "name": "stdout",
     "output_type": "stream",
     "text": [
      "0.7508419328241409\n",
      "P\n"
     ]
    },
    {
     "name": "stdout",
     "output_type": "stream",
     "text": [
      "0.7640182608123369\n",
      "S\n"
     ]
    },
    {
     "name": "stdout",
     "output_type": "stream",
     "text": [
      "0.7380643754914006\n",
      "Cl\n"
     ]
    },
    {
     "name": "stdout",
     "output_type": "stream",
     "text": [
      "0.7307556578074675\n",
      "Ar\n"
     ]
    },
    {
     "name": "stdout",
     "output_type": "stream",
     "text": [
      "0.7554515674132066\n",
      "K\n"
     ]
    },
    {
     "name": "stdout",
     "output_type": "stream",
     "text": [
      "0.934321444875392\n",
      "Ca\n"
     ]
    },
    {
     "name": "stdout",
     "output_type": "stream",
     "text": [
      "0.9756124126428058\n",
      "Sc\n"
     ]
    },
    {
     "name": "stdout",
     "output_type": "stream",
     "text": [
      "0.9596923076111358\n",
      "Ti\n"
     ]
    },
    {
     "name": "stdout",
     "output_type": "stream",
     "text": [
      "0.932761519823495\n",
      "V\n"
     ]
    },
    {
     "name": "stdout",
     "output_type": "stream",
     "text": [
      "0.9135340378079243\n",
      "Cr\n"
     ]
    },
    {
     "name": "stdout",
     "output_type": "stream",
     "text": [
      "0.8790490729915326\n",
      "Mn\n"
     ]
    },
    {
     "name": "stdout",
     "output_type": "stream",
     "text": [
      "0.8901713673732374\n",
      "Fe\n"
     ]
    },
    {
     "name": "stdout",
     "output_type": "stream",
     "text": [
      "0.8550707195065754\n",
      "Co\n"
     ]
    },
    {
     "name": "stdout",
     "output_type": "stream",
     "text": [
      "0.8107314720336205\n",
      "Ni\n"
     ]
    },
    {
     "name": "stdout",
     "output_type": "stream",
     "text": [
      "0.8222230557277879\n",
      "Cu\n"
     ]
    },
    {
     "name": "stdout",
     "output_type": "stream",
     "text": [
      "0.8187817703417354\n",
      "Zn\n"
     ]
    },
    {
     "name": "stdout",
     "output_type": "stream",
     "text": [
      "0.7056022969688938\n",
      "Ga\n"
     ]
    },
    {
     "name": "stdout",
     "output_type": "stream",
     "text": [
      "0.7351267145640987\n",
      "Ge\n"
     ]
    },
    {
     "name": "stdout",
     "output_type": "stream",
     "text": [
      "0.7516386298755937\n",
      "As\n"
     ]
    },
    {
     "name": "stdout",
     "output_type": "stream",
     "text": [
      "0.7096482058683548\n",
      "Se\n"
     ]
    },
    {
     "name": "stdout",
     "output_type": "stream",
     "text": [
      "0.7229198194313344\n",
      "Br\n"
     ]
    },
    {
     "name": "stdout",
     "output_type": "stream",
     "text": [
      "0.7387442000620583\n",
      "Kr\n"
     ]
    },
    {
     "name": "stdout",
     "output_type": "stream",
     "text": [
      "0.7630403815123584\n",
      "Rb\n"
     ]
    },
    {
     "name": "stdout",
     "output_type": "stream",
     "text": [
      "0.9184392150683277\n",
      "Sr\n"
     ]
    },
    {
     "name": "stdout",
     "output_type": "stream",
     "text": [
      "0.9657040279831711\n",
      "Y\n"
     ]
    },
    {
     "name": "stdout",
     "output_type": "stream",
     "text": [
      "0.9804575825244594\n",
      "Zr\n"
     ]
    },
    {
     "name": "stdout",
     "output_type": "stream",
     "text": [
      "0.944006876541516\n",
      "Nb\n"
     ]
    },
    {
     "name": "stdout",
     "output_type": "stream",
     "text": [
      "0.9160133513055991\n",
      "Mo\n"
     ]
    },
    {
     "name": "stdout",
     "output_type": "stream",
     "text": [
      "0.8886558232856565\n",
      "Tc\n"
     ]
    },
    {
     "name": "stdout",
     "output_type": "stream",
     "text": [
      "0.8195432205458594\n",
      "Ru\n"
     ]
    },
    {
     "name": "stdout",
     "output_type": "stream",
     "text": [
      "0.7892939372608762\n",
      "Rh\n"
     ]
    },
    {
     "name": "stdout",
     "output_type": "stream",
     "text": [
      "0.7254942786198518\n",
      "Pd\n"
     ]
    },
    {
     "name": "stdout",
     "output_type": "stream",
     "text": [
      "0.7974855883326835\n",
      "Ag\n"
     ]
    },
    {
     "name": "stdout",
     "output_type": "stream",
     "text": [
      "0.7507314155734381\n",
      "Cd\n"
     ]
    },
    {
     "name": "stdout",
     "output_type": "stream",
     "text": [
      "0.7298491204092059\n",
      "In\n"
     ]
    },
    {
     "name": "stdout",
     "output_type": "stream",
     "text": [
      "0.7953594690973842\n",
      "Sn\n"
     ]
    },
    {
     "name": "stdout",
     "output_type": "stream",
     "text": [
      "0.7523718152724022\n",
      "Sb\n"
     ]
    },
    {
     "name": "stdout",
     "output_type": "stream",
     "text": [
      "0.7325600083700082\n",
      "Te\n"
     ]
    },
    {
     "name": "stdout",
     "output_type": "stream",
     "text": [
      "0.7377445721257567\n",
      "I\n"
     ]
    },
    {
     "name": "stdout",
     "output_type": "stream",
     "text": [
      "0.7139242511521848\n",
      "Xe\n"
     ]
    },
    {
     "name": "stdout",
     "output_type": "stream",
     "text": [
      "0.7638996750672428\n",
      "Cs\n"
     ]
    },
    {
     "name": "stdout",
     "output_type": "stream",
     "text": [
      "0.9217976907429088\n",
      "Ba\n"
     ]
    },
    {
     "name": "stdout",
     "output_type": "stream",
     "text": [
      "0.9654215840509556\n",
      "La\n"
     ]
    },
    {
     "name": "stdout",
     "output_type": "stream",
     "text": [
      "0.9984905651773154\n",
      "Ce\n"
     ]
    },
    {
     "name": "stdout",
     "output_type": "stream",
     "text": [
      "0.9989999997498749\n",
      "Pr\n"
     ]
    },
    {
     "name": "stdout",
     "output_type": "stream",
     "text": [
      "0.9944230079016011\n",
      "Nd\n"
     ]
    },
    {
     "name": "stdout",
     "output_type": "stream",
     "text": [
      "0.9954805032549571\n",
      "Pm\n"
     ]
    },
    {
     "name": "stdout",
     "output_type": "stream",
     "text": [
      "0.9504783484693857\n",
      "Sm\n"
     ]
    },
    {
     "name": "stdout",
     "output_type": "stream",
     "text": [
      "0.9954072430492079\n",
      "Eu\n"
     ]
    },
    {
     "name": "stdout",
     "output_type": "stream",
     "text": [
      "0.9758870120999864\n",
      "Gd\n"
     ]
    },
    {
     "name": "stdout",
     "output_type": "stream",
     "text": [
      "0.9898974225729122\n",
      "Tb\n"
     ]
    },
    {
     "name": "stdout",
     "output_type": "stream",
     "text": [
      "0.9290206574627613\n",
      "Dy\n"
     ]
    },
    {
     "name": "stdout",
     "output_type": "stream",
     "text": [
      "0.9950137466492321\n",
      "Ho\n"
     ]
    },
    {
     "name": "stdout",
     "output_type": "stream",
     "text": [
      "0.989539741873496\n",
      "Er\n"
     ]
    },
    {
     "name": "stdout",
     "output_type": "stream",
     "text": [
      "0.9903328886638143\n",
      "Tm\n"
     ]
    },
    {
     "name": "stdout",
     "output_type": "stream",
     "text": [
      "0.9898930589495133\n",
      "Yb\n"
     ]
    },
    {
     "name": "stdout",
     "output_type": "stream",
     "text": [
      "0.9853238612759665\n",
      "Lu\n"
     ]
    },
    {
     "name": "stdout",
     "output_type": "stream",
     "text": [
      "0.990262669718878\n",
      "Hf\n"
     ]
    },
    {
     "name": "stdout",
     "output_type": "stream",
     "text": [
      "0.9382053220702979\n",
      "Ta\n"
     ]
    },
    {
     "name": "stdout",
     "output_type": "stream",
     "text": [
      "0.914103706143666\n",
      "W\n"
     ]
    },
    {
     "name": "stdout",
     "output_type": "stream",
     "text": [
      "0.8546130254168797\n",
      "Re\n"
     ]
    },
    {
     "name": "stdout",
     "output_type": "stream",
     "text": [
      "0.8214429490345135\n",
      "Os\n"
     ]
    },
    {
     "name": "stdout",
     "output_type": "stream",
     "text": [
      "0.7393325524050351\n",
      "Ir\n"
     ]
    },
    {
     "name": "stdout",
     "output_type": "stream",
     "text": [
      "0.7000952316173374\n",
      "Pt\n"
     ]
    },
    {
     "name": "stdout",
     "output_type": "stream",
     "text": [
      "0.7434010324299909\n",
      "Au\n"
     ]
    },
    {
     "name": "stdout",
     "output_type": "stream",
     "text": [
      "0.7241650750700215\n",
      "Hg\n"
     ]
    },
    {
     "name": "stdout",
     "output_type": "stream",
     "text": [
      "0.6453837702455101\n",
      "Tl\n"
     ]
    },
    {
     "name": "stdout",
     "output_type": "stream",
     "text": [
      "0.7159100733440398\n",
      "Pb\n"
     ]
    },
    {
     "name": "stdout",
     "output_type": "stream",
     "text": [
      "0.6832916048207698\n",
      "Bi\n"
     ]
    },
    {
     "name": "stdout",
     "output_type": "stream",
     "text": [
      "0.7026221210364527\n",
      "Po\n"
     ]
    },
    {
     "name": "stdout",
     "output_type": "stream",
     "text": [
      "At\n"
     ]
    },
    {
     "name": "stdout",
     "output_type": "stream",
     "text": [
      "Rn\n"
     ]
    },
    {
     "name": "stdout",
     "output_type": "stream",
     "text": [
      "Fr\n"
     ]
    },
    {
     "name": "stdout",
     "output_type": "stream",
     "text": [
      "Ra\n"
     ]
    },
    {
     "name": "stdout",
     "output_type": "stream",
     "text": [
      "Ac\n"
     ]
    },
    {
     "name": "stdout",
     "output_type": "stream",
     "text": [
      "0.9673092905354088\n",
      "Th\n"
     ]
    },
    {
     "name": "stdout",
     "output_type": "stream",
     "text": [
      "0.9792405409484624\n",
      "Pa\n"
     ]
    },
    {
     "name": "stdout",
     "output_type": "stream",
     "text": [
      "0.9391982306837817\n",
      "U\n"
     ]
    },
    {
     "name": "stdout",
     "output_type": "stream",
     "text": [
      "0.9420226201436601\n",
      "Np\n"
     ]
    },
    {
     "name": "stdout",
     "output_type": "stream",
     "text": [
      "0.9289715930569447\n",
      "Pu\n"
     ]
    },
    {
     "name": "stdout",
     "output_type": "stream",
     "text": [
      "0.9736591972635508\n",
      "Am\n"
     ]
    },
    {
     "name": "stdout",
     "output_type": "stream",
     "text": [
      "Cm\n"
     ]
    },
    {
     "name": "stdout",
     "output_type": "stream",
     "text": [
      "Bk\n"
     ]
    },
    {
     "name": "stdout",
     "output_type": "stream",
     "text": [
      "Cf\n"
     ]
    },
    {
     "name": "stdout",
     "output_type": "stream",
     "text": [
      "Es\n"
     ]
    },
    {
     "name": "stdout",
     "output_type": "stream",
     "text": [
      "Fm\n"
     ]
    },
    {
     "name": "stdout",
     "output_type": "stream",
     "text": [
      "Md\n"
     ]
    },
    {
     "name": "stdout",
     "output_type": "stream",
     "text": [
      "No\n"
     ]
    },
    {
     "name": "stdout",
     "output_type": "stream",
     "text": [
      "Lr\n"
     ]
    },
    {
     "name": "stdout",
     "output_type": "stream",
     "text": [
      "CPU times: user 4min 19s, sys: 8.11 s, total: 4min 27s\n",
      "Wall time: 4min 29s\n"
     ]
    }
   ],
   "source": [
    "%%time\n",
    "dfc_stats = all_el_split(dtc)"
   ]
  },
  {
   "cell_type": "code",
   "execution_count": 37,
   "metadata": {},
   "outputs": [
    {
     "data": {
      "text/html": [
       "<div>\n",
       "<style>\n",
       "    .dataframe thead tr:only-child th {\n",
       "        text-align: right;\n",
       "    }\n",
       "\n",
       "    .dataframe thead th {\n",
       "        text-align: left;\n",
       "    }\n",
       "\n",
       "    .dataframe tbody tr th {\n",
       "        vertical-align: top;\n",
       "    }\n",
       "</style>\n",
       "<table border=\"1\" class=\"dataframe\">\n",
       "  <thead>\n",
       "    <tr style=\"text-align: right;\">\n",
       "      <th></th>\n",
       "      <th>H</th>\n",
       "      <th>He</th>\n",
       "      <th>Li</th>\n",
       "      <th>Be</th>\n",
       "      <th>B</th>\n",
       "      <th>C</th>\n",
       "      <th>N</th>\n",
       "      <th>O</th>\n",
       "      <th>F</th>\n",
       "      <th>Ne</th>\n",
       "      <th>...</th>\n",
       "      <th>Hg</th>\n",
       "      <th>Tl</th>\n",
       "      <th>Pb</th>\n",
       "      <th>Bi</th>\n",
       "      <th>Ac</th>\n",
       "      <th>Th</th>\n",
       "      <th>Pa</th>\n",
       "      <th>U</th>\n",
       "      <th>Np</th>\n",
       "      <th>Pu</th>\n",
       "    </tr>\n",
       "  </thead>\n",
       "  <tbody>\n",
       "    <tr>\n",
       "      <th>r1</th>\n",
       "      <td>0.630139</td>\n",
       "      <td>0.755452</td>\n",
       "      <td>0.958037</td>\n",
       "      <td>0.690002</td>\n",
       "      <td>0.742034</td>\n",
       "      <td>0.644468</td>\n",
       "      <td>0.599156</td>\n",
       "      <td>0.760581</td>\n",
       "      <td>0.705962</td>\n",
       "      <td>0.755452</td>\n",
       "      <td>...</td>\n",
       "      <td>0.645384</td>\n",
       "      <td>0.715910</td>\n",
       "      <td>0.683292</td>\n",
       "      <td>0.702622</td>\n",
       "      <td>0.967309</td>\n",
       "      <td>0.979241</td>\n",
       "      <td>0.939198</td>\n",
       "      <td>0.942023</td>\n",
       "      <td>0.928972</td>\n",
       "      <td>0.973659</td>\n",
       "    </tr>\n",
       "    <tr>\n",
       "      <th>r2</th>\n",
       "      <td>0.397075</td>\n",
       "      <td>0.570707</td>\n",
       "      <td>0.917836</td>\n",
       "      <td>0.476103</td>\n",
       "      <td>0.550614</td>\n",
       "      <td>0.415339</td>\n",
       "      <td>0.358987</td>\n",
       "      <td>0.578484</td>\n",
       "      <td>0.498382</td>\n",
       "      <td>0.570707</td>\n",
       "      <td>...</td>\n",
       "      <td>0.416520</td>\n",
       "      <td>0.512527</td>\n",
       "      <td>0.466887</td>\n",
       "      <td>0.493678</td>\n",
       "      <td>0.935687</td>\n",
       "      <td>0.958912</td>\n",
       "      <td>0.882093</td>\n",
       "      <td>0.887407</td>\n",
       "      <td>0.862988</td>\n",
       "      <td>0.948012</td>\n",
       "    </tr>\n",
       "  </tbody>\n",
       "</table>\n",
       "<p>2 rows × 89 columns</p>\n",
       "</div>"
      ],
      "text/plain": [
       "           H        He        Li        Be         B         C         N  \\\n",
       "r1  0.630139  0.755452  0.958037  0.690002  0.742034  0.644468  0.599156   \n",
       "r2  0.397075  0.570707  0.917836  0.476103  0.550614  0.415339  0.358987   \n",
       "\n",
       "           O         F        Ne    ...           Hg        Tl        Pb  \\\n",
       "r1  0.760581  0.705962  0.755452    ...     0.645384  0.715910  0.683292   \n",
       "r2  0.578484  0.498382  0.570707    ...     0.416520  0.512527  0.466887   \n",
       "\n",
       "          Bi        Ac        Th        Pa         U        Np        Pu  \n",
       "r1  0.702622  0.967309  0.979241  0.939198  0.942023  0.928972  0.973659  \n",
       "r2  0.493678  0.935687  0.958912  0.882093  0.887407  0.862988  0.948012  \n",
       "\n",
       "[2 rows x 89 columns]"
      ]
     },
     "execution_count": 37,
     "metadata": {},
     "output_type": "execute_result"
    }
   ],
   "source": [
    "dfc_stats"
   ]
  },
  {
   "cell_type": "code",
   "execution_count": 38,
   "metadata": {},
   "outputs": [
    {
     "data": {
      "text/plain": [
       "count    89.000000\n",
       "mean      0.839971\n",
       "std       0.115119\n",
       "min       0.599156\n",
       "25%       0.738744\n",
       "50%       0.821443\n",
       "75%       0.950478\n",
       "max       0.999000\n",
       "Name: r1, dtype: float64"
      ]
     },
     "execution_count": 38,
     "metadata": {},
     "output_type": "execute_result"
    }
   ],
   "source": [
    "dfc_stats.T['r1'].describe()"
   ]
  },
  {
   "cell_type": "code",
   "execution_count": 39,
   "metadata": {
    "collapsed": true
   },
   "outputs": [],
   "source": []
  }
 ],
 "metadata": {
  "kernelspec": {
   "display_name": "Python 3",
   "language": "python",
   "name": "python3"
  },
  "language_info": {
   "codemirror_mode": {
    "name": "ipython",
    "version": 3
   },
   "file_extension": ".py",
   "mimetype": "text/x-python",
   "name": "python",
   "nbconvert_exporter": "python",
   "pygments_lexer": "ipython3",
   "version": "3.6.0"
  }
 },
 "nbformat": 4,
 "nbformat_minor": 2
}
